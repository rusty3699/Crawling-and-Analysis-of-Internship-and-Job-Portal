{
 "cells": [
  {
   "cell_type": "markdown",
   "id": "b04c87e9",
   "metadata": {},
   "source": [
    "# Parse Web pages and extract content to CSV"
   ]
  },
  {
   "cell_type": "code",
   "execution_count": 1,
   "id": "78741340",
   "metadata": {
    "ExecuteTime": {
     "end_time": "2021-07-01T06:52:30.798003Z",
     "start_time": "2021-07-01T06:52:30.074510Z"
    }
   },
   "outputs": [],
   "source": [
    "from bs4 import BeautifulSoup\n",
    "import requests\n",
    "import lxml\n",
    "import time\n",
    "from selenium import webdriver\n",
    "import os\n",
    "import random\n",
    "import pyprind\n",
    "from pprint import pprint\n",
    "import pandas as pd"
   ]
  },
  {
   "cell_type": "code",
   "execution_count": 2,
   "id": "299c3d85",
   "metadata": {
    "ExecuteTime": {
     "end_time": "2021-07-01T06:52:34.356324Z",
     "start_time": "2021-07-01T06:52:34.127250Z"
    }
   },
   "outputs": [
    {
     "ename": "NameError",
     "evalue": "name 'soup' is not defined",
     "output_type": "error",
     "traceback": [
      "\u001b[0;31m---------------------------------------------------------------------------\u001b[0m",
      "\u001b[0;31mNameError\u001b[0m                                 Traceback (most recent call last)",
      "\u001b[0;32m<ipython-input-2-70a88cd817c4>\u001b[0m in \u001b[0;36m<module>\u001b[0;34m\u001b[0m\n\u001b[0;32m----> 1\u001b[0;31m \u001b[0mcontainer_node\u001b[0m \u001b[0;34m=\u001b[0m \u001b[0msoup\u001b[0m\u001b[0;34m.\u001b[0m\u001b[0mfind\u001b[0m\u001b[0;34m(\u001b[0m\u001b[0mclass_\u001b[0m\u001b[0;34m=\u001b[0m\u001b[0;34m[\u001b[0m\u001b[0;34m'detail_view'\u001b[0m\u001b[0;34m]\u001b[0m\u001b[0;34m)\u001b[0m\u001b[0;34m\u001b[0m\u001b[0;34m\u001b[0m\u001b[0m\n\u001b[0m\u001b[1;32m      2\u001b[0m \u001b[0mdetails_node\u001b[0m \u001b[0;34m=\u001b[0m \u001b[0mcontainer_node\u001b[0m\u001b[0;34m.\u001b[0m\u001b[0mfind\u001b[0m\u001b[0;34m(\u001b[0m\u001b[0mclass_\u001b[0m\u001b[0;34m=\u001b[0m\u001b[0;34m[\u001b[0m\u001b[0;34m'individual_internship'\u001b[0m\u001b[0;34m]\u001b[0m\u001b[0;34m)\u001b[0m\u001b[0;34m\u001b[0m\u001b[0;34m\u001b[0m\u001b[0m\n",
      "\u001b[0;31mNameError\u001b[0m: name 'soup' is not defined"
     ]
    }
   ],
   "source": [
    "container_node = soup.find(class_=['detail_view'])\n",
    "details_node = container_node.find(class_=['individual_internship'])"
   ]
  },
  {
   "cell_type": "code",
   "execution_count": 3,
   "id": "43bb7fc3",
   "metadata": {
    "ExecuteTime": {
     "end_time": "2021-07-01T06:52:38.395302Z",
     "start_time": "2021-07-01T06:52:38.391904Z"
    }
   },
   "outputs": [],
   "source": [
    "def get_domain_and_company(node):\n",
    "    company_node = node.find(class_=['company'])\n",
    "    domain_profile = company_node.select('.heading_4_5.profile')\n",
    "    company_name = company_node.select('.heading_6.company_name')\n",
    "    return {'domain_profile': domain_profile[0].text.strip(), 'company_name': company_name[0].text.strip()}"
   ]
  },
  {
   "cell_type": "code",
   "execution_count": 4,
   "id": "73cb49d0",
   "metadata": {
    "ExecuteTime": {
     "end_time": "2021-07-01T06:52:41.883502Z",
     "start_time": "2021-07-01T06:52:41.880113Z"
    }
   },
   "outputs": [],
   "source": [
    "DATA = dict()\n",
    "\n",
    "def store(key: str, value: str):\n",
    "    if(value is not None):\n",
    "        DATA[key.strip()] = value.strip()\n",
    "    else:\n",
    "        print('value is none')"
   ]
  },
  {
   "cell_type": "code",
   "execution_count": 5,
   "id": "ae3af8ac",
   "metadata": {
    "ExecuteTime": {
     "end_time": "2021-07-01T06:52:44.148472Z",
     "start_time": "2021-07-01T06:52:44.144543Z"
    }
   },
   "outputs": [],
   "source": [
    "def get_location(node):\n",
    "    internship_meta_node=node.find(class_='individual_internship_details')\n",
    "    location_link = internship_meta_node.select('.location_link')\n",
    "    if(len(location_link) > 0):\n",
    "        location = location_link[0].text\n",
    "        return {'location': location}\n",
    "    return None"
   ]
  },
  {
   "cell_type": "code",
   "execution_count": 6,
   "id": "201fa61a",
   "metadata": {
    "ExecuteTime": {
     "end_time": "2021-07-01T06:52:45.207381Z",
     "start_time": "2021-07-01T06:52:45.202010Z"
    }
   },
   "outputs": [],
   "source": [
    "def get_internship_metadata(node):\n",
    "    details_container = node.find(class_='internship_other_details_container')\n",
    "    details_node = node.find(class_=['individual_internship'])\n",
    "    rows_node = node.select('.other_detail_item ')\n",
    "    info = dict()\n",
    "    for node in rows_node:\n",
    "        head = node.find(class_='item_heading')\n",
    "        detail = node.find(class_='item_body')\n",
    "        store(head.text, detail.text)\n",
    "        if(head != None and detail != None):\n",
    "            info[head.text.strip()] = detail.text.strip()\n",
    "    num_applicatants = details_node.find(class_=['applications_message'])\n",
    "    if(num_applicatants):\n",
    "        info['applicants'] = num_applicatants.text\n",
    "    return info"
   ]
  },
  {
   "cell_type": "code",
   "execution_count": 16,
   "id": "5ca14b0b",
   "metadata": {
    "ExecuteTime": {
     "end_time": "2021-07-01T07:03:01.059184Z",
     "start_time": "2021-07-01T07:03:01.053718Z"
    }
   },
   "outputs": [],
   "source": [
    "def get_internship_details(node):\n",
    "    internship_details_node = node.find(class_='internship_details')\n",
    "    sections = internship_details_node.find_all('div')\n",
    "\n",
    "    contents = dict()\n",
    "    cur_key = ''\n",
    "    for node in sections:\n",
    "        attrs = node.attrs\n",
    "        if('class' in attrs):\n",
    "            if('section_heading' in attrs['class']):\n",
    "                cur_key = node.text.strip()\n",
    "                contents[cur_key] = []\n",
    "            if('text-container' in attrs['class'] or 'round_tabs_container' in attrs['class']):\n",
    "                contents[cur_key].append(node.text.strip())\n",
    "    old_key = list(contents.keys())[0]\n",
    "    contents['company_details'] = contents[old_key]\n",
    "    del contents[old_key]\n",
    "    for val in contents:\n",
    "        if type(contents[val]) is list:\n",
    "            contents[val] = ';'.join(contents[val])\n",
    "    return contents"
   ]
  },
  {
   "cell_type": "code",
   "execution_count": 17,
   "id": "b129c236",
   "metadata": {
    "ExecuteTime": {
     "end_time": "2021-07-01T07:04:08.770786Z",
     "start_time": "2021-07-01T07:03:02.479199Z"
    }
   },
   "outputs": [
    {
     "name": "stderr",
     "output_type": "stream",
     "text": [
      "0% [##############################] 100% | ETA: 00:00:00\n",
      "Total time elapsed: 00:01:06\n"
     ]
    }
   ],
   "source": [
    "# ROOT_PATH = '../raw/internshala/internship-pages'\n",
    "ROOT_PATH = '../raw/internshala-june/internship-pages'\n",
    "all_pages = os.listdir(ROOT_PATH)\n",
    "\n",
    "all_pages_data = []\n",
    "bar = pyprind.ProgBar(len(all_pages))\n",
    "for page_name in all_pages:\n",
    "#     try:\n",
    "    combined_path = ROOT_PATH + '/' + page_name\n",
    "    data = dict()\n",
    "    soup = BeautifulSoup(open(combined_path))\n",
    "    container_node = soup.find(class_=['detail_view'])\n",
    "    location = get_location(container_node)\n",
    "    dnc = get_domain_and_company(container_node)\n",
    "    details = get_internship_details(container_node)\n",
    "    metadata = get_internship_metadata(container_node)\n",
    "    data.update(location)\n",
    "    data.update(dnc)\n",
    "    data.update(details)\n",
    "    data.update(metadata)\n",
    "    all_pages_data.append(data)\n",
    "# except Exception as e:\n",
    "#         print('Exception = ' + str(e))\n",
    "    bar.update()\n",
    "# print(bar)"
   ]
  },
  {
   "cell_type": "code",
   "execution_count": 18,
   "id": "58015fe4",
   "metadata": {
    "ExecuteTime": {
     "end_time": "2021-07-01T07:05:37.290250Z",
     "start_time": "2021-07-01T07:05:37.280968Z"
    }
   },
   "outputs": [
    {
     "data": {
      "text/plain": [
       "{'',\n",
       " 'About part time job/internship',\n",
       " 'About the internship',\n",
       " 'About the work from home job/internship',\n",
       " 'Additional Information',\n",
       " 'Apply By',\n",
       " 'Duration',\n",
       " 'Number of openings',\n",
       " 'Other requirements',\n",
       " 'Perks',\n",
       " 'Skill(s) required',\n",
       " 'Start Date',\n",
       " 'Stipend',\n",
       " 'Who can apply',\n",
       " 'applicants',\n",
       " 'company_details',\n",
       " 'company_name',\n",
       " 'domain_profile',\n",
       " 'location'}"
      ]
     },
     "execution_count": 18,
     "metadata": {},
     "output_type": "execute_result"
    }
   ],
   "source": [
    "s = set()\n",
    "for x in all_pages_data:\n",
    "    for k in x.keys():\n",
    "        s.add(k)\n",
    "        \n",
    "s"
   ]
  },
  {
   "cell_type": "markdown",
   "id": "08244781",
   "metadata": {},
   "source": [
    "## Panda Time\n",
    "\n",
    "+ load list of dictionary as pandas dataframe\n",
    "+ light clean up of data\n",
    "    + rename columns to something more meaningful\n",
    "    + standardise column name casing\n",
    "    + replace '\\n' with ',' in skills\n",
    "+ export to csv"
   ]
  },
  {
   "cell_type": "code",
   "execution_count": 19,
   "id": "fb9fea27",
   "metadata": {
    "ExecuteTime": {
     "end_time": "2021-07-01T07:05:40.642176Z",
     "start_time": "2021-07-01T07:05:40.624159Z"
    }
   },
   "outputs": [],
   "source": [
    "df = pd.DataFrame(all_pages_data)"
   ]
  },
  {
   "cell_type": "code",
   "execution_count": 20,
   "id": "bcb29785",
   "metadata": {
    "ExecuteTime": {
     "end_time": "2021-07-01T07:05:42.133236Z",
     "start_time": "2021-07-01T07:05:42.106380Z"
    }
   },
   "outputs": [
    {
     "data": {
      "text/html": [
       "<div>\n",
       "<style scoped>\n",
       "    .dataframe tbody tr th:only-of-type {\n",
       "        vertical-align: middle;\n",
       "    }\n",
       "\n",
       "    .dataframe tbody tr th {\n",
       "        vertical-align: top;\n",
       "    }\n",
       "\n",
       "    .dataframe thead th {\n",
       "        text-align: right;\n",
       "    }\n",
       "</style>\n",
       "<table border=\"1\" class=\"dataframe\">\n",
       "  <thead>\n",
       "    <tr style=\"text-align: right;\">\n",
       "      <th></th>\n",
       "      <th>location</th>\n",
       "      <th>domain_profile</th>\n",
       "      <th>company_name</th>\n",
       "      <th>About the work from home job/internship</th>\n",
       "      <th>Skill(s) required</th>\n",
       "      <th>Who can apply</th>\n",
       "      <th>Perks</th>\n",
       "      <th>Number of openings</th>\n",
       "      <th>company_details</th>\n",
       "      <th>Start Date</th>\n",
       "      <th>Duration</th>\n",
       "      <th>Stipend</th>\n",
       "      <th>Apply By</th>\n",
       "      <th>applicants</th>\n",
       "      <th>Other requirements</th>\n",
       "      <th>About the internship</th>\n",
       "      <th>Additional Information</th>\n",
       "      <th></th>\n",
       "      <th>About part time job/internship</th>\n",
       "    </tr>\n",
       "  </thead>\n",
       "  <tbody>\n",
       "    <tr>\n",
       "      <th>0</th>\n",
       "      <td>Work From Home</td>\n",
       "      <td>Web Development</td>\n",
       "      <td>Perfect Skills</td>\n",
       "      <td>Selected intern's day-to-day responsibilities ...</td>\n",
       "      <td>PHP\\nHTML\\nCSS\\nJavaScript\\nPython\\nWordPress</td>\n",
       "      <td>Only those candidates can apply who:\\n1. are a...</td>\n",
       "      <td>Certificate\\n Letter of recommendation\\n Flexi...</td>\n",
       "      <td>2</td>\n",
       "      <td>Website;Perfect Skills is committed to helping...</td>\n",
       "      <td>Starts immediatelyImmediately</td>\n",
       "      <td>4 Months</td>\n",
       "      <td>5000 /month</td>\n",
       "      <td>14 Jul' 21</td>\n",
       "      <td>46 applicants</td>\n",
       "      <td>NaN</td>\n",
       "      <td>NaN</td>\n",
       "      <td>NaN</td>\n",
       "      <td>NaN</td>\n",
       "      <td>NaN</td>\n",
       "    </tr>\n",
       "    <tr>\n",
       "      <th>1</th>\n",
       "      <td>Work From Home</td>\n",
       "      <td>Web Development</td>\n",
       "      <td>Geekster</td>\n",
       "      <td>Selected intern's day-to-day responsibilities ...</td>\n",
       "      <td>HTML\\nCSS\\nJavaScript\\nAngularJS\\nNode.js\\nRea...</td>\n",
       "      <td>Only those candidates can apply who:\\n1. are a...</td>\n",
       "      <td>Certificate\\n Flexible work hours</td>\n",
       "      <td>1</td>\n",
       "      <td>Website;Geekster is on a mission to redefine t...</td>\n",
       "      <td>Starts immediatelyImmediately</td>\n",
       "      <td>3 Months</td>\n",
       "      <td>15000 /month</td>\n",
       "      <td>13 Jul' 21</td>\n",
       "      <td>53 applicants</td>\n",
       "      <td>1. Should have hands-on experience with Node.j...</td>\n",
       "      <td>NaN</td>\n",
       "      <td>NaN</td>\n",
       "      <td>NaN</td>\n",
       "      <td>NaN</td>\n",
       "    </tr>\n",
       "    <tr>\n",
       "      <th>2</th>\n",
       "      <td>Work From Home</td>\n",
       "      <td>Backend Development</td>\n",
       "      <td>Global Free School</td>\n",
       "      <td>Selected intern's day-to-day responsibilities ...</td>\n",
       "      <td>PHP\\nMySQL\\nHTML\\nCSS\\nJavaScript\\njQuery\\nCod...</td>\n",
       "      <td>Only those candidates can apply who:\\n1. are a...</td>\n",
       "      <td>Certificate\\n Letter of recommendation</td>\n",
       "      <td>2</td>\n",
       "      <td>Website;We are a team of IIT graduates working...</td>\n",
       "      <td>Starts immediatelyImmediately</td>\n",
       "      <td>6 Months</td>\n",
       "      <td>10000 /month</td>\n",
       "      <td>4 Jul' 21</td>\n",
       "      <td>54 applicants</td>\n",
       "      <td>NaN</td>\n",
       "      <td>NaN</td>\n",
       "      <td>NaN</td>\n",
       "      <td>NaN</td>\n",
       "      <td>NaN</td>\n",
       "    </tr>\n",
       "  </tbody>\n",
       "</table>\n",
       "</div>"
      ],
      "text/plain": [
       "         location       domain_profile        company_name  \\\n",
       "0  Work From Home      Web Development      Perfect Skills   \n",
       "1  Work From Home      Web Development            Geekster   \n",
       "2  Work From Home  Backend Development  Global Free School   \n",
       "\n",
       "             About the work from home job/internship  \\\n",
       "0  Selected intern's day-to-day responsibilities ...   \n",
       "1  Selected intern's day-to-day responsibilities ...   \n",
       "2  Selected intern's day-to-day responsibilities ...   \n",
       "\n",
       "                                   Skill(s) required  \\\n",
       "0      PHP\\nHTML\\nCSS\\nJavaScript\\nPython\\nWordPress   \n",
       "1  HTML\\nCSS\\nJavaScript\\nAngularJS\\nNode.js\\nRea...   \n",
       "2  PHP\\nMySQL\\nHTML\\nCSS\\nJavaScript\\njQuery\\nCod...   \n",
       "\n",
       "                                       Who can apply  \\\n",
       "0  Only those candidates can apply who:\\n1. are a...   \n",
       "1  Only those candidates can apply who:\\n1. are a...   \n",
       "2  Only those candidates can apply who:\\n1. are a...   \n",
       "\n",
       "                                               Perks Number of openings  \\\n",
       "0  Certificate\\n Letter of recommendation\\n Flexi...                  2   \n",
       "1                  Certificate\\n Flexible work hours                  1   \n",
       "2             Certificate\\n Letter of recommendation                  2   \n",
       "\n",
       "                                     company_details  \\\n",
       "0  Website;Perfect Skills is committed to helping...   \n",
       "1  Website;Geekster is on a mission to redefine t...   \n",
       "2  Website;We are a team of IIT graduates working...   \n",
       "\n",
       "                      Start Date  Duration       Stipend    Apply By  \\\n",
       "0  Starts immediatelyImmediately  4 Months   5000 /month  14 Jul' 21   \n",
       "1  Starts immediatelyImmediately  3 Months  15000 /month  13 Jul' 21   \n",
       "2  Starts immediatelyImmediately  6 Months  10000 /month   4 Jul' 21   \n",
       "\n",
       "      applicants                                 Other requirements  \\\n",
       "0  46 applicants                                                NaN   \n",
       "1  53 applicants  1. Should have hands-on experience with Node.j...   \n",
       "2  54 applicants                                                NaN   \n",
       "\n",
       "  About the internship Additional Information       \\\n",
       "0                  NaN                    NaN  NaN   \n",
       "1                  NaN                    NaN  NaN   \n",
       "2                  NaN                    NaN  NaN   \n",
       "\n",
       "  About part time job/internship  \n",
       "0                            NaN  \n",
       "1                            NaN  \n",
       "2                            NaN  "
      ]
     },
     "execution_count": 20,
     "metadata": {},
     "output_type": "execute_result"
    }
   ],
   "source": [
    "df.head(3)"
   ]
  },
  {
   "cell_type": "markdown",
   "id": "c3de9a46",
   "metadata": {},
   "source": [
    "##### Replace '' with 'is_part_time'"
   ]
  },
  {
   "cell_type": "code",
   "execution_count": 23,
   "id": "46cb22db",
   "metadata": {
    "ExecuteTime": {
     "end_time": "2021-07-01T07:06:43.546534Z",
     "start_time": "2021-07-01T07:06:43.542287Z"
    }
   },
   "outputs": [
    {
     "data": {
      "text/plain": [
       "Index(['location', 'domain_profile', 'company_name',\n",
       "       'About the work from home job/internship', 'Skill(s) required',\n",
       "       'Who can apply', 'Perks', 'Number of openings', 'company_details',\n",
       "       'Start Date', 'Duration', 'Stipend', 'Apply By', 'applicants',\n",
       "       'Other requirements', 'About the internship', 'Additional Information',\n",
       "       '', 'About part time job/internship'],\n",
       "      dtype='object')"
      ]
     },
     "execution_count": 23,
     "metadata": {},
     "output_type": "execute_result"
    }
   ],
   "source": [
    "df.columns # notice column name with name as '' (empty). Rename that to is_part_time"
   ]
  },
  {
   "cell_type": "code",
   "execution_count": 24,
   "id": "3db3671f",
   "metadata": {
    "ExecuteTime": {
     "end_time": "2021-07-01T07:06:46.069314Z",
     "start_time": "2021-07-01T07:06:46.063432Z"
    }
   },
   "outputs": [],
   "source": [
    "df.rename(columns={'':'is_part_time'}, inplace=True)"
   ]
  },
  {
   "cell_type": "code",
   "execution_count": 25,
   "id": "3a6a111d",
   "metadata": {
    "ExecuteTime": {
     "end_time": "2021-07-01T07:06:49.382215Z",
     "start_time": "2021-07-01T07:06:49.375477Z"
    }
   },
   "outputs": [],
   "source": [
    "df.is_part_time = df.is_part_time.fillna(0) # replace NA with 0\n",
    "df.is_part_time = df.is_part_time.replace('Part time allowed', 1) # otherwise 1"
   ]
  },
  {
   "cell_type": "code",
   "execution_count": null,
   "id": "9cccb972",
   "metadata": {},
   "outputs": [],
   "source": []
  },
  {
   "cell_type": "markdown",
   "id": "47bed008",
   "metadata": {
    "ExecuteTime": {
     "end_time": "2021-06-01T13:18:42.623421Z",
     "start_time": "2021-06-01T13:18:42.621129Z"
    }
   },
   "source": [
    "##### Fixing Columns Name Casings"
   ]
  },
  {
   "cell_type": "code",
   "execution_count": 26,
   "id": "43252951",
   "metadata": {
    "ExecuteTime": {
     "end_time": "2021-07-01T07:07:08.239440Z",
     "start_time": "2021-07-01T07:07:08.232386Z"
    }
   },
   "outputs": [
    {
     "name": "stdout",
     "output_type": "stream",
     "text": [
      "[('location', 'location'),\n",
      " ('domain_profile', 'domain_profile'),\n",
      " ('company_name', 'company_name'),\n",
      " ('About the work from home job/internship',\n",
      "  'about_the_work_from_home_job/internship'),\n",
      " ('Skill(s) required', 'skill(s)_required'),\n",
      " ('Who can apply', 'who_can_apply'),\n",
      " ('Perks', 'perks'),\n",
      " ('Number of openings', 'number_of_openings'),\n",
      " ('company_details', 'company_details'),\n",
      " ('Start Date', 'start_date'),\n",
      " ('Duration', 'duration'),\n",
      " ('Stipend', 'stipend'),\n",
      " ('Apply By', 'apply_by'),\n",
      " ('applicants', 'applicants'),\n",
      " ('Other requirements', 'other_requirements'),\n",
      " ('About the internship', 'about_the_internship'),\n",
      " ('Additional Information', 'additional_information'),\n",
      " ('is_part_time', 'is_part_time'),\n",
      " ('About part time job/internship', 'about_part_time_job/internship')]\n",
      "\n",
      "\n",
      "columns as dict\n",
      "\n",
      "\n",
      "{'About part time job/internship': 'about_part_time_job/internship',\n",
      " 'About the internship': 'about_the_internship',\n",
      " 'About the work from home job/internship': 'about_the_work_from_home_job/internship',\n",
      " 'Additional Information': 'additional_information',\n",
      " 'Apply By': 'apply_by',\n",
      " 'Duration': 'duration',\n",
      " 'Number of openings': 'number_of_openings',\n",
      " 'Other requirements': 'other_requirements',\n",
      " 'Perks': 'perks',\n",
      " 'Skill(s) required': 'skill(s)_required',\n",
      " 'Start Date': 'start_date',\n",
      " 'Stipend': 'stipend',\n",
      " 'Who can apply': 'who_can_apply',\n",
      " 'applicants': 'applicants',\n",
      " 'company_details': 'company_details',\n",
      " 'company_name': 'company_name',\n",
      " 'domain_profile': 'domain_profile',\n",
      " 'is_part_time': 'is_part_time',\n",
      " 'location': 'location'}\n"
     ]
    }
   ],
   "source": [
    "# Logic for conversion: replace spaces with '_' and lowercase the entire string\n",
    "columns_revision = [(i, i.replace(' ','_').lower()) for i in df.columns.to_list()]\n",
    "old_n_new_columns = {conv[0]:conv[1] for conv in columns_revision}\n",
    "pprint(columns_revision)\n",
    "print('\\n\\ncolumns as dict\\n\\n')\n",
    "pprint(old_n_new_columns)"
   ]
  },
  {
   "cell_type": "code",
   "execution_count": 27,
   "id": "57258be2",
   "metadata": {
    "ExecuteTime": {
     "end_time": "2021-07-01T07:07:17.916135Z",
     "start_time": "2021-07-01T07:07:17.888765Z"
    }
   },
   "outputs": [
    {
     "data": {
      "text/html": [
       "<div>\n",
       "<style scoped>\n",
       "    .dataframe tbody tr th:only-of-type {\n",
       "        vertical-align: middle;\n",
       "    }\n",
       "\n",
       "    .dataframe tbody tr th {\n",
       "        vertical-align: top;\n",
       "    }\n",
       "\n",
       "    .dataframe thead th {\n",
       "        text-align: right;\n",
       "    }\n",
       "</style>\n",
       "<table border=\"1\" class=\"dataframe\">\n",
       "  <thead>\n",
       "    <tr style=\"text-align: right;\">\n",
       "      <th></th>\n",
       "      <th>location</th>\n",
       "      <th>domain_profile</th>\n",
       "      <th>company_name</th>\n",
       "      <th>about_the_work_from_home_job/internship</th>\n",
       "      <th>skill(s)_required</th>\n",
       "      <th>who_can_apply</th>\n",
       "      <th>perks</th>\n",
       "      <th>number_of_openings</th>\n",
       "      <th>company_details</th>\n",
       "      <th>start_date</th>\n",
       "      <th>duration</th>\n",
       "      <th>stipend</th>\n",
       "      <th>apply_by</th>\n",
       "      <th>applicants</th>\n",
       "      <th>other_requirements</th>\n",
       "      <th>about_the_internship</th>\n",
       "      <th>additional_information</th>\n",
       "      <th>is_part_time</th>\n",
       "      <th>about_part_time_job/internship</th>\n",
       "    </tr>\n",
       "  </thead>\n",
       "  <tbody>\n",
       "    <tr>\n",
       "      <th>0</th>\n",
       "      <td>Work From Home</td>\n",
       "      <td>Web Development</td>\n",
       "      <td>Perfect Skills</td>\n",
       "      <td>Selected intern's day-to-day responsibilities ...</td>\n",
       "      <td>PHP\\nHTML\\nCSS\\nJavaScript\\nPython\\nWordPress</td>\n",
       "      <td>Only those candidates can apply who:\\n1. are a...</td>\n",
       "      <td>Certificate\\n Letter of recommendation\\n Flexi...</td>\n",
       "      <td>2</td>\n",
       "      <td>Website;Perfect Skills is committed to helping...</td>\n",
       "      <td>Starts immediatelyImmediately</td>\n",
       "      <td>4 Months</td>\n",
       "      <td>5000 /month</td>\n",
       "      <td>14 Jul' 21</td>\n",
       "      <td>46 applicants</td>\n",
       "      <td>NaN</td>\n",
       "      <td>NaN</td>\n",
       "      <td>NaN</td>\n",
       "      <td>0</td>\n",
       "      <td>NaN</td>\n",
       "    </tr>\n",
       "    <tr>\n",
       "      <th>1</th>\n",
       "      <td>Work From Home</td>\n",
       "      <td>Web Development</td>\n",
       "      <td>Geekster</td>\n",
       "      <td>Selected intern's day-to-day responsibilities ...</td>\n",
       "      <td>HTML\\nCSS\\nJavaScript\\nAngularJS\\nNode.js\\nRea...</td>\n",
       "      <td>Only those candidates can apply who:\\n1. are a...</td>\n",
       "      <td>Certificate\\n Flexible work hours</td>\n",
       "      <td>1</td>\n",
       "      <td>Website;Geekster is on a mission to redefine t...</td>\n",
       "      <td>Starts immediatelyImmediately</td>\n",
       "      <td>3 Months</td>\n",
       "      <td>15000 /month</td>\n",
       "      <td>13 Jul' 21</td>\n",
       "      <td>53 applicants</td>\n",
       "      <td>1. Should have hands-on experience with Node.j...</td>\n",
       "      <td>NaN</td>\n",
       "      <td>NaN</td>\n",
       "      <td>0</td>\n",
       "      <td>NaN</td>\n",
       "    </tr>\n",
       "    <tr>\n",
       "      <th>2</th>\n",
       "      <td>Work From Home</td>\n",
       "      <td>Backend Development</td>\n",
       "      <td>Global Free School</td>\n",
       "      <td>Selected intern's day-to-day responsibilities ...</td>\n",
       "      <td>PHP\\nMySQL\\nHTML\\nCSS\\nJavaScript\\njQuery\\nCod...</td>\n",
       "      <td>Only those candidates can apply who:\\n1. are a...</td>\n",
       "      <td>Certificate\\n Letter of recommendation</td>\n",
       "      <td>2</td>\n",
       "      <td>Website;We are a team of IIT graduates working...</td>\n",
       "      <td>Starts immediatelyImmediately</td>\n",
       "      <td>6 Months</td>\n",
       "      <td>10000 /month</td>\n",
       "      <td>4 Jul' 21</td>\n",
       "      <td>54 applicants</td>\n",
       "      <td>NaN</td>\n",
       "      <td>NaN</td>\n",
       "      <td>NaN</td>\n",
       "      <td>0</td>\n",
       "      <td>NaN</td>\n",
       "    </tr>\n",
       "    <tr>\n",
       "      <th>3</th>\n",
       "      <td>Mumbai</td>\n",
       "      <td>Web Development</td>\n",
       "      <td>Knitroot India Private Limited</td>\n",
       "      <td>NaN</td>\n",
       "      <td>WordPress</td>\n",
       "      <td>Only those candidates can apply who:\\n1. are a...</td>\n",
       "      <td>Certificate\\n Letter of recommendation\\n Flexi...</td>\n",
       "      <td>1</td>\n",
       "      <td>Website;We specialize in occasion-based mercha...</td>\n",
       "      <td>Starts immediatelyImmediately</td>\n",
       "      <td>1 Month</td>\n",
       "      <td>5000 /month</td>\n",
       "      <td>13 Jul' 21</td>\n",
       "      <td>38 applicants</td>\n",
       "      <td>1. Candidates who have experience of 1 year in...</td>\n",
       "      <td>Selected intern's day-to-day responsibilities ...</td>\n",
       "      <td>NaN</td>\n",
       "      <td>0</td>\n",
       "      <td>NaN</td>\n",
       "    </tr>\n",
       "    <tr>\n",
       "      <th>4</th>\n",
       "      <td>Work From Home</td>\n",
       "      <td>Web Development</td>\n",
       "      <td>FitnessForce</td>\n",
       "      <td>Selected intern's day-to-day responsibilities ...</td>\n",
       "      <td>Python\\nNode.js\\nReactJS</td>\n",
       "      <td>Only those candidates can apply who:\\n1. are a...</td>\n",
       "      <td>Letter of recommendation\\n Flexible work hours...</td>\n",
       "      <td>2</td>\n",
       "      <td>Website;FitnessForce is a SaaS-based CRM club ...</td>\n",
       "      <td>Starts immediatelyImmediately</td>\n",
       "      <td>6 Months</td>\n",
       "      <td>10000 /month</td>\n",
       "      <td>5 Jul' 21</td>\n",
       "      <td>66 applicants</td>\n",
       "      <td>1. Looking for a fresher computer programmer i...</td>\n",
       "      <td>NaN</td>\n",
       "      <td>NaN</td>\n",
       "      <td>0</td>\n",
       "      <td>NaN</td>\n",
       "    </tr>\n",
       "    <tr>\n",
       "      <th>...</th>\n",
       "      <td>...</td>\n",
       "      <td>...</td>\n",
       "      <td>...</td>\n",
       "      <td>...</td>\n",
       "      <td>...</td>\n",
       "      <td>...</td>\n",
       "      <td>...</td>\n",
       "      <td>...</td>\n",
       "      <td>...</td>\n",
       "      <td>...</td>\n",
       "      <td>...</td>\n",
       "      <td>...</td>\n",
       "      <td>...</td>\n",
       "      <td>...</td>\n",
       "      <td>...</td>\n",
       "      <td>...</td>\n",
       "      <td>...</td>\n",
       "      <td>...</td>\n",
       "      <td>...</td>\n",
       "    </tr>\n",
       "    <tr>\n",
       "      <th>1208</th>\n",
       "      <td>Mumbai</td>\n",
       "      <td>Odoo Development</td>\n",
       "      <td>Best Roadways Limited</td>\n",
       "      <td>NaN</td>\n",
       "      <td>Odoo</td>\n",
       "      <td>Only those candidates can apply who:\\n1. are a...</td>\n",
       "      <td>Certificate</td>\n",
       "      <td>1</td>\n",
       "      <td>Website;Best Roadways was founded in 1985 with...</td>\n",
       "      <td>Starts immediatelyImmediately</td>\n",
       "      <td>3 Months</td>\n",
       "      <td>10000 /month</td>\n",
       "      <td>2 Jul' 21</td>\n",
       "      <td>Be an early applicant</td>\n",
       "      <td>1. Must have strong knowledge of Odoo</td>\n",
       "      <td>Selected intern's day-to-day responsibilities ...</td>\n",
       "      <td>NaN</td>\n",
       "      <td>0</td>\n",
       "      <td>NaN</td>\n",
       "    </tr>\n",
       "    <tr>\n",
       "      <th>1209</th>\n",
       "      <td>Work From Home</td>\n",
       "      <td>Web Development</td>\n",
       "      <td>Dot2Globe Solutions India Private Limited</td>\n",
       "      <td>Selected intern's day-to-day responsibilities ...</td>\n",
       "      <td>HTML\\nCSS\\nJavaScript\\nUI &amp; UX Design\\nFigma</td>\n",
       "      <td>Only those candidates can apply who:\\n1. are a...</td>\n",
       "      <td>Certificate\\n 5 days a week</td>\n",
       "      <td>1</td>\n",
       "      <td>Website;Dot2Globe Solutions is a start-up orga...</td>\n",
       "      <td>Starts immediatelyImmediately</td>\n",
       "      <td>3 Months</td>\n",
       "      <td>5000-8000 /month</td>\n",
       "      <td>14 Jul' 21</td>\n",
       "      <td>29 applicants</td>\n",
       "      <td>1. Must have worked as UI/UX design intern (wi...</td>\n",
       "      <td>NaN</td>\n",
       "      <td>Note: Extension of internship/offer of full-ti...</td>\n",
       "      <td>0</td>\n",
       "      <td>NaN</td>\n",
       "    </tr>\n",
       "    <tr>\n",
       "      <th>1210</th>\n",
       "      <td>Work From Home</td>\n",
       "      <td>Web Development</td>\n",
       "      <td>TikiLIVE</td>\n",
       "      <td>Selected intern's day-to-day responsibilities ...</td>\n",
       "      <td>NaN</td>\n",
       "      <td>Only those candidates can apply who:\\n1. are a...</td>\n",
       "      <td>Certificate\\n Letter of recommendation</td>\n",
       "      <td>3</td>\n",
       "      <td>Website;We make OTT delivery solutions worldwi...</td>\n",
       "      <td>Starts immediatelyImmediately</td>\n",
       "      <td>1 Month</td>\n",
       "      <td>20000 /month</td>\n",
       "      <td>2 Jul' 21</td>\n",
       "      <td>391 applicants</td>\n",
       "      <td>NaN</td>\n",
       "      <td>NaN</td>\n",
       "      <td>NaN</td>\n",
       "      <td>1</td>\n",
       "      <td>NaN</td>\n",
       "    </tr>\n",
       "    <tr>\n",
       "      <th>1211</th>\n",
       "      <td>Work From Home</td>\n",
       "      <td>Web Development</td>\n",
       "      <td>Success Genix</td>\n",
       "      <td>Selected intern's day-to-day responsibilities ...</td>\n",
       "      <td>HTML\\nCSS\\nREST API\\nReactJS\\nAmazon Web Serve...</td>\n",
       "      <td>Only those candidates can apply who:\\n1. are a...</td>\n",
       "      <td>Certificate\\n Letter of recommendation\\n Flexi...</td>\n",
       "      <td>2</td>\n",
       "      <td>Success Genix is a team of people that make ou...</td>\n",
       "      <td>Starts immediatelyImmediately</td>\n",
       "      <td>2 Months</td>\n",
       "      <td>3000 /month</td>\n",
       "      <td>6 Jul' 21</td>\n",
       "      <td>100 applicants</td>\n",
       "      <td>NaN</td>\n",
       "      <td>NaN</td>\n",
       "      <td>NaN</td>\n",
       "      <td>1</td>\n",
       "      <td>NaN</td>\n",
       "    </tr>\n",
       "    <tr>\n",
       "      <th>1212</th>\n",
       "      <td>Gurgaon</td>\n",
       "      <td>Software Development</td>\n",
       "      <td>ClicFlyer</td>\n",
       "      <td>NaN</td>\n",
       "      <td>NaN</td>\n",
       "      <td>Only those candidates can apply who:\\n1. are a...</td>\n",
       "      <td>Job offer</td>\n",
       "      <td>4</td>\n",
       "      <td>Website;ClicFlyer is a product of Bodmas Techn...</td>\n",
       "      <td>Starts immediatelyImmediately</td>\n",
       "      <td>3 Months</td>\n",
       "      <td>25000 /month</td>\n",
       "      <td>13 Jul' 21</td>\n",
       "      <td>116 applicants</td>\n",
       "      <td>1. Should be skilled at MS-Excel and SQL</td>\n",
       "      <td>Selected intern's day-to-day responsibilities ...</td>\n",
       "      <td>NaN</td>\n",
       "      <td>0</td>\n",
       "      <td>NaN</td>\n",
       "    </tr>\n",
       "  </tbody>\n",
       "</table>\n",
       "<p>1213 rows × 19 columns</p>\n",
       "</div>"
      ],
      "text/plain": [
       "            location        domain_profile  \\\n",
       "0     Work From Home       Web Development   \n",
       "1     Work From Home       Web Development   \n",
       "2     Work From Home   Backend Development   \n",
       "3             Mumbai       Web Development   \n",
       "4     Work From Home       Web Development   \n",
       "...              ...                   ...   \n",
       "1208          Mumbai      Odoo Development   \n",
       "1209  Work From Home       Web Development   \n",
       "1210  Work From Home       Web Development   \n",
       "1211  Work From Home       Web Development   \n",
       "1212         Gurgaon  Software Development   \n",
       "\n",
       "                                   company_name  \\\n",
       "0                                Perfect Skills   \n",
       "1                                      Geekster   \n",
       "2                            Global Free School   \n",
       "3                Knitroot India Private Limited   \n",
       "4                                  FitnessForce   \n",
       "...                                         ...   \n",
       "1208                      Best Roadways Limited   \n",
       "1209  Dot2Globe Solutions India Private Limited   \n",
       "1210                                   TikiLIVE   \n",
       "1211                              Success Genix   \n",
       "1212                                  ClicFlyer   \n",
       "\n",
       "                about_the_work_from_home_job/internship  \\\n",
       "0     Selected intern's day-to-day responsibilities ...   \n",
       "1     Selected intern's day-to-day responsibilities ...   \n",
       "2     Selected intern's day-to-day responsibilities ...   \n",
       "3                                                   NaN   \n",
       "4     Selected intern's day-to-day responsibilities ...   \n",
       "...                                                 ...   \n",
       "1208                                                NaN   \n",
       "1209  Selected intern's day-to-day responsibilities ...   \n",
       "1210  Selected intern's day-to-day responsibilities ...   \n",
       "1211  Selected intern's day-to-day responsibilities ...   \n",
       "1212                                                NaN   \n",
       "\n",
       "                                      skill(s)_required  \\\n",
       "0         PHP\\nHTML\\nCSS\\nJavaScript\\nPython\\nWordPress   \n",
       "1     HTML\\nCSS\\nJavaScript\\nAngularJS\\nNode.js\\nRea...   \n",
       "2     PHP\\nMySQL\\nHTML\\nCSS\\nJavaScript\\njQuery\\nCod...   \n",
       "3                                             WordPress   \n",
       "4                              Python\\nNode.js\\nReactJS   \n",
       "...                                                 ...   \n",
       "1208                                               Odoo   \n",
       "1209       HTML\\nCSS\\nJavaScript\\nUI & UX Design\\nFigma   \n",
       "1210                                                NaN   \n",
       "1211  HTML\\nCSS\\nREST API\\nReactJS\\nAmazon Web Serve...   \n",
       "1212                                                NaN   \n",
       "\n",
       "                                          who_can_apply  \\\n",
       "0     Only those candidates can apply who:\\n1. are a...   \n",
       "1     Only those candidates can apply who:\\n1. are a...   \n",
       "2     Only those candidates can apply who:\\n1. are a...   \n",
       "3     Only those candidates can apply who:\\n1. are a...   \n",
       "4     Only those candidates can apply who:\\n1. are a...   \n",
       "...                                                 ...   \n",
       "1208  Only those candidates can apply who:\\n1. are a...   \n",
       "1209  Only those candidates can apply who:\\n1. are a...   \n",
       "1210  Only those candidates can apply who:\\n1. are a...   \n",
       "1211  Only those candidates can apply who:\\n1. are a...   \n",
       "1212  Only those candidates can apply who:\\n1. are a...   \n",
       "\n",
       "                                                  perks number_of_openings  \\\n",
       "0     Certificate\\n Letter of recommendation\\n Flexi...                  2   \n",
       "1                     Certificate\\n Flexible work hours                  1   \n",
       "2                Certificate\\n Letter of recommendation                  2   \n",
       "3     Certificate\\n Letter of recommendation\\n Flexi...                  1   \n",
       "4     Letter of recommendation\\n Flexible work hours...                  2   \n",
       "...                                                 ...                ...   \n",
       "1208                                        Certificate                  1   \n",
       "1209                        Certificate\\n 5 days a week                  1   \n",
       "1210             Certificate\\n Letter of recommendation                  3   \n",
       "1211  Certificate\\n Letter of recommendation\\n Flexi...                  2   \n",
       "1212                                          Job offer                  4   \n",
       "\n",
       "                                        company_details  \\\n",
       "0     Website;Perfect Skills is committed to helping...   \n",
       "1     Website;Geekster is on a mission to redefine t...   \n",
       "2     Website;We are a team of IIT graduates working...   \n",
       "3     Website;We specialize in occasion-based mercha...   \n",
       "4     Website;FitnessForce is a SaaS-based CRM club ...   \n",
       "...                                                 ...   \n",
       "1208  Website;Best Roadways was founded in 1985 with...   \n",
       "1209  Website;Dot2Globe Solutions is a start-up orga...   \n",
       "1210  Website;We make OTT delivery solutions worldwi...   \n",
       "1211  Success Genix is a team of people that make ou...   \n",
       "1212  Website;ClicFlyer is a product of Bodmas Techn...   \n",
       "\n",
       "                         start_date  duration           stipend    apply_by  \\\n",
       "0     Starts immediatelyImmediately  4 Months       5000 /month  14 Jul' 21   \n",
       "1     Starts immediatelyImmediately  3 Months      15000 /month  13 Jul' 21   \n",
       "2     Starts immediatelyImmediately  6 Months      10000 /month   4 Jul' 21   \n",
       "3     Starts immediatelyImmediately   1 Month       5000 /month  13 Jul' 21   \n",
       "4     Starts immediatelyImmediately  6 Months      10000 /month   5 Jul' 21   \n",
       "...                             ...       ...               ...         ...   \n",
       "1208  Starts immediatelyImmediately  3 Months      10000 /month   2 Jul' 21   \n",
       "1209  Starts immediatelyImmediately  3 Months  5000-8000 /month  14 Jul' 21   \n",
       "1210  Starts immediatelyImmediately   1 Month      20000 /month   2 Jul' 21   \n",
       "1211  Starts immediatelyImmediately  2 Months       3000 /month   6 Jul' 21   \n",
       "1212  Starts immediatelyImmediately  3 Months      25000 /month  13 Jul' 21   \n",
       "\n",
       "                 applicants  \\\n",
       "0             46 applicants   \n",
       "1             53 applicants   \n",
       "2             54 applicants   \n",
       "3             38 applicants   \n",
       "4             66 applicants   \n",
       "...                     ...   \n",
       "1208  Be an early applicant   \n",
       "1209          29 applicants   \n",
       "1210         391 applicants   \n",
       "1211         100 applicants   \n",
       "1212         116 applicants   \n",
       "\n",
       "                                     other_requirements  \\\n",
       "0                                                   NaN   \n",
       "1     1. Should have hands-on experience with Node.j...   \n",
       "2                                                   NaN   \n",
       "3     1. Candidates who have experience of 1 year in...   \n",
       "4     1. Looking for a fresher computer programmer i...   \n",
       "...                                                 ...   \n",
       "1208              1. Must have strong knowledge of Odoo   \n",
       "1209  1. Must have worked as UI/UX design intern (wi...   \n",
       "1210                                                NaN   \n",
       "1211                                                NaN   \n",
       "1212           1. Should be skilled at MS-Excel and SQL   \n",
       "\n",
       "                                   about_the_internship  \\\n",
       "0                                                   NaN   \n",
       "1                                                   NaN   \n",
       "2                                                   NaN   \n",
       "3     Selected intern's day-to-day responsibilities ...   \n",
       "4                                                   NaN   \n",
       "...                                                 ...   \n",
       "1208  Selected intern's day-to-day responsibilities ...   \n",
       "1209                                                NaN   \n",
       "1210                                                NaN   \n",
       "1211                                                NaN   \n",
       "1212  Selected intern's day-to-day responsibilities ...   \n",
       "\n",
       "                                 additional_information  is_part_time  \\\n",
       "0                                                   NaN             0   \n",
       "1                                                   NaN             0   \n",
       "2                                                   NaN             0   \n",
       "3                                                   NaN             0   \n",
       "4                                                   NaN             0   \n",
       "...                                                 ...           ...   \n",
       "1208                                                NaN             0   \n",
       "1209  Note: Extension of internship/offer of full-ti...             0   \n",
       "1210                                                NaN             1   \n",
       "1211                                                NaN             1   \n",
       "1212                                                NaN             0   \n",
       "\n",
       "     about_part_time_job/internship  \n",
       "0                               NaN  \n",
       "1                               NaN  \n",
       "2                               NaN  \n",
       "3                               NaN  \n",
       "4                               NaN  \n",
       "...                             ...  \n",
       "1208                            NaN  \n",
       "1209                            NaN  \n",
       "1210                            NaN  \n",
       "1211                            NaN  \n",
       "1212                            NaN  \n",
       "\n",
       "[1213 rows x 19 columns]"
      ]
     },
     "execution_count": 27,
     "metadata": {},
     "output_type": "execute_result"
    }
   ],
   "source": [
    "# replace old name with new\n",
    "df.rename(columns=old_n_new_columns, inplace=True)\n",
    "df"
   ]
  },
  {
   "cell_type": "markdown",
   "id": "8fbf61ec",
   "metadata": {},
   "source": [
    "#### Convert DF to CSV and store it locally"
   ]
  },
  {
   "cell_type": "code",
   "execution_count": 28,
   "id": "341e2b06",
   "metadata": {
    "ExecuteTime": {
     "end_time": "2021-07-01T07:07:42.653451Z",
     "start_time": "2021-07-01T07:07:42.598485Z"
    }
   },
   "outputs": [],
   "source": [
    "df.to_csv('internshala-cs-internships-june.csv')"
   ]
  },
  {
   "cell_type": "code",
   "execution_count": 29,
   "id": "b9f3147e",
   "metadata": {
    "ExecuteTime": {
     "end_time": "2021-07-01T07:07:44.402892Z",
     "start_time": "2021-07-01T07:07:44.382366Z"
    }
   },
   "outputs": [
    {
     "name": "stdout",
     "output_type": "stream",
     "text": [
      "<class 'pandas.core.frame.DataFrame'>\n",
      "RangeIndex: 1213 entries, 0 to 1212\n",
      "Data columns (total 19 columns):\n",
      " #   Column                                   Non-Null Count  Dtype \n",
      "---  ------                                   --------------  ----- \n",
      " 0   location                                 1213 non-null   object\n",
      " 1   domain_profile                           1213 non-null   object\n",
      " 2   company_name                             1213 non-null   object\n",
      " 3   about_the_work_from_home_job/internship  818 non-null    object\n",
      " 4   skill(s)_required                        1070 non-null   object\n",
      " 5   who_can_apply                            1213 non-null   object\n",
      " 6   perks                                    1154 non-null   object\n",
      " 7   number_of_openings                       1213 non-null   object\n",
      " 8   company_details                          1213 non-null   object\n",
      " 9   start_date                               1213 non-null   object\n",
      " 10  duration                                 1213 non-null   object\n",
      " 11  stipend                                  1213 non-null   object\n",
      " 12  apply_by                                 1213 non-null   object\n",
      " 13  applicants                               1213 non-null   object\n",
      " 14  other_requirements                       260 non-null    object\n",
      " 15  about_the_internship                     370 non-null    object\n",
      " 16  additional_information                   204 non-null    object\n",
      " 17  is_part_time                             1213 non-null   int64 \n",
      " 18  about_part_time_job/internship           25 non-null     object\n",
      "dtypes: int64(1), object(18)\n",
      "memory usage: 180.2+ KB\n"
     ]
    }
   ],
   "source": [
    "df.info()"
   ]
  },
  {
   "cell_type": "code",
   "execution_count": 280,
   "id": "2aaef8c1",
   "metadata": {
    "ExecuteTime": {
     "end_time": "2021-06-01T13:15:43.313670Z",
     "start_time": "2021-06-01T13:15:43.307974Z"
    }
   },
   "outputs": [
    {
     "data": {
      "text/plain": [
       "0       1\n",
       "1       0\n",
       "2       0\n",
       "3       0\n",
       "4       0\n",
       "       ..\n",
       "2369    1\n",
       "2370    0\n",
       "2371    0\n",
       "2372    0\n",
       "2373    0\n",
       "Name: is_part_time, Length: 2374, dtype: int64"
      ]
     },
     "execution_count": 280,
     "metadata": {},
     "output_type": "execute_result"
    }
   ],
   "source": [
    "df.is_part_time"
   ]
  },
  {
   "cell_type": "code",
   "execution_count": 300,
   "id": "27df6c53",
   "metadata": {
    "ExecuteTime": {
     "end_time": "2021-06-01T13:27:56.635742Z",
     "start_time": "2021-06-01T13:27:56.629487Z"
    }
   },
   "outputs": [
    {
     "name": "stdout",
     "output_type": "stream",
     "text": [
      "{'About the internship': \"Selected intern's day-to-day responsibilities \"\n",
      "                         'include:\\n'\n",
      "                         '\\n'\n",
      "                         '1. Ensuring quality of print & digital content by '\n",
      "                         'conducting pre-release testing\\n'\n",
      "                         '2. Reporting and documenting errors & technical '\n",
      "                         'issues\\n'\n",
      "                         '3. Transcribing curriculum content/data into the '\n",
      "                         'required electronic format\\n'\n",
      "                         '4. Assisting content development with image search & '\n",
      "                         'fact-checking',\n",
      " 'Additional Information': 'We are looking for a quality assurance intern who '\n",
      "                           'is excited by the idea of democratizing quality '\n",
      "                           'teaching tools and techniques to students and '\n",
      "                           'teachers in APS.',\n",
      " 'Apply By': \"11 Jun' 21\",\n",
      " 'Duration': '3 Months',\n",
      " 'Number of openings': '5',\n",
      " 'Other requirements': '1. Freshers with good English skills preferred \\n'\n",
      "                       '2. Must be comfortable using MS Excel and digital '\n",
      "                       'tools\\n'\n",
      "                       '3. Must be diligent, give attention to detail, and '\n",
      "                       'have good English reading skills\\n'\n",
      "                       '4. Must have the ability to follow the process and '\n",
      "                       'work with checklists \\n'\n",
      "                       '5. Must be comfortable in web search & in learning new '\n",
      "                       'digital tools \\n'\n",
      "                       '6. Must have honesty, integrity, strong work ethic, '\n",
      "                       'and the ability to collaborate\\n'\n",
      "                       '7. Must have a growth mindset and ability to receive '\n",
      "                       'feedback on content with an open mind \\n'\n",
      "                       '8. Must have strong problem solving and communication '\n",
      "                       'abilities; being organized and efficient\\n'\n",
      "                       '9. Must have proven ability to meet deadlines in a '\n",
      "                       'high-paced work environment',\n",
      " 'Perks': 'Certificate',\n",
      " 'Start Date': 'Starts\\xa0immediatelyImmediately',\n",
      " 'Stipend': '10000-12000 /month',\n",
      " 'Who can apply': 'Only those candidates can apply who:\\n'\n",
      "                  '1. are available for full time (in-office) internship\\n'\n",
      "                  \"2. can start the internship between 28th May'21 and 2nd \"\n",
      "                  \"Jul'21\\n\"\n",
      "                  '3. are available for duration of 3 months\\n'\n",
      "                  '4. have relevant skills and interests',\n",
      " 'applicants': '187 applicants',\n",
      " 'company_details': 'Website\\n'\n",
      "                    'LEAD School is an academic excellence system that '\n",
      "                    'delivers an excellent curriculum via a simple '\n",
      "                    'technology-based delivery model. We partner with '\n",
      "                    'affordable private schools (APS) across the country and '\n",
      "                    'empower them with an innovative curriculum solution, '\n",
      "                    'developed after years of research and analysis of '\n",
      "                    'successful school systems around the world. Our mission '\n",
      "                    'is to empower India by making excellent education, '\n",
      "                    'accessible and affordable to every child.',\n",
      " 'company_name': 'LEAD School',\n",
      " 'domain_profile': 'Quality Assurance',\n",
      " 'location': 'Mumbai'}\n"
     ]
    }
   ],
   "source": [
    "pprint(all_pages_data[100])"
   ]
  }
 ],
 "metadata": {
  "kernelspec": {
   "display_name": "Python 3",
   "language": "python",
   "name": "python3"
  },
  "language_info": {
   "codemirror_mode": {
    "name": "ipython",
    "version": 3
   },
   "file_extension": ".py",
   "mimetype": "text/x-python",
   "name": "python",
   "nbconvert_exporter": "python",
   "pygments_lexer": "ipython3",
   "version": "3.9.5"
  }
 },
 "nbformat": 4,
 "nbformat_minor": 5
}
