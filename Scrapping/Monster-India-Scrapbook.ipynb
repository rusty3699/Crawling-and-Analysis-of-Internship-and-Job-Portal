{
 "cells": [
  {
   "cell_type": "markdown",
   "id": "1da412cf",
   "metadata": {
    "ExecuteTime": {
     "end_time": "2021-05-31T10:09:47.717448Z",
     "start_time": "2021-05-31T10:09:47.710400Z"
    }
   },
   "source": [
    "### Dependencies"
   ]
  },
  {
   "cell_type": "code",
   "execution_count": null,
   "id": "c88b9233",
   "metadata": {
    "ExecuteTime": {
     "start_time": "2021-05-31T10:12:44.297Z"
    }
   },
   "outputs": [
    {
     "name": "stdout",
     "output_type": "stream",
     "text": [
      "Requirement already satisfied: scikit-learn in /Users/admin/Projects/Msc/Data Mining/mining-env/lib/python3.9/site-packages (0.24.2)\n",
      "Requirement already satisfied: numpy in /Users/admin/Projects/Msc/Data Mining/mining-env/lib/python3.9/site-packages (1.20.3)\n",
      "Requirement already satisfied: seaborn in /Users/admin/Projects/Msc/Data Mining/mining-env/lib/python3.9/site-packages (0.11.1)\n",
      "Requirement already satisfied: matplotlib in /Users/admin/Projects/Msc/Data Mining/mining-env/lib/python3.9/site-packages (3.4.2)\n",
      "Collecting Scrapy\n",
      "  Downloading Scrapy-2.5.0-py2.py3-none-any.whl (254 kB)\n",
      "\u001b[K     |████████████████████████████████| 254 kB 245 kB/s eta 0:00:01\n",
      "\u001b[?25hCollecting beautifulsoup4\n",
      "  Downloading beautifulsoup4-4.9.3-py3-none-any.whl (115 kB)\n",
      "\u001b[K     |████████████████████████████████| 115 kB 220 kB/s eta 0:00:01\n",
      "\u001b[?25hCollecting requests\n",
      "  Using cached requests-2.25.1-py2.py3-none-any.whl (61 kB)\n",
      "Requirement already satisfied: threadpoolctl>=2.0.0 in /Users/admin/Projects/Msc/Data Mining/mining-env/lib/python3.9/site-packages (from scikit-learn) (2.1.0)\n",
      "Requirement already satisfied: scipy>=0.19.1 in /Users/admin/Projects/Msc/Data Mining/mining-env/lib/python3.9/site-packages (from scikit-learn) (1.6.3)\n",
      "Requirement already satisfied: joblib>=0.11 in /Users/admin/Projects/Msc/Data Mining/mining-env/lib/python3.9/site-packages (from scikit-learn) (1.0.1)\n",
      "Requirement already satisfied: pandas>=0.23 in /Users/admin/Projects/Msc/Data Mining/mining-env/lib/python3.9/site-packages (from seaborn) (1.2.4)\n",
      "Requirement already satisfied: pillow>=6.2.0 in /Users/admin/Projects/Msc/Data Mining/mining-env/lib/python3.9/site-packages (from matplotlib) (8.2.0)\n",
      "Requirement already satisfied: kiwisolver>=1.0.1 in /Users/admin/Projects/Msc/Data Mining/mining-env/lib/python3.9/site-packages (from matplotlib) (1.3.1)\n",
      "Requirement already satisfied: pyparsing>=2.2.1 in /Users/admin/Projects/Msc/Data Mining/mining-env/lib/python3.9/site-packages (from matplotlib) (2.4.7)\n",
      "Requirement already satisfied: cycler>=0.10 in /Users/admin/Projects/Msc/Data Mining/mining-env/lib/python3.9/site-packages (from matplotlib) (0.10.0)\n",
      "Requirement already satisfied: python-dateutil>=2.7 in /Users/admin/Projects/Msc/Data Mining/mining-env/lib/python3.9/site-packages (from matplotlib) (2.8.1)\n",
      "Requirement already satisfied: six in /Users/admin/Projects/Msc/Data Mining/mining-env/lib/python3.9/site-packages (from cycler>=0.10->matplotlib) (1.16.0)\n",
      "Requirement already satisfied: pytz>=2017.3 in /Users/admin/Projects/Msc/Data Mining/mining-env/lib/python3.9/site-packages (from pandas>=0.23->seaborn) (2021.1)\n",
      "Collecting Twisted[http2]>=17.9.0\n",
      "  Downloading Twisted-21.2.0-py3-none-any.whl (3.1 MB)\n",
      "\u001b[K     |████████████████████████████████| 3.1 MB 271 kB/s eta 0:00:01\n",
      "\u001b[?25hCollecting pyOpenSSL>=16.2.0\n",
      "  Downloading pyOpenSSL-20.0.1-py2.py3-none-any.whl (54 kB)\n",
      "\u001b[K     |████████████████████████████████| 54 kB 248 kB/s eta 0:00:01\n",
      "\u001b[?25hCollecting zope.interface>=4.1.3\n",
      "  Downloading zope.interface-5.4.0-cp39-cp39-macosx_10_14_x86_64.whl (208 kB)\n",
      "\u001b[K     |████████████████████████████████| 208 kB 294 kB/s eta 0:00:01\n",
      "\u001b[?25hCollecting queuelib>=1.4.2\n",
      "  Downloading queuelib-1.6.1-py2.py3-none-any.whl (12 kB)\n",
      "Collecting itemloaders>=1.0.1\n",
      "  Downloading itemloaders-1.0.4-py3-none-any.whl (11 kB)\n",
      "Collecting parsel>=1.5.0\n",
      "  Downloading parsel-1.6.0-py2.py3-none-any.whl (13 kB)\n",
      "Collecting cssselect>=0.9.1\n",
      "  Downloading cssselect-1.1.0-py2.py3-none-any.whl (16 kB)\n",
      "Collecting cryptography>=2.0\n",
      "  Downloading cryptography-3.4.7-cp36-abi3-macosx_10_10_x86_64.whl (2.0 MB)\n",
      "\u001b[K     |████████████████████████████████| 2.0 MB 277 kB/s eta 0:00:01\n",
      "\u001b[?25hCollecting itemadapter>=0.1.0\n",
      "  Downloading itemadapter-0.2.0-py3-none-any.whl (9.3 kB)\n",
      "Collecting PyDispatcher>=2.0.5\n",
      "  Downloading PyDispatcher-2.0.5.zip (47 kB)\n",
      "\u001b[K     |████████████████████████████████| 47 kB 289 kB/s eta 0:00:01\n",
      "\u001b[?25hCollecting w3lib>=1.17.0\n",
      "  Downloading w3lib-1.22.0-py2.py3-none-any.whl (20 kB)\n",
      "Collecting service-identity>=16.0.0\n",
      "  Downloading service_identity-21.1.0-py2.py3-none-any.whl (12 kB)\n",
      "Collecting lxml>=3.5.0\n",
      "  Using cached lxml-4.6.3-cp39-cp39-macosx_10_9_x86_64.whl (4.6 MB)\n",
      "Collecting h2<4.0,>=3.0\n",
      "  Downloading h2-3.2.0-py2.py3-none-any.whl (65 kB)\n",
      "\u001b[K     |████████████████████████████████| 65 kB 175 kB/s eta 0:00:01\n",
      "\u001b[?25hCollecting protego>=0.1.15\n",
      "  Downloading Protego-0.1.16.tar.gz (3.2 MB)\n",
      "\u001b[K     |████████████████████████████████| 3.2 MB 380 kB/s eta 0:00:01\n",
      "\u001b[?25hRequirement already satisfied: cffi>=1.12 in /Users/admin/Projects/Msc/Data Mining/mining-env/lib/python3.9/site-packages (from cryptography>=2.0->Scrapy) (1.14.5)\n",
      "Requirement already satisfied: pycparser in /Users/admin/Projects/Msc/Data Mining/mining-env/lib/python3.9/site-packages (from cffi>=1.12->cryptography>=2.0->Scrapy) (2.20)\n",
      "Collecting hyperframe<6,>=5.2.0\n",
      "  Downloading hyperframe-5.2.0-py2.py3-none-any.whl (12 kB)\n",
      "Collecting hpack<4,>=3.0\n",
      "  Downloading hpack-3.0.0-py2.py3-none-any.whl (38 kB)\n",
      "Collecting jmespath>=0.9.5\n",
      "  Downloading jmespath-0.10.0-py2.py3-none-any.whl (24 kB)\n",
      "Collecting pyasn1-modules\n",
      "  Using cached pyasn1_modules-0.2.8-py2.py3-none-any.whl (155 kB)\n",
      "Requirement already satisfied: attrs>=19.1.0 in /Users/admin/Projects/Msc/Data Mining/mining-env/lib/python3.9/site-packages (from service-identity>=16.0.0->Scrapy) (21.2.0)\n",
      "Collecting pyasn1\n",
      "  Using cached pyasn1-0.4.8-py2.py3-none-any.whl (77 kB)\n",
      "Collecting constantly>=15.1\n",
      "  Downloading constantly-15.1.0-py2.py3-none-any.whl (7.9 kB)\n",
      "Collecting Automat>=0.8.0\n",
      "  Downloading Automat-20.2.0-py2.py3-none-any.whl (31 kB)\n",
      "Collecting incremental>=16.10.1\n",
      "  Downloading incremental-21.3.0-py2.py3-none-any.whl (15 kB)\n",
      "Collecting hyperlink>=17.1.1\n",
      "  Downloading hyperlink-21.0.0-py2.py3-none-any.whl (74 kB)\n",
      "\u001b[K     |████████████████████████████████| 74 kB 284 kB/s eta 0:00:01\n",
      "\u001b[?25hCollecting priority<2.0,>=1.1.0\n",
      "  Downloading priority-1.3.0-py2.py3-none-any.whl (11 kB)\n",
      "Collecting idna>=2.5\n",
      "  Downloading idna-3.2-py3-none-any.whl (59 kB)\n",
      "\u001b[K     |████████████████████████████████| 59 kB 430 kB/s eta 0:00:01\n",
      "\u001b[?25hRequirement already satisfied: setuptools in /Users/admin/Projects/Msc/Data Mining/mining-env/lib/python3.9/site-packages (from zope.interface>=4.1.3->Scrapy) (56.0.0)\n",
      "Collecting soupsieve>1.2\n",
      "  Downloading soupsieve-2.2.1-py3-none-any.whl (33 kB)\n",
      "Collecting certifi>=2017.4.17\n",
      "  Downloading certifi-2021.5.30-py2.py3-none-any.whl (145 kB)\n",
      "\u001b[K     |████████████████████████████████| 145 kB 278 kB/s eta 0:00:01\n",
      "\u001b[?25hCollecting urllib3<1.27,>=1.21.1\n",
      "  Downloading urllib3-1.26.5-py2.py3-none-any.whl (138 kB)\n",
      "\u001b[K     |████████████████████████████████| 138 kB 445 kB/s eta 0:00:01\n",
      "\u001b[?25hCollecting idna>=2.5\n",
      "  Using cached idna-2.10-py2.py3-none-any.whl (58 kB)\n",
      "Collecting chardet<5,>=3.0.2\n",
      "  Using cached chardet-4.0.0-py2.py3-none-any.whl (178 kB)\n",
      "Using legacy 'setup.py install' for protego, since package 'wheel' is not installed.\n",
      "Using legacy 'setup.py install' for PyDispatcher, since package 'wheel' is not installed.\n",
      "Installing collected packages: idna, zope.interface, w3lib, pyasn1, lxml, incremental, hyperlink, hyperframe, hpack, cssselect, constantly, Automat, Twisted, pyasn1-modules, priority, parsel, jmespath, itemadapter, h2, cryptography, urllib3, soupsieve, service-identity, queuelib, pyOpenSSL, PyDispatcher, protego, itemloaders, chardet, certifi, Scrapy, requests, beautifulsoup4\n"
     ]
    }
   ],
   "source": [
    "!pip install scikit-learn numpy seaborn matplotlib Scrapy beautifulsoup4 requests pyprind selenium"
   ]
  },
  {
   "cell_type": "markdown",
   "id": "32768662",
   "metadata": {},
   "source": [
    "# Testing BS4"
   ]
  },
  {
   "cell_type": "code",
   "execution_count": 56,
   "id": "f179fa0c",
   "metadata": {
    "ExecuteTime": {
     "end_time": "2021-05-31T11:41:46.760176Z",
     "start_time": "2021-05-31T11:41:46.753303Z"
    }
   },
   "outputs": [],
   "source": [
    "from bs4 import BeautifulSoup\n",
    "import requests\n",
    "import lxml\n",
    "import time"
   ]
  },
  {
   "cell_type": "code",
   "execution_count": 13,
   "id": "ded487d6",
   "metadata": {
    "ExecuteTime": {
     "end_time": "2021-05-31T10:25:25.390824Z",
     "start_time": "2021-05-31T10:25:21.967075Z"
    }
   },
   "outputs": [
    {
     "data": {
      "text/plain": [
       "<Response [200]>"
      ]
     },
     "execution_count": 13,
     "metadata": {},
     "output_type": "execute_result"
    }
   ],
   "source": [
    "# Fetching MonstorIndia Sitemap\n",
    "\n",
    "SITE = 'https://www.monsterindia.com/jdsitemaps/activejobs-in.xml'\n",
    "my_headers = {\n",
    "'User-Agent': 'Mozilla/5.0 (Windows NT 10.0; Win64; x64) AppleWebKit/537.36 ' + \"(KHTML, like Gecko) Chrome/61.0.3163.100Safari/537.36\"\n",
    "}\n",
    "\n",
    "content = requests.get(SITE, headers=my_headers)"
   ]
  },
  {
   "cell_type": "markdown",
   "id": "8ab680a8",
   "metadata": {},
   "source": [
    "## Crawling Monstering India Website - Search Page\n",
    "\n",
    "+ Crawling is done using Selenium with firefox driver, in headless more, which runs in background without disturbing the foreground processes\n",
    "\n",
    "+ Steps Followed:\n",
    "    + Form the Search URL, find the parameters required to paginate programmatically.\n",
    "        + This is done by modifying `?start=`, which stands for start after these N records\n",
    "    + Scroll twice with a gap of 1 second, for dynamic page load via javascript to finish\n",
    "    + download the web page\n"
   ]
  },
  {
   "cell_type": "code",
   "execution_count": 157,
   "id": "6059bdd7",
   "metadata": {
    "ExecuteTime": {
     "end_time": "2021-06-01T03:09:07.689161Z",
     "start_time": "2021-06-01T03:09:07.686247Z"
    }
   },
   "outputs": [],
   "source": [
    "from selenium import webdriver\n",
    "import pandas as pd\n",
    "import os\n",
    "import random"
   ]
  },
  {
   "cell_type": "code",
   "execution_count": 159,
   "id": "4a25ec0e",
   "metadata": {
    "ExecuteTime": {
     "end_time": "2021-06-01T03:10:29.744281Z",
     "start_time": "2021-06-01T03:10:29.738835Z"
    }
   },
   "outputs": [],
   "source": [
    "def scroll_down(driver):\n",
    "    driver.set_window_size(1440, 875)\n",
    "    driver.execute_script(\"window.scrollTo(0,397)\")\n",
    "    time.sleep(1)\n",
    "    driver.execute_script(\"window.scrollTo(0,1410)\")\n",
    "    time.sleep(1)\n",
    "    driver.execute_script(\"window.scrollTo(0,24695)\")\n",
    "\n",
    "def get_parameterized_url(start_after):\n",
    "    return f'https://www.monsterindia.com/srp/results?start={start_after}&sort=2&limit=100&query=it%2Ccomputers%2Csoftware&salaryRanges=300000~600000,0~300000,1000000~1500000,2500000~*,600000~1000000,1500000~2500000&filter=true'\n",
    "\n",
    "\n",
    "def download_page(page_src,name):\n",
    "    os.environ['MOZ_HEADLESS'] = '1'\n",
    "    driver = webdriver.Firefox(executable_path='/Users/admin/Projects/Msc/Data Mining/Scrapping/geckodriver')\n",
    "    driver.get(page_src)\n",
    "    scroll_down(driver)\n",
    "    with open(f\"../raw/{name}.html\", \"w\") as f:\n",
    "        f.write(driver.page_source)\n",
    "    driver.close()"
   ]
  },
  {
   "cell_type": "code",
   "execution_count": 162,
   "id": "7f88ee1b",
   "metadata": {
    "ExecuteTime": {
     "end_time": "2021-06-01T04:13:28.734239Z",
     "start_time": "2021-06-01T04:00:22.837688Z"
    },
    "scrolled": true
   },
   "outputs": [
    {
     "name": "stderr",
     "output_type": "stream",
     "text": [
      "0% [##############################] 100% | ETA: 00:00:00\n",
      "Total time elapsed: 00:13:05\n"
     ]
    },
    {
     "name": "stdout",
     "output_type": "stream",
     "text": [
      "Title: \n",
      "  Started: 06/01/2021 09:30:22\n",
      "  Finished: 06/01/2021 09:43:28\n",
      "  Total time elapsed: 00:13:05\n"
     ]
    }
   ],
   "source": [
    "TOTAL_POSTINGS = 6000\n",
    "TOTAL_PAGES = TOTAL_POSTINGS // 100\n",
    "\n",
    "bar = pyprind.ProgBar(TOTAL_PAGES)\n",
    "for i in range(TOTAL_PAGES):\n",
    "    download_page(get_parameterized_url(i), f\"monster-india-filtered-by-salary/monster-india-search-page-{i}\")\n",
    "    # after every 10 requests wait for 4 seconds\n",
    "    if(i % 10 == 0):\n",
    "        time.sleep(random.randint(0,4))\n",
    "    bar.update()\n",
    "print(bar)"
   ]
  },
  {
   "cell_type": "markdown",
   "id": "077748a4",
   "metadata": {},
   "source": [
    "## Parsing Search Pages"
   ]
  },
  {
   "cell_type": "code",
   "execution_count": 178,
   "id": "cc629a07",
   "metadata": {
    "ExecuteTime": {
     "end_time": "2021-06-02T02:56:00.281584Z",
     "start_time": "2021-06-02T02:56:00.275111Z"
    }
   },
   "outputs": [],
   "source": [
    "all_jobs_listings = os.listdir('../raw/monster-india-filtered-by-salary')"
   ]
  },
  {
   "cell_type": "code",
   "execution_count": 307,
   "id": "8a15aebf",
   "metadata": {
    "ExecuteTime": {
     "end_time": "2021-06-02T03:45:14.240402Z",
     "start_time": "2021-06-02T03:45:14.233042Z"
    }
   },
   "outputs": [],
   "source": [
    "def get_job_posting_date(footer_node):\n",
    "    return {'timestamp' :footer_node.find(class_='posted').text.strip()}\n",
    "\n",
    "def get_job_title_info(node):\n",
    "    title_node = node.find(class_='job-tittle')\n",
    "    job_title = title_node.find('h3').text.strip()\n",
    "    location = title_node.find(class_='loc').text.strip()\n",
    "    company_name = title_node.find(class_='company-name').text.strip()\n",
    "    package = title_node.find(class_='loc salarySnb').text.strip()\n",
    "    experience = title_node.find(class_='exp').text.strip()\n",
    "    \n",
    "    return {'location': location, 'job_title': job_title, \n",
    "            'company_name': company_name, 'package': package, \n",
    "            'experience': experience}\n",
    "\n",
    "def get_job_desc(node):\n",
    "    job_desc_node = node.find(class_='job-descrip').text.strip()\n",
    "    return {'job_description': job_desc_node}\n",
    "\n",
    "def get_job_skills(node):\n",
    "    skills_node = node.find(class_='descrip-skills')\n",
    "    skills = []\n",
    "    if skills_node:\n",
    "        skills_nodes = skills_node.find_all('a')\n",
    "        for s_node in skills_nodes:\n",
    "            skills.append(s_node.text)\n",
    "    remove_special_char = map(lambda x: x.replace('\\n','').replace(',','').strip(), skills)\n",
    "    filtered_skills = filter(lambda x: len(x) > 1, remove_special_char)\n",
    "    skills_string = ','.join(filtered_skills)\n",
    "    return {'skills': skills_string}"
   ]
  },
  {
   "cell_type": "code",
   "execution_count": 308,
   "id": "4eabab11",
   "metadata": {
    "ExecuteTime": {
     "end_time": "2021-06-02T03:45:15.788733Z",
     "start_time": "2021-06-02T03:45:15.784410Z"
    }
   },
   "outputs": [
    {
     "data": {
      "text/plain": [
       "{'skills': '.Net Developer,Dotnet.Net. Net,Angular,Entity Framework,Mvc'}"
      ]
     },
     "execution_count": 308,
     "metadata": {},
     "output_type": "execute_result"
    }
   ],
   "source": [
    "get_job_skills(job_card)"
   ]
  },
  {
   "cell_type": "code",
   "execution_count": 312,
   "id": "0b4b70be",
   "metadata": {
    "ExecuteTime": {
     "end_time": "2021-06-02T03:48:01.431511Z",
     "start_time": "2021-06-02T03:46:09.968266Z"
    }
   },
   "outputs": [
    {
     "name": "stderr",
     "output_type": "stream",
     "text": [
      "0% [##############################] 100% | ETA: 00:00:00\n",
      "Total time elapsed: 00:01:50\n"
     ]
    }
   ],
   "source": [
    "all_job_posts = list()\n",
    "bar = pyprind.ProgBar(len(all_jobs_listings))\n",
    "for search_page in all_jobs_listings:\n",
    "    bar.update()\n",
    "    try:\n",
    "        path = '../raw/monster-india-filtered-by-salary' + '/' + search_page\n",
    "        soup = BeautifulSoup(open(path), 'html.parser') \n",
    "        # Notice the strucutre of each jobs card, it has the className job-apply-card.\n",
    "        all_job_cards = soup.find_all(class_='job-apply-card')\n",
    "\n",
    "        for job_card in all_job_cards:\n",
    "            try:\n",
    "                # card-body and card-footer are the child elements containing relavant content\n",
    "                card_body_node = job_card.find(class_='card-body')\n",
    "                card_footer = job_card.find(class_='card-footer')\n",
    "\n",
    "                data = dict()\n",
    "                posted_on = get_job_posting_date(card_footer)\n",
    "                title_info = get_job_title_info(card_body_node)\n",
    "                job_desc = get_job_desc(card_body_node)\n",
    "                job_skills = get_job_skills(card_body_node)\n",
    "\n",
    "                data.update(posted_on)\n",
    "                data.update(title_info)\n",
    "                data.update(job_desc)\n",
    "                data.update(job_skills)\n",
    "\n",
    "                all_job_posts.append(data)\n",
    "            except Exception as e:\n",
    "                print('Failed to parse node' + e)\n",
    "                \n",
    "    except Exception as e:\n",
    "        print(e)\n",
    "\n"
   ]
  },
  {
   "cell_type": "code",
   "execution_count": 314,
   "id": "b8835dc4",
   "metadata": {
    "ExecuteTime": {
     "end_time": "2021-06-02T03:53:26.955241Z",
     "start_time": "2021-06-02T03:53:26.903269Z"
    }
   },
   "outputs": [
    {
     "name": "stdout",
     "output_type": "stream",
     "text": [
      "<class 'pandas.core.frame.DataFrame'>\n",
      "RangeIndex: 16800 entries, 0 to 16799\n",
      "Data columns (total 8 columns):\n",
      " #   Column           Non-Null Count  Dtype \n",
      "---  ------           --------------  ----- \n",
      " 0   timestamp        16800 non-null  object\n",
      " 1   location         16800 non-null  object\n",
      " 2   job_title        16800 non-null  object\n",
      " 3   company_name     16800 non-null  object\n",
      " 4   package          16800 non-null  object\n",
      " 5   experience       16800 non-null  object\n",
      " 6   job_description  16800 non-null  object\n",
      " 7   skills           16800 non-null  object\n",
      "dtypes: object(8)\n",
      "memory usage: 1.0+ MB\n"
     ]
    }
   ],
   "source": [
    "df = pd.DataFrame(all_job_posts)\n",
    "df.info()"
   ]
  },
  {
   "cell_type": "code",
   "execution_count": 319,
   "id": "caac1be8",
   "metadata": {
    "ExecuteTime": {
     "end_time": "2021-06-02T03:57:14.072431Z",
     "start_time": "2021-06-02T03:57:14.065207Z"
    }
   },
   "outputs": [
    {
     "data": {
      "text/plain": [
       "array(['60,000-3,00,000 INR Per Annum', '50,000-2,00,000 INR Per Annum',\n",
       "       '50,000-3,00,000 INR Per Annum', ...,\n",
       "       '4,20,000-8,80,000 INR Per Annum',\n",
       "       '3,00,000-12,00,000 INR Per Annum',\n",
       "       '28,00,000-35,00,000 INR Per Annum'], dtype=object)"
      ]
     },
     "execution_count": 319,
     "metadata": {},
     "output_type": "execute_result"
    }
   ],
   "source": [
    "df.package.unique()"
   ]
  },
  {
   "cell_type": "code",
   "execution_count": 328,
   "id": "5993d4d3",
   "metadata": {
    "ExecuteTime": {
     "end_time": "2021-06-02T04:03:11.940806Z",
     "start_time": "2021-06-02T04:03:11.915165Z"
    }
   },
   "outputs": [
    {
     "data": {
      "text/html": [
       "<div>\n",
       "<style scoped>\n",
       "    .dataframe tbody tr th:only-of-type {\n",
       "        vertical-align: middle;\n",
       "    }\n",
       "\n",
       "    .dataframe tbody tr th {\n",
       "        vertical-align: top;\n",
       "    }\n",
       "\n",
       "    .dataframe thead th {\n",
       "        text-align: right;\n",
       "    }\n",
       "</style>\n",
       "<table border=\"1\" class=\"dataframe\">\n",
       "  <thead>\n",
       "    <tr style=\"text-align: right;\">\n",
       "      <th></th>\n",
       "      <th>timestamp</th>\n",
       "      <th>location</th>\n",
       "      <th>job_title</th>\n",
       "      <th>company_name</th>\n",
       "      <th>package</th>\n",
       "      <th>experience</th>\n",
       "      <th>job_description</th>\n",
       "      <th>skills</th>\n",
       "    </tr>\n",
       "  </thead>\n",
       "  <tbody>\n",
       "    <tr>\n",
       "      <th>1735</th>\n",
       "      <td>Posted: a month ago</td>\n",
       "      <td>Chennai</td>\n",
       "      <td>App Developer</td>\n",
       "      <td>Indytek Solutions</td>\n",
       "      <td>1,00,000-2,50,000 INR Per Annum</td>\n",
       "      <td>1-3 Years</td>\n",
       "      <td>We are look for App developer with minimum 1 Y...</td>\n",
       "      <td>ios developer,android developer,React Native</td>\n",
       "    </tr>\n",
       "    <tr>\n",
       "      <th>2374</th>\n",
       "      <td>Posted: 11 days ago</td>\n",
       "      <td>Chennai, India</td>\n",
       "      <td>Android Developer</td>\n",
       "      <td>ANI Calls India Private Limited</td>\n",
       "      <td>9,00,000-14,00,000 INR Per Annum</td>\n",
       "      <td>5-9 Years</td>\n",
       "      <td>Job Description :\\n\\n• 5+ years of Mobile Andr...</td>\n",
       "      <td>android developer</td>\n",
       "    </tr>\n",
       "    <tr>\n",
       "      <th>2525</th>\n",
       "      <td>Posted: a month ago</td>\n",
       "      <td>Pune</td>\n",
       "      <td>Android Developer</td>\n",
       "      <td>Populus Flyers Private Limited</td>\n",
       "      <td>0-0 INR Per Annum</td>\n",
       "      <td>2-5 Years</td>\n",
       "      <td>We are looking for Android Developer with mini...</td>\n",
       "      <td>android developer,Android SDK,Software Enginee...</td>\n",
       "    </tr>\n",
       "    <tr>\n",
       "      <th>7039</th>\n",
       "      <td>Posted: 30+ days ago</td>\n",
       "      <td>Noida</td>\n",
       "      <td>Senior Android Developer – 2-4yrs Exp – 3-5L –...</td>\n",
       "      <td>Angel &amp; Genie</td>\n",
       "      <td>3,00,000-5,00,000 INR Per Annum</td>\n",
       "      <td>2-4 Years</td>\n",
       "      <td>Job Description :\\n \\n \\n \\n \\n \\n \\n \\n \\n \\n...</td>\n",
       "      <td>android developer,Android UI design,C++,Java,M...</td>\n",
       "    </tr>\n",
       "    <tr>\n",
       "      <th>7630</th>\n",
       "      <td>Posted: 9 days ago</td>\n",
       "      <td>Lucknow</td>\n",
       "      <td>iOS developer @work from home</td>\n",
       "      <td>Aashish Krishna Solution</td>\n",
       "      <td>2,40,000-3,60,000 INR Per Annum</td>\n",
       "      <td>0-1 Years</td>\n",
       "      <td>hiring for iOS developer</td>\n",
       "      <td>ios developer,android developer,Mobile Developer</td>\n",
       "    </tr>\n",
       "    <tr>\n",
       "      <th>7875</th>\n",
       "      <td>Posted: 25 days ago</td>\n",
       "      <td>Kozhikode / Calicut</td>\n",
       "      <td>Android Developer</td>\n",
       "      <td>Mejora Jobs And Education</td>\n",
       "      <td>15,000-25,000 INR Per Annum</td>\n",
       "      <td>1-2 Years</td>\n",
       "      <td>Job Description :\\n\\n\\nAndroid Developer\\nLoca...</td>\n",
       "      <td>android developer</td>\n",
       "    </tr>\n",
       "    <tr>\n",
       "      <th>8011</th>\n",
       "      <td>Posted: 30+ days ago</td>\n",
       "      <td>Indore</td>\n",
       "      <td>Urgent looking for Sr. Android Developer /#And...</td>\n",
       "      <td>Tekit Solution</td>\n",
       "      <td>3,00,000-4,09,999 INR Per Annum</td>\n",
       "      <td>2-4 Years</td>\n",
       "      <td>We are looking for an Android Developer who po...</td>\n",
       "      <td>Android native,Android/iOS,android developer,R...</td>\n",
       "    </tr>\n",
       "    <tr>\n",
       "      <th>8581</th>\n",
       "      <td>Posted: 22 days ago</td>\n",
       "      <td>Hyderabad / Secunderabad, Jaipur</td>\n",
       "      <td>Senior Android Developer</td>\n",
       "      <td>Aarika Hr Professionals Private Limited</td>\n",
       "      <td>9,40,000-17,50,000 INR Per Annum</td>\n",
       "      <td>3-8 Years</td>\n",
       "      <td>Excellent knowledge in Open Source, JAVA and A...</td>\n",
       "      <td>android developer,Dragger,Broadcast Receivers,...</td>\n",
       "    </tr>\n",
       "    <tr>\n",
       "      <th>8582</th>\n",
       "      <td>Posted: 22 days ago</td>\n",
       "      <td>Jaipur</td>\n",
       "      <td>Technical Architect - Mobile (Android)</td>\n",
       "      <td>Aarika Hr Professionals Private Limited</td>\n",
       "      <td>25,00,000-27,00,000 INR Per Annum</td>\n",
       "      <td>7-12 Years</td>\n",
       "      <td>Proven ability to design, optimize and integra...</td>\n",
       "      <td>mobile application architect,Java Architect,J2...</td>\n",
       "    </tr>\n",
       "    <tr>\n",
       "      <th>8863</th>\n",
       "      <td>Posted: 14 days ago</td>\n",
       "      <td>Noida, India</td>\n",
       "      <td>Android Developer</td>\n",
       "      <td>ANI Calls India Private Limited</td>\n",
       "      <td>9,00,000-14,00,000 INR Per Annum</td>\n",
       "      <td>5-9 Years</td>\n",
       "      <td>Job Description :\\n\\n• 8-10+ years of Software...</td>\n",
       "      <td>android developer</td>\n",
       "    </tr>\n",
       "    <tr>\n",
       "      <th>9962</th>\n",
       "      <td>Posted: 4 days ago</td>\n",
       "      <td>Bengaluru / Bangalore, India</td>\n",
       "      <td>Android Applications Expert</td>\n",
       "      <td>Futuresand</td>\n",
       "      <td>50,000-70,000 INR Per Annum</td>\n",
       "      <td>5-6 Years</td>\n",
       "      <td>Job Description\\n\\n\\nRoles and Responsibilitie...</td>\n",
       "      <td>android IDE,AOSP,Git,Java,Android</td>\n",
       "    </tr>\n",
       "    <tr>\n",
       "      <th>10085</th>\n",
       "      <td>Posted: 12 days ago</td>\n",
       "      <td>Bengaluru / Bangalore, India</td>\n",
       "      <td>Android Developer</td>\n",
       "      <td>ANI Calls India Private Limited</td>\n",
       "      <td>9,00,000-14,00,000 INR Per Annum</td>\n",
       "      <td>5-9 Years</td>\n",
       "      <td>Job Description :\\n\\n• 8-10+ years of Software...</td>\n",
       "      <td>android developer</td>\n",
       "    </tr>\n",
       "    <tr>\n",
       "      <th>12303</th>\n",
       "      <td>Posted: 22 days ago</td>\n",
       "      <td>Germany</td>\n",
       "      <td>Senior Android Developer - SAP UI5; HANA DB fo...</td>\n",
       "      <td>Aarika Hr Professionals Private Limited</td>\n",
       "      <td>50,50,000-70,50,000 INR Per Annum</td>\n",
       "      <td>6-15 Years</td>\n",
       "      <td>A multinational company based out of India req...</td>\n",
       "      <td>HANA DB,android developer,Schema language,lear...</td>\n",
       "    </tr>\n",
       "    <tr>\n",
       "      <th>15457</th>\n",
       "      <td>Posted: 7 days ago</td>\n",
       "      <td>Mohali</td>\n",
       "      <td>Android Developer/Android Mobile Application D...</td>\n",
       "      <td>ABP Empower</td>\n",
       "      <td>4,00,000-8,00,000 INR Per Annum</td>\n",
       "      <td>1-5 Years</td>\n",
       "      <td>Job Description :\\n\\n\\n\\nPost - Android Develo...</td>\n",
       "      <td>android Android Developer Android Framework En...</td>\n",
       "    </tr>\n",
       "    <tr>\n",
       "      <th>16127</th>\n",
       "      <td>Posted: 12 days ago</td>\n",
       "      <td>Mumbai, Mumbai City</td>\n",
       "      <td>Android Developer  Mumbai 6.00 lacs</td>\n",
       "      <td>Elite</td>\n",
       "      <td>4,00,000-6,00,000 INR Per Annum</td>\n",
       "      <td>1-5 Years</td>\n",
       "      <td>Our clients is now the leading platform for op...</td>\n",
       "      <td>android developer</td>\n",
       "    </tr>\n",
       "  </tbody>\n",
       "</table>\n",
       "</div>"
      ],
      "text/plain": [
       "                  timestamp                          location  \\\n",
       "1735    Posted: a month ago                           Chennai   \n",
       "2374    Posted: 11 days ago                    Chennai, India   \n",
       "2525    Posted: a month ago                              Pune   \n",
       "7039   Posted: 30+ days ago                             Noida   \n",
       "7630     Posted: 9 days ago                           Lucknow   \n",
       "7875    Posted: 25 days ago               Kozhikode / Calicut   \n",
       "8011   Posted: 30+ days ago                            Indore   \n",
       "8581    Posted: 22 days ago  Hyderabad / Secunderabad, Jaipur   \n",
       "8582    Posted: 22 days ago                            Jaipur   \n",
       "8863    Posted: 14 days ago                      Noida, India   \n",
       "9962     Posted: 4 days ago      Bengaluru / Bangalore, India   \n",
       "10085   Posted: 12 days ago      Bengaluru / Bangalore, India   \n",
       "12303   Posted: 22 days ago                           Germany   \n",
       "15457    Posted: 7 days ago                            Mohali   \n",
       "16127   Posted: 12 days ago               Mumbai, Mumbai City   \n",
       "\n",
       "                                               job_title  \\\n",
       "1735                                       App Developer   \n",
       "2374                                   Android Developer   \n",
       "2525                                   Android Developer   \n",
       "7039   Senior Android Developer – 2-4yrs Exp – 3-5L –...   \n",
       "7630                       iOS developer @work from home   \n",
       "7875                                   Android Developer   \n",
       "8011   Urgent looking for Sr. Android Developer /#And...   \n",
       "8581                            Senior Android Developer   \n",
       "8582              Technical Architect - Mobile (Android)   \n",
       "8863                                   Android Developer   \n",
       "9962                         Android Applications Expert   \n",
       "10085                                  Android Developer   \n",
       "12303  Senior Android Developer - SAP UI5; HANA DB fo...   \n",
       "15457  Android Developer/Android Mobile Application D...   \n",
       "16127                Android Developer  Mumbai 6.00 lacs   \n",
       "\n",
       "                                  company_name  \\\n",
       "1735                         Indytek Solutions   \n",
       "2374           ANI Calls India Private Limited   \n",
       "2525            Populus Flyers Private Limited   \n",
       "7039                             Angel & Genie   \n",
       "7630                  Aashish Krishna Solution   \n",
       "7875                 Mejora Jobs And Education   \n",
       "8011                            Tekit Solution   \n",
       "8581   Aarika Hr Professionals Private Limited   \n",
       "8582   Aarika Hr Professionals Private Limited   \n",
       "8863           ANI Calls India Private Limited   \n",
       "9962                                Futuresand   \n",
       "10085          ANI Calls India Private Limited   \n",
       "12303  Aarika Hr Professionals Private Limited   \n",
       "15457                              ABP Empower   \n",
       "16127                                    Elite   \n",
       "\n",
       "                                 package  experience  \\\n",
       "1735     1,00,000-2,50,000 INR Per Annum   1-3 Years   \n",
       "2374    9,00,000-14,00,000 INR Per Annum   5-9 Years   \n",
       "2525                   0-0 INR Per Annum   2-5 Years   \n",
       "7039     3,00,000-5,00,000 INR Per Annum   2-4 Years   \n",
       "7630     2,40,000-3,60,000 INR Per Annum   0-1 Years   \n",
       "7875         15,000-25,000 INR Per Annum   1-2 Years   \n",
       "8011     3,00,000-4,09,999 INR Per Annum   2-4 Years   \n",
       "8581    9,40,000-17,50,000 INR Per Annum   3-8 Years   \n",
       "8582   25,00,000-27,00,000 INR Per Annum  7-12 Years   \n",
       "8863    9,00,000-14,00,000 INR Per Annum   5-9 Years   \n",
       "9962         50,000-70,000 INR Per Annum   5-6 Years   \n",
       "10085   9,00,000-14,00,000 INR Per Annum   5-9 Years   \n",
       "12303  50,50,000-70,50,000 INR Per Annum  6-15 Years   \n",
       "15457    4,00,000-8,00,000 INR Per Annum   1-5 Years   \n",
       "16127    4,00,000-6,00,000 INR Per Annum   1-5 Years   \n",
       "\n",
       "                                         job_description  \\\n",
       "1735   We are look for App developer with minimum 1 Y...   \n",
       "2374   Job Description :\\n\\n• 5+ years of Mobile Andr...   \n",
       "2525   We are looking for Android Developer with mini...   \n",
       "7039   Job Description :\\n \\n \\n \\n \\n \\n \\n \\n \\n \\n...   \n",
       "7630                            hiring for iOS developer   \n",
       "7875   Job Description :\\n\\n\\nAndroid Developer\\nLoca...   \n",
       "8011   We are looking for an Android Developer who po...   \n",
       "8581   Excellent knowledge in Open Source, JAVA and A...   \n",
       "8582   Proven ability to design, optimize and integra...   \n",
       "8863   Job Description :\\n\\n• 8-10+ years of Software...   \n",
       "9962   Job Description\\n\\n\\nRoles and Responsibilitie...   \n",
       "10085  Job Description :\\n\\n• 8-10+ years of Software...   \n",
       "12303  A multinational company based out of India req...   \n",
       "15457  Job Description :\\n\\n\\n\\nPost - Android Develo...   \n",
       "16127  Our clients is now the leading platform for op...   \n",
       "\n",
       "                                                  skills  \n",
       "1735        ios developer,android developer,React Native  \n",
       "2374                                   android developer  \n",
       "2525   android developer,Android SDK,Software Enginee...  \n",
       "7039   android developer,Android UI design,C++,Java,M...  \n",
       "7630    ios developer,android developer,Mobile Developer  \n",
       "7875                                   android developer  \n",
       "8011   Android native,Android/iOS,android developer,R...  \n",
       "8581   android developer,Dragger,Broadcast Receivers,...  \n",
       "8582   mobile application architect,Java Architect,J2...  \n",
       "8863                                   android developer  \n",
       "9962                   android IDE,AOSP,Git,Java,Android  \n",
       "10085                                  android developer  \n",
       "12303  HANA DB,android developer,Schema language,lear...  \n",
       "15457  android Android Developer Android Framework En...  \n",
       "16127                                  android developer  "
      ]
     },
     "execution_count": 328,
     "metadata": {},
     "output_type": "execute_result"
    }
   ],
   "source": [
    "df[df.skills.str.contains('android')]"
   ]
  },
  {
   "cell_type": "code",
   "execution_count": 321,
   "id": "022e6934",
   "metadata": {
    "ExecuteTime": {
     "end_time": "2021-06-02T03:59:46.435533Z",
     "start_time": "2021-06-02T03:59:46.422181Z"
    }
   },
   "outputs": [
    {
     "data": {
      "text/html": [
       "<div>\n",
       "<style scoped>\n",
       "    .dataframe tbody tr th:only-of-type {\n",
       "        vertical-align: middle;\n",
       "    }\n",
       "\n",
       "    .dataframe tbody tr th {\n",
       "        vertical-align: top;\n",
       "    }\n",
       "\n",
       "    .dataframe thead th {\n",
       "        text-align: right;\n",
       "    }\n",
       "</style>\n",
       "<table border=\"1\" class=\"dataframe\">\n",
       "  <thead>\n",
       "    <tr style=\"text-align: right;\">\n",
       "      <th></th>\n",
       "      <th>timestamp</th>\n",
       "      <th>location</th>\n",
       "      <th>job_title</th>\n",
       "      <th>company_name</th>\n",
       "      <th>package</th>\n",
       "      <th>experience</th>\n",
       "      <th>job_description</th>\n",
       "      <th>skills</th>\n",
       "    </tr>\n",
       "  </thead>\n",
       "  <tbody>\n",
       "    <tr>\n",
       "      <th>1098</th>\n",
       "      <td>Posted: 30+ days ago</td>\n",
       "      <td>Bengaluru / Bangalore, Chennai</td>\n",
       "      <td>ReactJS Full Stack Developer | 4-6 LPA | 3+ Years</td>\n",
       "      <td>Disha Recruitment Services</td>\n",
       "      <td>4,00,000-6,00,000 INR Per Annum</td>\n",
       "      <td>3-7 Years</td>\n",
       "      <td>Key Skills 3+ Years : ReactJS, PHP / CSS, MySQ...</td>\n",
       "      <td>Reactjs,Php,CSS,MySQL,Mangodb,SQL Server,Java,...</td>\n",
       "    </tr>\n",
       "    <tr>\n",
       "      <th>865</th>\n",
       "      <td>Posted: 30+ days ago</td>\n",
       "      <td>Mumbai, Mumbai City, Navi Mumbai, Thane</td>\n",
       "      <td>required back office executive/computer operat...</td>\n",
       "      <td>Company Name Confidential</td>\n",
       "      <td>1,10,000-3,20,000 INR Per Annum</td>\n",
       "      <td>0-5 Years</td>\n",
       "      <td>Knowledge of Ms Office.\\n  Good typing speed.\\...</td>\n",
       "      <td>Back Office,Back Office Executive,Office Assis...</td>\n",
       "    </tr>\n",
       "    <tr>\n",
       "      <th>5639</th>\n",
       "      <td>Posted: 30+ days ago</td>\n",
       "      <td>Bengaluru / Bangalore, India</td>\n",
       "      <td>POS Manual tester</td>\n",
       "      <td>ANI Calls India Private Limited</td>\n",
       "      <td>8,00,000-14,00,000 INR Per Annum</td>\n",
       "      <td>8-10 Years</td>\n",
       "      <td>Job Description :\\n\\n• Oracle Point of Sales S...</td>\n",
       "      <td>POS Manual tester</td>\n",
       "    </tr>\n",
       "    <tr>\n",
       "      <th>6204</th>\n",
       "      <td>Posted: 30+ days ago</td>\n",
       "      <td>Bengaluru / Bangalore</td>\n",
       "      <td>Dot Net Developer@Bangalore</td>\n",
       "      <td>iQuest Management Consultants Private Limited</td>\n",
       "      <td>10,00,000-15,00,000 INR Per Annum</td>\n",
       "      <td>5-10 Years</td>\n",
       "      <td>Roles and Responsibilities\\nRequired skills: C...</td>\n",
       "      <td>C#,core,.NET,MongoDB,Net</td>\n",
       "    </tr>\n",
       "    <tr>\n",
       "      <th>9049</th>\n",
       "      <td>Posted: 30+ days ago</td>\n",
       "      <td>Bengaluru / Bangalore</td>\n",
       "      <td>Embedded Networking</td>\n",
       "      <td>2COMS Consulting Private Limited</td>\n",
       "      <td>10,00,000-20,00,000 INR Per Annum</td>\n",
       "      <td>6-11 Years</td>\n",
       "      <td>Responsibilities\\n\\n  * Design and implement s...</td>\n",
       "      <td>Rtos,Firmware,Kernel</td>\n",
       "    </tr>\n",
       "    <tr>\n",
       "      <th>12437</th>\n",
       "      <td>Posted: 30+ days ago</td>\n",
       "      <td>Chennai</td>\n",
       "      <td>DATA Center Operation || Chennai</td>\n",
       "      <td>2COMS Consulting Private Limited</td>\n",
       "      <td>50,000-2,00,000 INR Per Annum</td>\n",
       "      <td>1-6 Years</td>\n",
       "      <td>DATA CENTRE OPERATION :\\nThe challenges of Ent...</td>\n",
       "      <td>Troubleshooting,Laptop,Desktop,Desktop Support...</td>\n",
       "    </tr>\n",
       "    <tr>\n",
       "      <th>8604</th>\n",
       "      <td>Posted: 11 days ago</td>\n",
       "      <td>Chennai, India</td>\n",
       "      <td>FINRA</td>\n",
       "      <td>ANI Calls India Private Limited</td>\n",
       "      <td>8,00,000-14,00,000 INR Per Annum</td>\n",
       "      <td>6-9 Years</td>\n",
       "      <td>Job Description :\\n\\n• Provides information on...</td>\n",
       "      <td>finra</td>\n",
       "    </tr>\n",
       "    <tr>\n",
       "      <th>2889</th>\n",
       "      <td>Posted: 30+ days ago</td>\n",
       "      <td>Bengaluru / Bangalore</td>\n",
       "      <td>Hiring For an International voice / technical ...</td>\n",
       "      <td>Job Shop</td>\n",
       "      <td>1,75,000-4,25,000 INR Per Annum</td>\n",
       "      <td>0-5 Years</td>\n",
       "      <td>Greetings from Job Shop!\\nWORK FROM HOME WITH ...</td>\n",
       "      <td>Csa,International Call Center,US Shift,Night S...</td>\n",
       "    </tr>\n",
       "    <tr>\n",
       "      <th>13037</th>\n",
       "      <td>Posted: 12 days ago</td>\n",
       "      <td>Kolkata, Asansol</td>\n",
       "      <td>Diploma,degree,B.tech ,B.E,diploma  hiring in ...</td>\n",
       "      <td>Freelancer Ganesh Popat Sontakke</td>\n",
       "      <td>2,70,000-12,90,000 INR Per Annum</td>\n",
       "      <td>0-5 Years</td>\n",
       "      <td>Diploma,Degree,B.E,B.TECH,Mechanical Engineer,...</td>\n",
       "      <td>Diploma,Degree,B.E,B.TECH,Mechanical Engineer,...</td>\n",
       "    </tr>\n",
       "    <tr>\n",
       "      <th>5494</th>\n",
       "      <td>Posted: 14 days ago</td>\n",
       "      <td>Chennai, India</td>\n",
       "      <td>Java Microservices</td>\n",
       "      <td>ANI Calls India Private Limited</td>\n",
       "      <td>9,00,000-14,00,000 INR Per Annum</td>\n",
       "      <td>6-9 Years</td>\n",
       "      <td>Job Description :\\n\\n• Have a powerful Web/Res...</td>\n",
       "      <td>Java Microservices</td>\n",
       "    </tr>\n",
       "  </tbody>\n",
       "</table>\n",
       "</div>"
      ],
      "text/plain": [
       "                  timestamp                                 location  \\\n",
       "1098   Posted: 30+ days ago           Bengaluru / Bangalore, Chennai   \n",
       "865    Posted: 30+ days ago  Mumbai, Mumbai City, Navi Mumbai, Thane   \n",
       "5639   Posted: 30+ days ago             Bengaluru / Bangalore, India   \n",
       "6204   Posted: 30+ days ago                    Bengaluru / Bangalore   \n",
       "9049   Posted: 30+ days ago                    Bengaluru / Bangalore   \n",
       "12437  Posted: 30+ days ago                                  Chennai   \n",
       "8604    Posted: 11 days ago                           Chennai, India   \n",
       "2889   Posted: 30+ days ago                    Bengaluru / Bangalore   \n",
       "13037   Posted: 12 days ago                         Kolkata, Asansol   \n",
       "5494    Posted: 14 days ago                           Chennai, India   \n",
       "\n",
       "                                               job_title  \\\n",
       "1098   ReactJS Full Stack Developer | 4-6 LPA | 3+ Years   \n",
       "865    required back office executive/computer operat...   \n",
       "5639                                   POS Manual tester   \n",
       "6204                         Dot Net Developer@Bangalore   \n",
       "9049                                 Embedded Networking   \n",
       "12437                   DATA Center Operation || Chennai   \n",
       "8604                                               FINRA   \n",
       "2889   Hiring For an International voice / technical ...   \n",
       "13037  Diploma,degree,B.tech ,B.E,diploma  hiring in ...   \n",
       "5494                                  Java Microservices   \n",
       "\n",
       "                                        company_name  \\\n",
       "1098                      Disha Recruitment Services   \n",
       "865                        Company Name Confidential   \n",
       "5639                 ANI Calls India Private Limited   \n",
       "6204   iQuest Management Consultants Private Limited   \n",
       "9049                2COMS Consulting Private Limited   \n",
       "12437               2COMS Consulting Private Limited   \n",
       "8604                 ANI Calls India Private Limited   \n",
       "2889                                        Job Shop   \n",
       "13037               Freelancer Ganesh Popat Sontakke   \n",
       "5494                 ANI Calls India Private Limited   \n",
       "\n",
       "                                 package  experience  \\\n",
       "1098     4,00,000-6,00,000 INR Per Annum   3-7 Years   \n",
       "865      1,10,000-3,20,000 INR Per Annum   0-5 Years   \n",
       "5639    8,00,000-14,00,000 INR Per Annum  8-10 Years   \n",
       "6204   10,00,000-15,00,000 INR Per Annum  5-10 Years   \n",
       "9049   10,00,000-20,00,000 INR Per Annum  6-11 Years   \n",
       "12437      50,000-2,00,000 INR Per Annum   1-6 Years   \n",
       "8604    8,00,000-14,00,000 INR Per Annum   6-9 Years   \n",
       "2889     1,75,000-4,25,000 INR Per Annum   0-5 Years   \n",
       "13037   2,70,000-12,90,000 INR Per Annum   0-5 Years   \n",
       "5494    9,00,000-14,00,000 INR Per Annum   6-9 Years   \n",
       "\n",
       "                                         job_description  \\\n",
       "1098   Key Skills 3+ Years : ReactJS, PHP / CSS, MySQ...   \n",
       "865    Knowledge of Ms Office.\\n  Good typing speed.\\...   \n",
       "5639   Job Description :\\n\\n• Oracle Point of Sales S...   \n",
       "6204   Roles and Responsibilities\\nRequired skills: C...   \n",
       "9049   Responsibilities\\n\\n  * Design and implement s...   \n",
       "12437  DATA CENTRE OPERATION :\\nThe challenges of Ent...   \n",
       "8604   Job Description :\\n\\n• Provides information on...   \n",
       "2889   Greetings from Job Shop!\\nWORK FROM HOME WITH ...   \n",
       "13037  Diploma,Degree,B.E,B.TECH,Mechanical Engineer,...   \n",
       "5494   Job Description :\\n\\n• Have a powerful Web/Res...   \n",
       "\n",
       "                                                  skills  \n",
       "1098   Reactjs,Php,CSS,MySQL,Mangodb,SQL Server,Java,...  \n",
       "865    Back Office,Back Office Executive,Office Assis...  \n",
       "5639                                   POS Manual tester  \n",
       "6204                            C#,core,.NET,MongoDB,Net  \n",
       "9049                                Rtos,Firmware,Kernel  \n",
       "12437  Troubleshooting,Laptop,Desktop,Desktop Support...  \n",
       "8604                                               finra  \n",
       "2889   Csa,International Call Center,US Shift,Night S...  \n",
       "13037  Diploma,Degree,B.E,B.TECH,Mechanical Engineer,...  \n",
       "5494                                  Java Microservices  "
      ]
     },
     "execution_count": 321,
     "metadata": {},
     "output_type": "execute_result"
    }
   ],
   "source": [
    "df.sample(10)"
   ]
  },
  {
   "cell_type": "code",
   "execution_count": 315,
   "id": "8e3239ee",
   "metadata": {
    "ExecuteTime": {
     "end_time": "2021-06-02T03:55:33.551219Z",
     "start_time": "2021-06-02T03:55:33.331655Z"
    }
   },
   "outputs": [],
   "source": [
    "df.to_csv('monster-india-jobs.csv')"
   ]
  },
  {
   "cell_type": "markdown",
   "id": "4484b79a",
   "metadata": {},
   "source": [
    "### Sources\n",
    "\n",
    "+ Headless Firefox : https://stackoverflow.com/questions/46753393/how-to-make-firefox-headless-programmatically-in-selenium-with-python\n"
   ]
  }
 ],
 "metadata": {
  "kernelspec": {
   "display_name": "Python 3",
   "language": "python",
   "name": "python3"
  },
  "language_info": {
   "codemirror_mode": {
    "name": "ipython",
    "version": 3
   },
   "file_extension": ".py",
   "mimetype": "text/x-python",
   "name": "python",
   "nbconvert_exporter": "python",
   "pygments_lexer": "ipython3",
   "version": "3.9.5"
  }
 },
 "nbformat": 4,
 "nbformat_minor": 5
}
