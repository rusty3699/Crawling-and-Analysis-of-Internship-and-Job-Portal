{
 "cells": [
  {
   "cell_type": "code",
   "execution_count": 5,
   "id": "656648df",
   "metadata": {
    "ExecuteTime": {
     "end_time": "2021-06-15T05:04:26.840530Z",
     "start_time": "2021-06-15T05:04:25.388661Z"
    }
   },
   "outputs": [],
   "source": [
    "import pandas as pd\n",
    "import re\n",
    "from datetime import date\n",
    "import numpy as np\n",
    "import math\n",
    "from nltk import everygrams\n",
    "import nltk\n",
    "from nltk.corpus import stopwords\n",
    "from textblob import TextBlob\n",
    "from nltk.stem.snowball import SnowballStemmer\n",
    "\n",
    "from sklearn import feature_extraction\n",
    "from sklearn.feature_extraction.text import TfidfVectorizer"
   ]
  },
  {
   "cell_type": "code",
   "execution_count": 94,
   "id": "9f0f74d8",
   "metadata": {
    "ExecuteTime": {
     "end_time": "2021-06-14T12:16:54.328336Z",
     "start_time": "2021-06-14T12:16:32.750612Z"
    }
   },
   "outputs": [
    {
     "name": "stderr",
     "output_type": "stream",
     "text": [
      "[nltk_data] Downloading package wordnet to /Users/admin/nltk_data...\n",
      "[nltk_data]   Package wordnet is already up-to-date!\n",
      "[nltk_data] Downloading package stopwords to /Users/admin/nltk_data...\n",
      "[nltk_data]   Package stopwords is already up-to-date!\n",
      "[nltk_data] Downloading package punkt to /Users/admin/nltk_data...\n",
      "[nltk_data]   Unzipping tokenizers/punkt.zip.\n"
     ]
    },
    {
     "data": {
      "text/plain": [
       "True"
      ]
     },
     "execution_count": 94,
     "metadata": {},
     "output_type": "execute_result"
    }
   ],
   "source": [
    "import nltk\n",
    "import ssl\n",
    "\n",
    "try:\n",
    "    _create_unverified_https_context = ssl._create_unverified_context\n",
    "except AttributeError:\n",
    "    pass\n",
    "else:\n",
    "    ssl._create_default_https_context = _create_unverified_https_context\n",
    "\n",
    "nltk.download('wordnet')\n",
    "nltk.download('stopwords')\n",
    "nltk.download('punkt')"
   ]
  },
  {
   "cell_type": "code",
   "execution_count": 6,
   "id": "ff7168e4",
   "metadata": {
    "ExecuteTime": {
     "end_time": "2021-06-15T05:04:28.629307Z",
     "start_time": "2021-06-15T05:04:28.532236Z"
    }
   },
   "outputs": [],
   "source": [
    "df = pd.read_csv('internshala_clean.csv')"
   ]
  },
  {
   "cell_type": "markdown",
   "id": "ced13184",
   "metadata": {
    "heading_collapsed": true
   },
   "source": [
    "### Perks"
   ]
  },
  {
   "cell_type": "code",
   "execution_count": 154,
   "id": "0678ef24",
   "metadata": {
    "ExecuteTime": {
     "end_time": "2021-06-15T08:53:04.623650Z",
     "start_time": "2021-06-15T08:53:04.606711Z"
    },
    "hidden": true
   },
   "outputs": [
    {
     "data": {
      "text/plain": [
       "0       None\n",
       "1       None\n",
       "2       None\n",
       "3       None\n",
       "4       None\n",
       "        ... \n",
       "2369    None\n",
       "2370    None\n",
       "2371    None\n",
       "2372    None\n",
       "2373    None\n",
       "Name: perks, Length: 2374, dtype: object"
      ]
     },
     "execution_count": 154,
     "metadata": {},
     "output_type": "execute_result"
    }
   ],
   "source": [
    "all_perks = {}\n",
    "\n",
    "def extract_perks(series):\n",
    "    if(type(series) == str):\n",
    "        perks = series.split(\"\\n\")\n",
    "        for perk in perks:\n",
    "            perk = perk.strip()\n",
    "            all_perks[perk] = all_perks.get(perk, 0) + 1\n",
    "\n",
    "df.perks.apply(extract_perks)"
   ]
  },
  {
   "cell_type": "code",
   "execution_count": 160,
   "id": "b99df2e4",
   "metadata": {
    "ExecuteTime": {
     "end_time": "2021-06-15T08:54:31.336451Z",
     "start_time": "2021-06-15T08:54:31.332515Z"
    },
    "hidden": true
   },
   "outputs": [],
   "source": [
    "perks_series = pd.Series(data=list(all_perks.values()), index=list(all_perks.keys()))"
   ]
  },
  {
   "cell_type": "code",
   "execution_count": 161,
   "id": "de38aa57",
   "metadata": {
    "ExecuteTime": {
     "end_time": "2021-06-15T08:54:32.634029Z",
     "start_time": "2021-06-15T08:54:32.627851Z"
    },
    "hidden": true
   },
   "outputs": [
    {
     "data": {
      "text/plain": [
       "Index(['Certificate', 'Flexible work hours', '5 days a week',\n",
       "       'Letter of recommendation', 'Informal dress code',\n",
       "       'Free snacks & beverages', 'Job offer'],\n",
       "      dtype='object')"
      ]
     },
     "execution_count": 161,
     "metadata": {},
     "output_type": "execute_result"
    }
   ],
   "source": [
    "perks_series.index"
   ]
  },
  {
   "cell_type": "code",
   "execution_count": 162,
   "id": "9558db5a",
   "metadata": {
    "ExecuteTime": {
     "end_time": "2021-06-15T08:54:33.614930Z",
     "start_time": "2021-06-15T08:54:33.604221Z"
    },
    "hidden": true
   },
   "outputs": [
    {
     "data": {
      "application/vnd.plotly.v1+json": {
       "config": {
        "plotlyServerURL": "https://plot.ly"
       },
       "data": [
        {
         "insidetextorientation": "radial",
         "labels": [
          "Certificate",
          "Flexible work hours",
          "5 days a week",
          "Letter of recommendation",
          "Informal dress code",
          "Free snacks & beverages",
          "Job offer"
         ],
         "textinfo": "label+percent",
         "type": "pie",
         "values": [
          2131,
          1495,
          844,
          1726,
          289,
          90,
          235
         ]
        }
       ],
       "layout": {
        "template": {
         "data": {
          "bar": [
           {
            "error_x": {
             "color": "#2a3f5f"
            },
            "error_y": {
             "color": "#2a3f5f"
            },
            "marker": {
             "line": {
              "color": "#E5ECF6",
              "width": 0.5
             }
            },
            "type": "bar"
           }
          ],
          "barpolar": [
           {
            "marker": {
             "line": {
              "color": "#E5ECF6",
              "width": 0.5
             }
            },
            "type": "barpolar"
           }
          ],
          "carpet": [
           {
            "aaxis": {
             "endlinecolor": "#2a3f5f",
             "gridcolor": "white",
             "linecolor": "white",
             "minorgridcolor": "white",
             "startlinecolor": "#2a3f5f"
            },
            "baxis": {
             "endlinecolor": "#2a3f5f",
             "gridcolor": "white",
             "linecolor": "white",
             "minorgridcolor": "white",
             "startlinecolor": "#2a3f5f"
            },
            "type": "carpet"
           }
          ],
          "choropleth": [
           {
            "colorbar": {
             "outlinewidth": 0,
             "ticks": ""
            },
            "type": "choropleth"
           }
          ],
          "contour": [
           {
            "colorbar": {
             "outlinewidth": 0,
             "ticks": ""
            },
            "colorscale": [
             [
              0,
              "#0d0887"
             ],
             [
              0.1111111111111111,
              "#46039f"
             ],
             [
              0.2222222222222222,
              "#7201a8"
             ],
             [
              0.3333333333333333,
              "#9c179e"
             ],
             [
              0.4444444444444444,
              "#bd3786"
             ],
             [
              0.5555555555555556,
              "#d8576b"
             ],
             [
              0.6666666666666666,
              "#ed7953"
             ],
             [
              0.7777777777777778,
              "#fb9f3a"
             ],
             [
              0.8888888888888888,
              "#fdca26"
             ],
             [
              1,
              "#f0f921"
             ]
            ],
            "type": "contour"
           }
          ],
          "contourcarpet": [
           {
            "colorbar": {
             "outlinewidth": 0,
             "ticks": ""
            },
            "type": "contourcarpet"
           }
          ],
          "heatmap": [
           {
            "colorbar": {
             "outlinewidth": 0,
             "ticks": ""
            },
            "colorscale": [
             [
              0,
              "#0d0887"
             ],
             [
              0.1111111111111111,
              "#46039f"
             ],
             [
              0.2222222222222222,
              "#7201a8"
             ],
             [
              0.3333333333333333,
              "#9c179e"
             ],
             [
              0.4444444444444444,
              "#bd3786"
             ],
             [
              0.5555555555555556,
              "#d8576b"
             ],
             [
              0.6666666666666666,
              "#ed7953"
             ],
             [
              0.7777777777777778,
              "#fb9f3a"
             ],
             [
              0.8888888888888888,
              "#fdca26"
             ],
             [
              1,
              "#f0f921"
             ]
            ],
            "type": "heatmap"
           }
          ],
          "heatmapgl": [
           {
            "colorbar": {
             "outlinewidth": 0,
             "ticks": ""
            },
            "colorscale": [
             [
              0,
              "#0d0887"
             ],
             [
              0.1111111111111111,
              "#46039f"
             ],
             [
              0.2222222222222222,
              "#7201a8"
             ],
             [
              0.3333333333333333,
              "#9c179e"
             ],
             [
              0.4444444444444444,
              "#bd3786"
             ],
             [
              0.5555555555555556,
              "#d8576b"
             ],
             [
              0.6666666666666666,
              "#ed7953"
             ],
             [
              0.7777777777777778,
              "#fb9f3a"
             ],
             [
              0.8888888888888888,
              "#fdca26"
             ],
             [
              1,
              "#f0f921"
             ]
            ],
            "type": "heatmapgl"
           }
          ],
          "histogram": [
           {
            "marker": {
             "colorbar": {
              "outlinewidth": 0,
              "ticks": ""
             }
            },
            "type": "histogram"
           }
          ],
          "histogram2d": [
           {
            "colorbar": {
             "outlinewidth": 0,
             "ticks": ""
            },
            "colorscale": [
             [
              0,
              "#0d0887"
             ],
             [
              0.1111111111111111,
              "#46039f"
             ],
             [
              0.2222222222222222,
              "#7201a8"
             ],
             [
              0.3333333333333333,
              "#9c179e"
             ],
             [
              0.4444444444444444,
              "#bd3786"
             ],
             [
              0.5555555555555556,
              "#d8576b"
             ],
             [
              0.6666666666666666,
              "#ed7953"
             ],
             [
              0.7777777777777778,
              "#fb9f3a"
             ],
             [
              0.8888888888888888,
              "#fdca26"
             ],
             [
              1,
              "#f0f921"
             ]
            ],
            "type": "histogram2d"
           }
          ],
          "histogram2dcontour": [
           {
            "colorbar": {
             "outlinewidth": 0,
             "ticks": ""
            },
            "colorscale": [
             [
              0,
              "#0d0887"
             ],
             [
              0.1111111111111111,
              "#46039f"
             ],
             [
              0.2222222222222222,
              "#7201a8"
             ],
             [
              0.3333333333333333,
              "#9c179e"
             ],
             [
              0.4444444444444444,
              "#bd3786"
             ],
             [
              0.5555555555555556,
              "#d8576b"
             ],
             [
              0.6666666666666666,
              "#ed7953"
             ],
             [
              0.7777777777777778,
              "#fb9f3a"
             ],
             [
              0.8888888888888888,
              "#fdca26"
             ],
             [
              1,
              "#f0f921"
             ]
            ],
            "type": "histogram2dcontour"
           }
          ],
          "mesh3d": [
           {
            "colorbar": {
             "outlinewidth": 0,
             "ticks": ""
            },
            "type": "mesh3d"
           }
          ],
          "parcoords": [
           {
            "line": {
             "colorbar": {
              "outlinewidth": 0,
              "ticks": ""
             }
            },
            "type": "parcoords"
           }
          ],
          "pie": [
           {
            "automargin": true,
            "type": "pie"
           }
          ],
          "scatter": [
           {
            "marker": {
             "colorbar": {
              "outlinewidth": 0,
              "ticks": ""
             }
            },
            "type": "scatter"
           }
          ],
          "scatter3d": [
           {
            "line": {
             "colorbar": {
              "outlinewidth": 0,
              "ticks": ""
             }
            },
            "marker": {
             "colorbar": {
              "outlinewidth": 0,
              "ticks": ""
             }
            },
            "type": "scatter3d"
           }
          ],
          "scattercarpet": [
           {
            "marker": {
             "colorbar": {
              "outlinewidth": 0,
              "ticks": ""
             }
            },
            "type": "scattercarpet"
           }
          ],
          "scattergeo": [
           {
            "marker": {
             "colorbar": {
              "outlinewidth": 0,
              "ticks": ""
             }
            },
            "type": "scattergeo"
           }
          ],
          "scattergl": [
           {
            "marker": {
             "colorbar": {
              "outlinewidth": 0,
              "ticks": ""
             }
            },
            "type": "scattergl"
           }
          ],
          "scattermapbox": [
           {
            "marker": {
             "colorbar": {
              "outlinewidth": 0,
              "ticks": ""
             }
            },
            "type": "scattermapbox"
           }
          ],
          "scatterpolar": [
           {
            "marker": {
             "colorbar": {
              "outlinewidth": 0,
              "ticks": ""
             }
            },
            "type": "scatterpolar"
           }
          ],
          "scatterpolargl": [
           {
            "marker": {
             "colorbar": {
              "outlinewidth": 0,
              "ticks": ""
             }
            },
            "type": "scatterpolargl"
           }
          ],
          "scatterternary": [
           {
            "marker": {
             "colorbar": {
              "outlinewidth": 0,
              "ticks": ""
             }
            },
            "type": "scatterternary"
           }
          ],
          "surface": [
           {
            "colorbar": {
             "outlinewidth": 0,
             "ticks": ""
            },
            "colorscale": [
             [
              0,
              "#0d0887"
             ],
             [
              0.1111111111111111,
              "#46039f"
             ],
             [
              0.2222222222222222,
              "#7201a8"
             ],
             [
              0.3333333333333333,
              "#9c179e"
             ],
             [
              0.4444444444444444,
              "#bd3786"
             ],
             [
              0.5555555555555556,
              "#d8576b"
             ],
             [
              0.6666666666666666,
              "#ed7953"
             ],
             [
              0.7777777777777778,
              "#fb9f3a"
             ],
             [
              0.8888888888888888,
              "#fdca26"
             ],
             [
              1,
              "#f0f921"
             ]
            ],
            "type": "surface"
           }
          ],
          "table": [
           {
            "cells": {
             "fill": {
              "color": "#EBF0F8"
             },
             "line": {
              "color": "white"
             }
            },
            "header": {
             "fill": {
              "color": "#C8D4E3"
             },
             "line": {
              "color": "white"
             }
            },
            "type": "table"
           }
          ]
         },
         "layout": {
          "annotationdefaults": {
           "arrowcolor": "#2a3f5f",
           "arrowhead": 0,
           "arrowwidth": 1
          },
          "autotypenumbers": "strict",
          "coloraxis": {
           "colorbar": {
            "outlinewidth": 0,
            "ticks": ""
           }
          },
          "colorscale": {
           "diverging": [
            [
             0,
             "#8e0152"
            ],
            [
             0.1,
             "#c51b7d"
            ],
            [
             0.2,
             "#de77ae"
            ],
            [
             0.3,
             "#f1b6da"
            ],
            [
             0.4,
             "#fde0ef"
            ],
            [
             0.5,
             "#f7f7f7"
            ],
            [
             0.6,
             "#e6f5d0"
            ],
            [
             0.7,
             "#b8e186"
            ],
            [
             0.8,
             "#7fbc41"
            ],
            [
             0.9,
             "#4d9221"
            ],
            [
             1,
             "#276419"
            ]
           ],
           "sequential": [
            [
             0,
             "#0d0887"
            ],
            [
             0.1111111111111111,
             "#46039f"
            ],
            [
             0.2222222222222222,
             "#7201a8"
            ],
            [
             0.3333333333333333,
             "#9c179e"
            ],
            [
             0.4444444444444444,
             "#bd3786"
            ],
            [
             0.5555555555555556,
             "#d8576b"
            ],
            [
             0.6666666666666666,
             "#ed7953"
            ],
            [
             0.7777777777777778,
             "#fb9f3a"
            ],
            [
             0.8888888888888888,
             "#fdca26"
            ],
            [
             1,
             "#f0f921"
            ]
           ],
           "sequentialminus": [
            [
             0,
             "#0d0887"
            ],
            [
             0.1111111111111111,
             "#46039f"
            ],
            [
             0.2222222222222222,
             "#7201a8"
            ],
            [
             0.3333333333333333,
             "#9c179e"
            ],
            [
             0.4444444444444444,
             "#bd3786"
            ],
            [
             0.5555555555555556,
             "#d8576b"
            ],
            [
             0.6666666666666666,
             "#ed7953"
            ],
            [
             0.7777777777777778,
             "#fb9f3a"
            ],
            [
             0.8888888888888888,
             "#fdca26"
            ],
            [
             1,
             "#f0f921"
            ]
           ]
          },
          "colorway": [
           "#636efa",
           "#EF553B",
           "#00cc96",
           "#ab63fa",
           "#FFA15A",
           "#19d3f3",
           "#FF6692",
           "#B6E880",
           "#FF97FF",
           "#FECB52"
          ],
          "font": {
           "color": "#2a3f5f"
          },
          "geo": {
           "bgcolor": "white",
           "lakecolor": "white",
           "landcolor": "#E5ECF6",
           "showlakes": true,
           "showland": true,
           "subunitcolor": "white"
          },
          "hoverlabel": {
           "align": "left"
          },
          "hovermode": "closest",
          "mapbox": {
           "style": "light"
          },
          "paper_bgcolor": "white",
          "plot_bgcolor": "#E5ECF6",
          "polar": {
           "angularaxis": {
            "gridcolor": "white",
            "linecolor": "white",
            "ticks": ""
           },
           "bgcolor": "#E5ECF6",
           "radialaxis": {
            "gridcolor": "white",
            "linecolor": "white",
            "ticks": ""
           }
          },
          "scene": {
           "xaxis": {
            "backgroundcolor": "#E5ECF6",
            "gridcolor": "white",
            "gridwidth": 2,
            "linecolor": "white",
            "showbackground": true,
            "ticks": "",
            "zerolinecolor": "white"
           },
           "yaxis": {
            "backgroundcolor": "#E5ECF6",
            "gridcolor": "white",
            "gridwidth": 2,
            "linecolor": "white",
            "showbackground": true,
            "ticks": "",
            "zerolinecolor": "white"
           },
           "zaxis": {
            "backgroundcolor": "#E5ECF6",
            "gridcolor": "white",
            "gridwidth": 2,
            "linecolor": "white",
            "showbackground": true,
            "ticks": "",
            "zerolinecolor": "white"
           }
          },
          "shapedefaults": {
           "line": {
            "color": "#2a3f5f"
           }
          },
          "ternary": {
           "aaxis": {
            "gridcolor": "white",
            "linecolor": "white",
            "ticks": ""
           },
           "baxis": {
            "gridcolor": "white",
            "linecolor": "white",
            "ticks": ""
           },
           "bgcolor": "#E5ECF6",
           "caxis": {
            "gridcolor": "white",
            "linecolor": "white",
            "ticks": ""
           }
          },
          "title": {
           "x": 0.05
          },
          "xaxis": {
           "automargin": true,
           "gridcolor": "white",
           "linecolor": "white",
           "ticks": "",
           "title": {
            "standoff": 15
           },
           "zerolinecolor": "white",
           "zerolinewidth": 2
          },
          "yaxis": {
           "automargin": true,
           "gridcolor": "white",
           "linecolor": "white",
           "ticks": "",
           "title": {
            "standoff": 15
           },
           "zerolinecolor": "white",
           "zerolinewidth": 2
          }
         }
        }
       }
      },
      "text/html": [
       "<div>                            <div id=\"6d42555c-53ad-46b5-bf14-129437e439b4\" class=\"plotly-graph-div\" style=\"height:525px; width:100%;\"></div>            <script type=\"text/javascript\">                require([\"plotly\"], function(Plotly) {                    window.PLOTLYENV=window.PLOTLYENV || {};                                    if (document.getElementById(\"6d42555c-53ad-46b5-bf14-129437e439b4\")) {                    Plotly.newPlot(                        \"6d42555c-53ad-46b5-bf14-129437e439b4\",                        [{\"insidetextorientation\": \"radial\", \"labels\": [\"Certificate\", \"Flexible work hours\", \"5 days a week\", \"Letter of recommendation\", \"Informal dress code\", \"Free snacks & beverages\", \"Job offer\"], \"textinfo\": \"label+percent\", \"type\": \"pie\", \"values\": [2131, 1495, 844, 1726, 289, 90, 235]}],                        {\"template\": {\"data\": {\"bar\": [{\"error_x\": {\"color\": \"#2a3f5f\"}, \"error_y\": {\"color\": \"#2a3f5f\"}, \"marker\": {\"line\": {\"color\": \"#E5ECF6\", \"width\": 0.5}}, \"type\": \"bar\"}], \"barpolar\": [{\"marker\": {\"line\": {\"color\": \"#E5ECF6\", \"width\": 0.5}}, \"type\": \"barpolar\"}], \"carpet\": [{\"aaxis\": {\"endlinecolor\": \"#2a3f5f\", \"gridcolor\": \"white\", \"linecolor\": \"white\", \"minorgridcolor\": \"white\", \"startlinecolor\": \"#2a3f5f\"}, \"baxis\": {\"endlinecolor\": \"#2a3f5f\", \"gridcolor\": \"white\", \"linecolor\": \"white\", \"minorgridcolor\": \"white\", \"startlinecolor\": \"#2a3f5f\"}, \"type\": \"carpet\"}], \"choropleth\": [{\"colorbar\": {\"outlinewidth\": 0, \"ticks\": \"\"}, \"type\": \"choropleth\"}], \"contour\": [{\"colorbar\": {\"outlinewidth\": 0, \"ticks\": \"\"}, \"colorscale\": [[0.0, \"#0d0887\"], [0.1111111111111111, \"#46039f\"], [0.2222222222222222, \"#7201a8\"], [0.3333333333333333, \"#9c179e\"], [0.4444444444444444, \"#bd3786\"], [0.5555555555555556, \"#d8576b\"], [0.6666666666666666, \"#ed7953\"], [0.7777777777777778, \"#fb9f3a\"], [0.8888888888888888, \"#fdca26\"], [1.0, \"#f0f921\"]], \"type\": \"contour\"}], \"contourcarpet\": [{\"colorbar\": {\"outlinewidth\": 0, \"ticks\": \"\"}, \"type\": \"contourcarpet\"}], \"heatmap\": [{\"colorbar\": {\"outlinewidth\": 0, \"ticks\": \"\"}, \"colorscale\": [[0.0, \"#0d0887\"], [0.1111111111111111, \"#46039f\"], [0.2222222222222222, \"#7201a8\"], [0.3333333333333333, \"#9c179e\"], [0.4444444444444444, \"#bd3786\"], [0.5555555555555556, \"#d8576b\"], [0.6666666666666666, \"#ed7953\"], [0.7777777777777778, \"#fb9f3a\"], [0.8888888888888888, \"#fdca26\"], [1.0, \"#f0f921\"]], \"type\": \"heatmap\"}], \"heatmapgl\": [{\"colorbar\": {\"outlinewidth\": 0, \"ticks\": \"\"}, \"colorscale\": [[0.0, \"#0d0887\"], [0.1111111111111111, \"#46039f\"], [0.2222222222222222, \"#7201a8\"], [0.3333333333333333, \"#9c179e\"], [0.4444444444444444, \"#bd3786\"], [0.5555555555555556, \"#d8576b\"], [0.6666666666666666, \"#ed7953\"], [0.7777777777777778, \"#fb9f3a\"], [0.8888888888888888, \"#fdca26\"], [1.0, \"#f0f921\"]], \"type\": \"heatmapgl\"}], \"histogram\": [{\"marker\": {\"colorbar\": {\"outlinewidth\": 0, \"ticks\": \"\"}}, \"type\": \"histogram\"}], \"histogram2d\": [{\"colorbar\": {\"outlinewidth\": 0, \"ticks\": \"\"}, \"colorscale\": [[0.0, \"#0d0887\"], [0.1111111111111111, \"#46039f\"], [0.2222222222222222, \"#7201a8\"], [0.3333333333333333, \"#9c179e\"], [0.4444444444444444, \"#bd3786\"], [0.5555555555555556, \"#d8576b\"], [0.6666666666666666, \"#ed7953\"], [0.7777777777777778, \"#fb9f3a\"], [0.8888888888888888, \"#fdca26\"], [1.0, \"#f0f921\"]], \"type\": \"histogram2d\"}], \"histogram2dcontour\": [{\"colorbar\": {\"outlinewidth\": 0, \"ticks\": \"\"}, \"colorscale\": [[0.0, \"#0d0887\"], [0.1111111111111111, \"#46039f\"], [0.2222222222222222, \"#7201a8\"], [0.3333333333333333, \"#9c179e\"], [0.4444444444444444, \"#bd3786\"], [0.5555555555555556, \"#d8576b\"], [0.6666666666666666, \"#ed7953\"], [0.7777777777777778, \"#fb9f3a\"], [0.8888888888888888, \"#fdca26\"], [1.0, \"#f0f921\"]], \"type\": \"histogram2dcontour\"}], \"mesh3d\": [{\"colorbar\": {\"outlinewidth\": 0, \"ticks\": \"\"}, \"type\": \"mesh3d\"}], \"parcoords\": [{\"line\": {\"colorbar\": {\"outlinewidth\": 0, \"ticks\": \"\"}}, \"type\": \"parcoords\"}], \"pie\": [{\"automargin\": true, \"type\": \"pie\"}], \"scatter\": [{\"marker\": {\"colorbar\": {\"outlinewidth\": 0, \"ticks\": \"\"}}, \"type\": \"scatter\"}], \"scatter3d\": [{\"line\": {\"colorbar\": {\"outlinewidth\": 0, \"ticks\": \"\"}}, \"marker\": {\"colorbar\": {\"outlinewidth\": 0, \"ticks\": \"\"}}, \"type\": \"scatter3d\"}], \"scattercarpet\": [{\"marker\": {\"colorbar\": {\"outlinewidth\": 0, \"ticks\": \"\"}}, \"type\": \"scattercarpet\"}], \"scattergeo\": [{\"marker\": {\"colorbar\": {\"outlinewidth\": 0, \"ticks\": \"\"}}, \"type\": \"scattergeo\"}], \"scattergl\": [{\"marker\": {\"colorbar\": {\"outlinewidth\": 0, \"ticks\": \"\"}}, \"type\": \"scattergl\"}], \"scattermapbox\": [{\"marker\": {\"colorbar\": {\"outlinewidth\": 0, \"ticks\": \"\"}}, \"type\": \"scattermapbox\"}], \"scatterpolar\": [{\"marker\": {\"colorbar\": {\"outlinewidth\": 0, \"ticks\": \"\"}}, \"type\": \"scatterpolar\"}], \"scatterpolargl\": [{\"marker\": {\"colorbar\": {\"outlinewidth\": 0, \"ticks\": \"\"}}, \"type\": \"scatterpolargl\"}], \"scatterternary\": [{\"marker\": {\"colorbar\": {\"outlinewidth\": 0, \"ticks\": \"\"}}, \"type\": \"scatterternary\"}], \"surface\": [{\"colorbar\": {\"outlinewidth\": 0, \"ticks\": \"\"}, \"colorscale\": [[0.0, \"#0d0887\"], [0.1111111111111111, \"#46039f\"], [0.2222222222222222, \"#7201a8\"], [0.3333333333333333, \"#9c179e\"], [0.4444444444444444, \"#bd3786\"], [0.5555555555555556, \"#d8576b\"], [0.6666666666666666, \"#ed7953\"], [0.7777777777777778, \"#fb9f3a\"], [0.8888888888888888, \"#fdca26\"], [1.0, \"#f0f921\"]], \"type\": \"surface\"}], \"table\": [{\"cells\": {\"fill\": {\"color\": \"#EBF0F8\"}, \"line\": {\"color\": \"white\"}}, \"header\": {\"fill\": {\"color\": \"#C8D4E3\"}, \"line\": {\"color\": \"white\"}}, \"type\": \"table\"}]}, \"layout\": {\"annotationdefaults\": {\"arrowcolor\": \"#2a3f5f\", \"arrowhead\": 0, \"arrowwidth\": 1}, \"autotypenumbers\": \"strict\", \"coloraxis\": {\"colorbar\": {\"outlinewidth\": 0, \"ticks\": \"\"}}, \"colorscale\": {\"diverging\": [[0, \"#8e0152\"], [0.1, \"#c51b7d\"], [0.2, \"#de77ae\"], [0.3, \"#f1b6da\"], [0.4, \"#fde0ef\"], [0.5, \"#f7f7f7\"], [0.6, \"#e6f5d0\"], [0.7, \"#b8e186\"], [0.8, \"#7fbc41\"], [0.9, \"#4d9221\"], [1, \"#276419\"]], \"sequential\": [[0.0, \"#0d0887\"], [0.1111111111111111, \"#46039f\"], [0.2222222222222222, \"#7201a8\"], [0.3333333333333333, \"#9c179e\"], [0.4444444444444444, \"#bd3786\"], [0.5555555555555556, \"#d8576b\"], [0.6666666666666666, \"#ed7953\"], [0.7777777777777778, \"#fb9f3a\"], [0.8888888888888888, \"#fdca26\"], [1.0, \"#f0f921\"]], \"sequentialminus\": [[0.0, \"#0d0887\"], [0.1111111111111111, \"#46039f\"], [0.2222222222222222, \"#7201a8\"], [0.3333333333333333, \"#9c179e\"], [0.4444444444444444, \"#bd3786\"], [0.5555555555555556, \"#d8576b\"], [0.6666666666666666, \"#ed7953\"], [0.7777777777777778, \"#fb9f3a\"], [0.8888888888888888, \"#fdca26\"], [1.0, \"#f0f921\"]]}, \"colorway\": [\"#636efa\", \"#EF553B\", \"#00cc96\", \"#ab63fa\", \"#FFA15A\", \"#19d3f3\", \"#FF6692\", \"#B6E880\", \"#FF97FF\", \"#FECB52\"], \"font\": {\"color\": \"#2a3f5f\"}, \"geo\": {\"bgcolor\": \"white\", \"lakecolor\": \"white\", \"landcolor\": \"#E5ECF6\", \"showlakes\": true, \"showland\": true, \"subunitcolor\": \"white\"}, \"hoverlabel\": {\"align\": \"left\"}, \"hovermode\": \"closest\", \"mapbox\": {\"style\": \"light\"}, \"paper_bgcolor\": \"white\", \"plot_bgcolor\": \"#E5ECF6\", \"polar\": {\"angularaxis\": {\"gridcolor\": \"white\", \"linecolor\": \"white\", \"ticks\": \"\"}, \"bgcolor\": \"#E5ECF6\", \"radialaxis\": {\"gridcolor\": \"white\", \"linecolor\": \"white\", \"ticks\": \"\"}}, \"scene\": {\"xaxis\": {\"backgroundcolor\": \"#E5ECF6\", \"gridcolor\": \"white\", \"gridwidth\": 2, \"linecolor\": \"white\", \"showbackground\": true, \"ticks\": \"\", \"zerolinecolor\": \"white\"}, \"yaxis\": {\"backgroundcolor\": \"#E5ECF6\", \"gridcolor\": \"white\", \"gridwidth\": 2, \"linecolor\": \"white\", \"showbackground\": true, \"ticks\": \"\", \"zerolinecolor\": \"white\"}, \"zaxis\": {\"backgroundcolor\": \"#E5ECF6\", \"gridcolor\": \"white\", \"gridwidth\": 2, \"linecolor\": \"white\", \"showbackground\": true, \"ticks\": \"\", \"zerolinecolor\": \"white\"}}, \"shapedefaults\": {\"line\": {\"color\": \"#2a3f5f\"}}, \"ternary\": {\"aaxis\": {\"gridcolor\": \"white\", \"linecolor\": \"white\", \"ticks\": \"\"}, \"baxis\": {\"gridcolor\": \"white\", \"linecolor\": \"white\", \"ticks\": \"\"}, \"bgcolor\": \"#E5ECF6\", \"caxis\": {\"gridcolor\": \"white\", \"linecolor\": \"white\", \"ticks\": \"\"}}, \"title\": {\"x\": 0.05}, \"xaxis\": {\"automargin\": true, \"gridcolor\": \"white\", \"linecolor\": \"white\", \"ticks\": \"\", \"title\": {\"standoff\": 15}, \"zerolinecolor\": \"white\", \"zerolinewidth\": 2}, \"yaxis\": {\"automargin\": true, \"gridcolor\": \"white\", \"linecolor\": \"white\", \"ticks\": \"\", \"title\": {\"standoff\": 15}, \"zerolinecolor\": \"white\", \"zerolinewidth\": 2}}}},                        {\"responsive\": true}                    ).then(function(){\n",
       "                            \n",
       "var gd = document.getElementById('6d42555c-53ad-46b5-bf14-129437e439b4');\n",
       "var x = new MutationObserver(function (mutations, observer) {{\n",
       "        var display = window.getComputedStyle(gd).display;\n",
       "        if (!display || display === 'none') {{\n",
       "            console.log([gd, 'removed!']);\n",
       "            Plotly.purge(gd);\n",
       "            observer.disconnect();\n",
       "        }}\n",
       "}});\n",
       "\n",
       "// Listen for the removal of the full notebook cells\n",
       "var notebookContainer = gd.closest('#notebook-container');\n",
       "if (notebookContainer) {{\n",
       "    x.observe(notebookContainer, {childList: true});\n",
       "}}\n",
       "\n",
       "// Listen for the clearing of the current output cell\n",
       "var outputEl = gd.closest('.output');\n",
       "if (outputEl) {{\n",
       "    x.observe(outputEl, {childList: true});\n",
       "}}\n",
       "\n",
       "                        })                };                });            </script>        </div>"
      ]
     },
     "metadata": {},
     "output_type": "display_data"
    }
   ],
   "source": [
    "fig = go.Figure(data=[go.Pie(labels=perks_series.index, values=perks_series.values, textinfo='label+percent',\n",
    "                             insidetextorientation='radial'\n",
    "                            )])\n",
    "fig.show()"
   ]
  },
  {
   "cell_type": "markdown",
   "id": "03a523bb",
   "metadata": {},
   "source": [
    "### Who Can Apply feature"
   ]
  },
  {
   "cell_type": "code",
   "execution_count": 20,
   "id": "73b91f8c",
   "metadata": {
    "ExecuteTime": {
     "end_time": "2021-06-14T10:28:32.262623Z",
     "start_time": "2021-06-14T10:28:32.248278Z"
    }
   },
   "outputs": [
    {
     "data": {
      "text/plain": [
       "0       None\n",
       "1       None\n",
       "2       None\n",
       "3       None\n",
       "4       None\n",
       "        ... \n",
       "2369    None\n",
       "2370    None\n",
       "2371    None\n",
       "2372    None\n",
       "2373    None\n",
       "Name: who_can_apply, Length: 2374, dtype: object"
      ]
     },
     "execution_count": 20,
     "metadata": {},
     "output_type": "execute_result"
    }
   ],
   "source": [
    "all_application_features = {}\n",
    "\n",
    "def extract_perks(series):\n",
    "    if(type(series) == str):\n",
    "        application_data = series.split(\"\\n\")\n",
    "        for application in application_data:\n",
    "            application = application.strip()\n",
    "            all_application_features[application] = all_application_features.get(application, 0) + 1\n",
    "\n",
    "df.who_can_apply.apply(extract_perks)"
   ]
  },
  {
   "cell_type": "code",
   "execution_count": 21,
   "id": "2b86d7e4",
   "metadata": {
    "ExecuteTime": {
     "end_time": "2021-06-14T10:28:39.129867Z",
     "start_time": "2021-06-14T10:28:39.119605Z"
    }
   },
   "outputs": [
    {
     "data": {
      "text/plain": [
       "{'Only those candidates can apply who:': 2374,\n",
       " '1. are available for the work from home job/internship': 1715,\n",
       " \"2. can start the work from home job/internship between 19th May'21 and 23rd Jun'21\": 144,\n",
       " '3. are available for duration of 5 months': 24,\n",
       " '4. have relevant skills and interests': 2123,\n",
       " '* Women wanting to start/restart their career can also apply.': 1324,\n",
       " \"2. can start the work from home job/internship between 26th May'21 and 30th Jun'21\": 174,\n",
       " '3. are available for duration of 4 months': 126,\n",
       " \"2. can start the work from home job/internship between 23rd May'21 and 27th Jun'21\": 54,\n",
       " '3. are available for duration of 1 month': 179,\n",
       " '1. are available for full time (in-office) internship': 599,\n",
       " \"2. can start the internship between 23rd May'21 and 27th Jun'21\": 11,\n",
       " '3. are available for duration of 6 months': 826,\n",
       " \"2. can start the work from home job/internship between 25th May'21 and 29th Jun'21\": 97,\n",
       " \"2. can start the work from home job/internship between 28th May'21 and 2nd Jul'21\": 119,\n",
       " '3. are available for duration of 3 months': 792,\n",
       " \"2. can start the work from home job/internship between 18th May'21 and 22nd Jun'21\": 89,\n",
       " '3. are available for duration of 3 weeks': 3,\n",
       " \"2. can start the work from home job/internship between 29th May'21 and 3rd Jul'21\": 103,\n",
       " '3. are available for duration of 2 months': 406,\n",
       " \"2. can start the internship between 19th May'21 and 23rd Jun'21\": 38,\n",
       " '4.  are from Delhi, Gurgaon, Noida and neighboring cities': 4,\n",
       " '5. have relevant skills and interests': 251,\n",
       " \"2. can start the internship between 27th May'21 and 1st Jul'21\": 78,\n",
       " \"2. can start the work from home job/internship between 20th May'21 and 24th Jun'21\": 110,\n",
       " \"2. can start the work from home job/internship between 10th May'21 and 16th Jun'21\": 1,\n",
       " \"2. can start the internship between 28th May'21 and 2nd Jul'21\": 38,\n",
       " '1. are available for the part time job/internship': 60,\n",
       " \"2. can start the part time job/internship between 25th May'21 and 29th Jun'21\": 3,\n",
       " '4.  are from Jaipur': 8,\n",
       " \"2. can start the work from home job/internship between 31st May'21 and 5th Jul'21\": 107,\n",
       " \"2. can start the internship between 21st May'21 and 25th Jun'21\": 53,\n",
       " \"2. can start the internship between 20th May'21 and 25th Jun'21\": 3,\n",
       " '4.  are from Faridabad, Delhi, Gurgaon, Noida and neighboring cities': 3,\n",
       " \"2. can start the work from home job/internship between 24th May'21 and 28th Jun'21\": 113,\n",
       " \"2. can start the work from home job/internship between 27th May'21 and 1st Jul'21\": 174,\n",
       " \"2. can start the work from home job/internship between 22nd May'21 and 26th Jun'21\": 61,\n",
       " \"2. can start the part time job/internship between 27th May'21 and 1st Jul'21\": 8,\n",
       " '4.  are from Chandigarh and neighboring cities': 3,\n",
       " \"2. can start the work from home job/internship between 15th May'21 and 19th Jun'21\": 3,\n",
       " \"2. can start the internship between 24th May'21 and 28th Jun'21\": 33,\n",
       " '4.  are from Kolkata': 5,\n",
       " \"2. can start the internship between 26th May'21 and 30th Jun'21\": 79,\n",
       " '4.  are from Kochi': 9,\n",
       " \"2. can start the work from home job/internship between 30th May'21 and 4th Jul'21\": 68,\n",
       " \"2. can start the internship between 25th May'21 and 29th Jun'21\": 23,\n",
       " \"2. can start the part time job/internship between 28th May'21 and 2nd Jul'21\": 2,\n",
       " '4.  are from Noida and neighboring cities': 8,\n",
       " \"2. can start the work from home job/internship between 1st Jun'21 and 6th Jul'21\": 51,\n",
       " '4.  are from Chennai and neighboring cities': 4,\n",
       " \"2. can start the work from home job/internship between 17th May'21 and 21st Jun'21\": 46,\n",
       " \"2. can start the part time job/internship between 30th May'21 and 4th Jul'21\": 1,\n",
       " '4.  are from Bangalore': 17,\n",
       " \"2. can start the internship between 18th May'21 and 22nd Jun'21\": 32,\n",
       " \"2. can start the work from home job/internship between 21st May'21 and 25th Jun'21\": 111,\n",
       " \"2. can start the part time job/internship between 23rd May'21 and 27th Jun'21\": 6,\n",
       " \"2. can start the internship between 31st May'21 and 5th Jul'21\": 34,\n",
       " '4.  are from Hyderabad and neighboring cities': 13,\n",
       " '4.  are from Mumbai and neighboring cities': 32,\n",
       " \"2. can start the internship between 29th May'21 and 3rd Jul'21\": 31,\n",
       " \"2. can start the work from home job/internship between 11th May'21 and 15th Jun'21\": 6,\n",
       " \"2. can start the internship between 22nd May'21 and 26th Jun'21\": 24,\n",
       " '4.  are from Delhi, Gurgaon, Lucknow, Pune, Bangalore, Mumbai, Noida and neighboring cities': 1,\n",
       " \"2. can start the part time job/internship between 18th May'21 and 22nd Jun'21\": 6,\n",
       " '4.  are from Delhi and neighboring cities': 22,\n",
       " \"2. can start the internship between 20th May'21 and 24th Jun'21\": 46,\n",
       " \"2. can start the work from home job/internship between 28th Apr'21 and 2nd Jun'21\": 2,\n",
       " \"2. can start the work from home job/internship between 1st May'21 and 5th Jun'21\": 4,\n",
       " '4.  are from Patna': 3,\n",
       " '4.  are from Tirupati': 2,\n",
       " '4.  are from Ahmedabad': 5,\n",
       " \"2. can start the internship between 3rd May'21 and 7th Jun'21\": 4,\n",
       " \"2. can start the internship between 7th May'21 and 11th Jun'21\": 3,\n",
       " '4.  are from Coimbatore, Coimbatore North, Coimbatore South and neighboring cities': 1,\n",
       " \"2. can start the work from home job/internship between 30th Apr'21 and 4th Jun'21\": 6,\n",
       " \"2. can start the work from home job/internship between 12th May'21 and 16th Jun'21\": 3,\n",
       " '4.  are from Raipur': 7,\n",
       " \"2. can start the internship between 1st Jun'21 and 6th Jul'21\": 21,\n",
       " '4.  are from Kolkata, Kolkata, New Town and neighboring cities': 1,\n",
       " '4.  are from Pune, Mumbai and neighboring cities': 1,\n",
       " '4.  are from Surat': 7,\n",
       " '4.  are from Ghaziabad, Jind, Moradabad, Pathankot, Rajpura, Noida, Gwalior, Ghaziabad, Gurdaspura, Lohani and neighboring cities': 1,\n",
       " '4.  are from Pune, Chakan and neighboring cities': 3,\n",
       " '4.  are from Greater Noida, Noida and neighboring cities': 1,\n",
       " \"2. can start the internship between 17th May'21 and 21st Jun'21\": 11,\n",
       " '4.  are from Dehradun': 3,\n",
       " \"2. can start the work from home job/internship between 4th May'21 and 8th Jun'21\": 6,\n",
       " \"2. can start the work from home job/internship between 13th May'21 and 17th Jun'21\": 5,\n",
       " \"2. can start the internship between 30th May'21 and 4th Jul'21\": 8,\n",
       " \"2. can start the work from home job/internship between 5th May'21 and 10th Jun'21\": 2,\n",
       " '4.  are from Bhopal': 3,\n",
       " \"2. can start the work from home job/internship between 8th May'21 and 12th Jun'21\": 5,\n",
       " '4.  are from Pune and neighboring cities': 11,\n",
       " \"2. can start the internship between 28th Apr'21 and 2nd Jun'21\": 2,\n",
       " '4.  are from Faridabad, Delhi, Ghaziabad, Gurgaon and neighboring cities': 1,\n",
       " \"2. can start the work from home job/internship between 16th May'21 and 20th Jun'21\": 6,\n",
       " \"2. can start the part time job/internship between 20th May'21 and 24th Jun'21\": 6,\n",
       " \"2. can start the work from home job/internship between 6th May'21 and 10th Jun'21\": 4,\n",
       " \"2. can start the internship between 9th May'21 and 14th Jun'21\": 1,\n",
       " \"2. can start the internship between 30th Apr'21 and 4th Jun'21\": 2,\n",
       " \"2. can start the internship between 4th May'21 and 8th Jun'21\": 4,\n",
       " \"2. can start the work from home job/internship between 12th May'21 and 17th Jun'21\": 2,\n",
       " '3. are available for duration of 4 weeks': 7,\n",
       " \"2. can start the internship between 11th May'21 and 16th Jun'21\": 1,\n",
       " '4.  are from Gurgaon and neighboring cities': 14,\n",
       " \"2. can start the work from home job/internship between 29th Apr'21 and 3rd Jun'21\": 2,\n",
       " '4.  are from Pune, Thane, Mumbai and neighboring cities': 1,\n",
       " \"2. can start the work from home job/internship between 20th May'21 and 26th Jun'21\": 1,\n",
       " \"2. can start the part time job/internship between 1st May'21 and 5th Jun'21\": 1,\n",
       " '4.  are from Lucknow': 3,\n",
       " '4.  are from Indore': 3,\n",
       " \"2. can start the work from home job/internship between 27th Apr'21 and 1st Jun'21\": 2,\n",
       " \"2. can start the work from home job/internship between 15th May'21 and 21st Jun'21\": 2,\n",
       " '3. are available for duration of 1 week': 2,\n",
       " \"2. can start the work from home job/internship between 11th May'21 and 16th Jun'21\": 1,\n",
       " '4.  are from Vashi': 1,\n",
       " \"2. can start the internship between 10th May'21 and 14th Jun'21\": 1,\n",
       " \"2. can start the part time job/internship between 24th May'21 and 28th Jun'21\": 4,\n",
       " '4.  are from Nagpur': 1,\n",
       " \"2. can start the work from home job/internship between 6th May'21 and 11th Jun'21\": 1,\n",
       " \"2. can start the part time job/internship between 29th May'21 and 3rd Jul'21\": 3,\n",
       " \"2. can start the internship between 4th May'21 and 9th Jun'21\": 1,\n",
       " \"2. can start the work from home job/internship between 9th May'21 and 14th Jun'21\": 2,\n",
       " \"2. can start the work from home job/internship between 2nd May'21 and 7th Jun'21\": 1,\n",
       " \"2. can start the work from home job/internship between 14th May'21 and 18th Jun'21\": 4,\n",
       " '4.  are from Vadodara': 5,\n",
       " '4.  are from Mira Bhayandar, Mira Bhayandar': 1,\n",
       " \"2. can start the part time job/internship between 26th May'21 and 30th Jun'21\": 4,\n",
       " '4.  are from Jamshedpur': 2,\n",
       " '3. are available for duration of 6 weeks': 5,\n",
       " \"2. can start the part time job/internship between 31st May'21 and 5th Jul'21\": 5,\n",
       " \"2. can start the work from home job/internship between 2nd May'21 and 6th Jun'21\": 3,\n",
       " '4.  are from Faridabad and neighboring cities': 2,\n",
       " \"2. can start the part time job/internship between 3rd May'21 and 7th Jun'21\": 2,\n",
       " \"2. can start the part time job/internship between 19th May'21 and 23rd Jun'21\": 1,\n",
       " \"2. can start the work from home job/internship between 10th May'21 and 14th Jun'21\": 4,\n",
       " \"2. can start the part time job/internship between 17th May'21 and 21st Jun'21\": 2,\n",
       " '3. are available for duration of 2 weeks': 3,\n",
       " \"2. can start the work from home job/internship between 10th May'21 and 15th Jun'21\": 2,\n",
       " '4.  are from Wagholi, Pune, Pune and neighboring cities': 1,\n",
       " '4.  are from Ahmedabad, Gandhinagar, Mehsana, Surat, Anand and neighboring cities': 1,\n",
       " '4.  are from Ghaziabad, Ghaziabad and neighboring cities': 1,\n",
       " \"2. can start the part time job/internship between 13th May'21 and 17th Jun'21\": 1,\n",
       " '4.  are from Pimpri-Chinchwad and neighboring cities': 1,\n",
       " '4.  are from Ajmer, Delhi, Pune, Mumbai, Jaipur, Lakhimpur Kheri and neighboring cities': 1,\n",
       " \"2. can start the internship between 5th May'21 and 9th Jun'21\": 2,\n",
       " \"2. can start the work from home job/internship between 7th May'21 and 11th Jun'21\": 3,\n",
       " '4.  are from Ambikapur, Purnea, Sitamarhi, Srikakulam, Aurangabad, Giridih, Neyyoor, Himmatnagar and neighboring cities': 1,\n",
       " '4.  are from Delhi, Noida and neighboring cities': 1,\n",
       " '4.  are from Nanded': 1,\n",
       " '4.  are from Mumbai, Bangalore and neighboring cities': 1,\n",
       " '4.  are from Ahmedabad, Gandhinagar and neighboring cities': 1,\n",
       " '4.  are from Thane and neighboring cities': 1,\n",
       " '4.  are from Kottakkal': 3,\n",
       " \"2. can start the work from home job/internship between 1st Jul'21 and 31st Jul'21\": 1,\n",
       " \"2. can start the internship between 13th May'21 and 17th Jun'21\": 2,\n",
       " \"2. can start the work from home job/internship between 3rd May'21 and 7th Jun'21\": 3,\n",
       " \"2. can start the part time job/internship between 5th May'21 and 9th Jun'21\": 1,\n",
       " \"2. can start the internship between 11th May'21 and 15th Jun'21\": 1,\n",
       " '4.  are from Secunderabad, Hyderabad and neighboring cities': 2,\n",
       " '4.  are from Vasai and neighboring cities': 1,\n",
       " '4.  are from Delhi, Ghaziabad, Noida and neighboring cities': 7,\n",
       " '4.  are from Gurgaon, Delhi and neighboring cities': 3,\n",
       " '4.  are from Chennai, Kozhikode, Thiruvananthapuram, Thrissur, Thiruvalla, Bangalore, Ernakulam, Kannur, Bangalore and neighboring cities': 1,\n",
       " \"2. can start the internship between 6th May'21 and 10th Jun'21\": 4,\n",
       " '4.  are from Chandigarh, Mohali, Panchkula and neighboring cities': 1,\n",
       " '4.  are from Udaipur': 1,\n",
       " '4.  are from Chandigarh, Mohali and neighboring cities': 2,\n",
       " \"2. can start the internship between 22nd May'21 and 28th Jun'21\": 1,\n",
       " \"2. can start the part time job/internship between 22nd May'21 and 26th Jun'21\": 1,\n",
       " '4.  are from Navi Mumbai and neighboring cities': 1,\n",
       " \"2. can start the work from home job/internship between 4th May'21 and 9th Jun'21\": 1,\n",
       " \"2. can start the internship between 1st May'21 and 5th Jun'21\": 1,\n",
       " \"2. can start the work from home job/internship between 16th May'21 and 21st Jun'21\": 1,\n",
       " \"2. can start the part time job/internship between 21st May'21 and 25th Jun'21\": 2,\n",
       " \"2. can start the internship between 12th May'21 and 16th Jun'21\": 2,\n",
       " '3. are available for duration of 5 weeks': 1,\n",
       " \"2. can start the internship between 5th May'21 and 10th Jun'21\": 1,\n",
       " '4.  are from Dombivli and neighboring cities': 1,\n",
       " \"2. can start the work from home job/internship between 16th May'21 and 22nd Jun'21\": 1,\n",
       " \"2. can start the internship between 16th May'21 and 20th Jun'21\": 1,\n",
       " '4.  are from Pune, Pimpri-Chinchwad and neighboring cities': 1,\n",
       " \"2. can start the internship between 26th May'21 and 1st Jul'21\": 1,\n",
       " '4.  are from Thane, Navi Mumbai, Mumbai and neighboring cities': 1,\n",
       " '4.  are from Bhubaneswar, Cuttack and neighboring cities': 1,\n",
       " \"2. can start the work from home job/internship between 3rd May'21 and 8th Jun'21\": 1,\n",
       " '4.  are from Mumbai, Mumbai, Mumbai, Mumbai, Chandivali and neighboring cities': 1,\n",
       " \"2. can start the internship between 15th May'21 and 19th Jun'21\": 1,\n",
       " \"2. can start the work from home job/internship between 14th May'21 and 21st Jun'21\": 1,\n",
       " \"2. can start the work from home job/internship between 27th Apr'21 and 2nd Jun'21\": 1,\n",
       " \"2. can start the part time job/internship between 4th May'21 and 8th Jun'21\": 1,\n",
       " '4.  are from Bangalore, Mumbai and neighboring cities': 1,\n",
       " \"2. can start the work from home job/internship between 28th Apr'21 and 3rd Jun'21\": 1}"
      ]
     },
     "execution_count": 21,
     "metadata": {},
     "output_type": "execute_result"
    }
   ],
   "source": [
    "all_application_features"
   ]
  },
  {
   "cell_type": "markdown",
   "id": "c2cd612a",
   "metadata": {},
   "source": [
    "## Text Analysis"
   ]
  },
  {
   "cell_type": "code",
   "execution_count": 7,
   "id": "3874b83f",
   "metadata": {
    "ExecuteTime": {
     "end_time": "2021-06-15T05:04:30.934115Z",
     "start_time": "2021-06-15T05:04:30.924433Z"
    }
   },
   "outputs": [
    {
     "name": "stderr",
     "output_type": "stream",
     "text": [
      "/Users/admin/Projects/Msc/Data Mining/mining-env/lib/python3.9/site-packages/pandas/core/frame.py:4462: SettingWithCopyWarning: \n",
      "A value is trying to be set on a copy of a slice from a DataFrame\n",
      "\n",
      "See the caveats in the documentation: https://pandas.pydata.org/pandas-docs/stable/user_guide/indexing.html#returning-a-view-versus-a-copy\n",
      "  return super().fillna(\n"
     ]
    }
   ],
   "source": [
    "new_df = df.rename(columns={'about_the_work_from_home_job/internship':'about_internship'})\n",
    "text_analysis_df = new_df[['about_internship', 'other_requirements']]\n",
    "text_analysis_df.fillna('', inplace=True)"
   ]
  },
  {
   "cell_type": "code",
   "execution_count": 8,
   "id": "2cfd19b8",
   "metadata": {
    "ExecuteTime": {
     "end_time": "2021-06-15T05:04:32.097657Z",
     "start_time": "2021-06-15T05:04:32.076858Z"
    }
   },
   "outputs": [
    {
     "data": {
      "text/html": [
       "<div>\n",
       "<style scoped>\n",
       "    .dataframe tbody tr th:only-of-type {\n",
       "        vertical-align: middle;\n",
       "    }\n",
       "\n",
       "    .dataframe tbody tr th {\n",
       "        vertical-align: top;\n",
       "    }\n",
       "\n",
       "    .dataframe thead th {\n",
       "        text-align: right;\n",
       "    }\n",
       "</style>\n",
       "<table border=\"1\" class=\"dataframe\">\n",
       "  <thead>\n",
       "    <tr style=\"text-align: right;\">\n",
       "      <th></th>\n",
       "      <th>about_internship</th>\n",
       "      <th>other_requirements</th>\n",
       "    </tr>\n",
       "  </thead>\n",
       "  <tbody>\n",
       "    <tr>\n",
       "      <th>0</th>\n",
       "      <td>Selected intern's day-to-day responsibilities ...</td>\n",
       "      <td>1. Experience in hands-on development and trou...</td>\n",
       "    </tr>\n",
       "    <tr>\n",
       "      <th>1</th>\n",
       "      <td>Selected intern's day-to-day responsibilities ...</td>\n",
       "      <td></td>\n",
       "    </tr>\n",
       "    <tr>\n",
       "      <th>2</th>\n",
       "      <td>Selected intern's day-to-day responsibilities ...</td>\n",
       "      <td></td>\n",
       "    </tr>\n",
       "    <tr>\n",
       "      <th>3</th>\n",
       "      <td></td>\n",
       "      <td></td>\n",
       "    </tr>\n",
       "    <tr>\n",
       "      <th>4</th>\n",
       "      <td>Selected intern's day-to-day responsibilities ...</td>\n",
       "      <td></td>\n",
       "    </tr>\n",
       "    <tr>\n",
       "      <th>...</th>\n",
       "      <td>...</td>\n",
       "      <td>...</td>\n",
       "    </tr>\n",
       "    <tr>\n",
       "      <th>2369</th>\n",
       "      <td>Selected intern's day-to-day responsibilities ...</td>\n",
       "      <td></td>\n",
       "    </tr>\n",
       "    <tr>\n",
       "      <th>2370</th>\n",
       "      <td>Selected intern's day-to-day responsibilities ...</td>\n",
       "      <td></td>\n",
       "    </tr>\n",
       "    <tr>\n",
       "      <th>2371</th>\n",
       "      <td>1. Working on direct client projects and handl...</td>\n",
       "      <td></td>\n",
       "    </tr>\n",
       "    <tr>\n",
       "      <th>2372</th>\n",
       "      <td></td>\n",
       "      <td></td>\n",
       "    </tr>\n",
       "    <tr>\n",
       "      <th>2373</th>\n",
       "      <td>Selected intern's day-to-day responsibilities ...</td>\n",
       "      <td></td>\n",
       "    </tr>\n",
       "  </tbody>\n",
       "</table>\n",
       "<p>2374 rows × 2 columns</p>\n",
       "</div>"
      ],
      "text/plain": [
       "                                       about_internship  \\\n",
       "0     Selected intern's day-to-day responsibilities ...   \n",
       "1     Selected intern's day-to-day responsibilities ...   \n",
       "2     Selected intern's day-to-day responsibilities ...   \n",
       "3                                                         \n",
       "4     Selected intern's day-to-day responsibilities ...   \n",
       "...                                                 ...   \n",
       "2369  Selected intern's day-to-day responsibilities ...   \n",
       "2370  Selected intern's day-to-day responsibilities ...   \n",
       "2371  1. Working on direct client projects and handl...   \n",
       "2372                                                      \n",
       "2373  Selected intern's day-to-day responsibilities ...   \n",
       "\n",
       "                                     other_requirements  \n",
       "0     1. Experience in hands-on development and trou...  \n",
       "1                                                        \n",
       "2                                                        \n",
       "3                                                        \n",
       "4                                                        \n",
       "...                                                 ...  \n",
       "2369                                                     \n",
       "2370                                                     \n",
       "2371                                                     \n",
       "2372                                                     \n",
       "2373                                                     \n",
       "\n",
       "[2374 rows x 2 columns]"
      ]
     },
     "execution_count": 8,
     "metadata": {},
     "output_type": "execute_result"
    }
   ],
   "source": [
    "text_analysis_df"
   ]
  },
  {
   "cell_type": "markdown",
   "id": "6ea7f3a9",
   "metadata": {},
   "source": [
    "### Text Preprocessing"
   ]
  },
  {
   "cell_type": "code",
   "execution_count": 130,
   "id": "66dbb7b4",
   "metadata": {
    "ExecuteTime": {
     "end_time": "2021-06-15T08:31:19.157701Z",
     "start_time": "2021-06-15T08:31:19.150605Z"
    }
   },
   "outputs": [],
   "source": [
    "def preprocess(dataframe, feature, function):\n",
    "    dataframe.loc[:, feature] = dataframe[feature].apply(function)"
   ]
  },
  {
   "cell_type": "code",
   "execution_count": 10,
   "id": "8a28b515",
   "metadata": {
    "ExecuteTime": {
     "end_time": "2021-06-15T05:04:35.913092Z",
     "start_time": "2021-06-15T05:04:35.322643Z"
    }
   },
   "outputs": [
    {
     "name": "stderr",
     "output_type": "stream",
     "text": [
      "/Users/admin/Projects/Msc/Data Mining/mining-env/lib/python3.9/site-packages/pandas/core/indexing.py:1676: SettingWithCopyWarning: \n",
      "A value is trying to be set on a copy of a slice from a DataFrame.\n",
      "Try using .loc[row_indexer,col_indexer] = value instead\n",
      "\n",
      "See the caveats in the documentation: https://pandas.pydata.org/pandas-docs/stable/user_guide/indexing.html#returning-a-view-versus-a-copy\n",
      "  self._setitem_single_column(ilocs[0], value, pi)\n"
     ]
    }
   ],
   "source": [
    "def convert_to_lowercase(s):\n",
    "    if(type(s) == str):\n",
    "        return s.lower()\n",
    "    else:\n",
    "        return None\n",
    "\n",
    "def remove_special_char(s):\n",
    "    return s.replace('[^\\w\\s]','') if type(s) == str else None\n",
    "\n",
    "def remove_stop_words(s):\n",
    "    if type(s) == str:\n",
    "        stop = stopwords.words('english')\n",
    "        return \" \".join(x for x in s.split() if x not in stop)\n",
    "    else:\n",
    "        return None\n",
    "    \n",
    "def correct_spellings(s):\n",
    "    if(type(s) == str):\n",
    "        return str(TextBlob(s).correct())\n",
    "    else: \n",
    "        return None\n",
    "\n",
    "stemmer = SnowballStemmer(\"english\")\n",
    "def tokenize_and_stem(text):\n",
    "    '''\n",
    "        Functions for sentence tokenizer, to remove numeric tokens and raw #punctuation\n",
    "    '''\n",
    "    if type(text) != str: return None\n",
    "    tokens = [word for sent in nltk.sent_tokenize(text) for  word in nltk.word_tokenize(sent)]\n",
    "    filtered_tokens = []\n",
    "    for token in tokens:\n",
    "        if re.search('[a-zA-Z]', token):\n",
    "            filtered_tokens.append(token)\n",
    "    stems = [stemmer.stem(t) for t in filtered_tokens]\n",
    "    return stems\n",
    "\n",
    "preprocessing_functions = [convert_to_lowercase, remove_special_char, remove_stop_words]\n",
    "\n",
    "for func in preprocessing_functions:\n",
    "    preprocess(text_analysis_df, 'about_internship', func)"
   ]
  },
  {
   "cell_type": "markdown",
   "id": "6f8e1178",
   "metadata": {},
   "source": [
    "### Keyword Extraction using TF-IDF"
   ]
  },
  {
   "cell_type": "code",
   "execution_count": 115,
   "id": "64050989",
   "metadata": {
    "ExecuteTime": {
     "end_time": "2021-06-15T07:49:17.511692Z",
     "start_time": "2021-06-15T07:49:17.145583Z"
    }
   },
   "outputs": [],
   "source": [
    "tfidf_vectorizer = TfidfVectorizer(max_features=200000,stop_words='english', use_idf=True, ngram_range=(1,3))\n",
    "\n",
    "tfidf_matrix = tfidf_vectorizer.fit_transform(text_analysis_df.about_internship)\n",
    "\n",
    "terms = tfidf_vectorizer.get_feature_names()"
   ]
  },
  {
   "cell_type": "code",
   "execution_count": 127,
   "id": "d2ad19de",
   "metadata": {
    "ExecuteTime": {
     "end_time": "2021-06-15T08:15:00.318954Z",
     "start_time": "2021-06-15T08:14:35.225080Z"
    }
   },
   "outputs": [],
   "source": [
    "feature_array = np.array(tfidf_vectorizer.get_feature_names())\n",
    "tfidf_sorting = np.argsort(tfidf_matrix.toarray()).flatten()[::-1]\n",
    "\n",
    "n = 3\n",
    "top_n = feature_array[tfidf_sorting][:n]"
   ]
  },
  {
   "cell_type": "code",
   "execution_count": 117,
   "id": "f877d2f3",
   "metadata": {
    "ExecuteTime": {
     "end_time": "2021-06-15T07:50:23.505022Z",
     "start_time": "2021-06-15T07:50:22.612366Z"
    }
   },
   "outputs": [],
   "source": [
    "data = np.squeeze(np.sum(tfidf_matrix.todense(), axis=0).reshape(-1,1)).tolist()[0]"
   ]
  },
  {
   "cell_type": "code",
   "execution_count": 118,
   "id": "52d0ec3e",
   "metadata": {
    "ExecuteTime": {
     "end_time": "2021-06-15T07:50:47.725592Z",
     "start_time": "2021-06-15T07:50:47.643575Z"
    }
   },
   "outputs": [],
   "source": [
    "keyword_series = pd.Series(data=data, index=tfidf_vectorizer.get_feature_names())"
   ]
  },
  {
   "cell_type": "code",
   "execution_count": 120,
   "id": "4142a958",
   "metadata": {
    "ExecuteTime": {
     "end_time": "2021-06-15T07:51:16.078771Z",
     "start_time": "2021-06-15T07:51:16.072388Z"
    }
   },
   "outputs": [],
   "source": [
    "keyword_series = keyword_series.sort_values(ascending=False)"
   ]
  },
  {
   "cell_type": "code",
   "execution_count": 125,
   "id": "828bd580",
   "metadata": {
    "ExecuteTime": {
     "end_time": "2021-06-15T07:51:54.476346Z",
     "start_time": "2021-06-15T07:51:54.471155Z"
    }
   },
   "outputs": [
    {
     "data": {
      "text/plain": [
       "new                              19.093998\n",
       "develop                          17.120192\n",
       "software                         16.124382\n",
       "user                             15.409647\n",
       "react                            15.270170\n",
       "include work                     15.121716\n",
       "mobile                           15.089814\n",
       "responsibilities include work    15.075362\n",
       "features                         14.734603\n",
       "android                          14.611351\n",
       "data                             14.470755\n",
       "designing                        14.384072\n",
       "creating                         14.305479\n",
       "performance                      14.225763\n",
       "create                           14.196863\n",
       "backend                          14.098060\n",
       "js                               13.928468\n",
       "testing                          13.710084\n",
       "build                            13.408841\n",
       "apis                             13.213017\n",
       "dtype: float64"
      ]
     },
     "execution_count": 125,
     "metadata": {},
     "output_type": "execute_result"
    }
   ],
   "source": [
    "keyword_series[30: 50]"
   ]
  },
  {
   "cell_type": "code",
   "execution_count": 15,
   "id": "f8bfbb42",
   "metadata": {
    "ExecuteTime": {
     "end_time": "2021-06-14T14:12:19.991306Z",
     "start_time": "2021-06-14T14:12:00.573914Z"
    }
   },
   "outputs": [
    {
     "data": {
      "text/plain": [
       "array(['web', 'web pages', 'pages', 'designs', 'languages turn photoshop',\n",
       "       'files animated responsive', 'web technologies work',\n",
       "       'management prototype', 'management prototype ideas',\n",
       "       'wireframes visual designs', 'wireframes visual',\n",
       "       'prototype ideas', 'prototype ideas order',\n",
       "       'multiple browsers mobile', 'files animated',\n",
       "       'web based animation', 'css web pages', 'elevate concepts level',\n",
       "       'javascript scripting languages', 'css web', 'elevate concepts',\n",
       "       'fellow team members', 'commerce using',\n",
       "       'commerce using javascript', 'elevate', 'web pages based',\n",
       "       'effective communication', 'effective communication fellow',\n",
       "       'tools ensure technical', 'css3 web based', 'javascript scripting',\n",
       "       'fellow team', 'members management',\n",
       "       'devices thoroughly demonstrate', 'engage development',\n",
       "       'engage development websites', 'concepts level',\n",
       "       'development websites includes', 'scripting languages turn',\n",
       "       'include engage development', 'animation tools ensure',\n",
       "       'animation tools', 'dynamic engaging', 'dynamic engaging web',\n",
       "       'demonstrate effective communication', 'development html css',\n",
       "       'css3 web', 'engaging web', 'languages turn',\n",
       "       'members management prototype', 'demonstrate effective',\n",
       "       'work development dynamic', 'functionality commerce',\n",
       "       'animated responsive web', 'work multiple browsers',\n",
       "       'animated responsive', 'animated', 'functionality commerce using',\n",
       "       'visual designs implementation', 'using javascript scripting',\n",
       "       'tools ensure', 'pages based wireframes', 'photoshop files',\n",
       "       'pages based', 'works elevate', 'ux designs test',\n",
       "       'includes development', 'html css web', 'browsers mobile devices',\n",
       "       'browsers mobile', 'open source web', 'photoshop files animated',\n",
       "       'includes development html', 'thoroughly demonstrate effective',\n",
       "       'thoroughly demonstrate', 'team members management',\n",
       "       'communication fellow team', 'ideas order learn', 'source web',\n",
       "       'based wireframes visual', 'test work multiple', 'test work',\n",
       "       'source web technologies', 'implementation commercial',\n",
       "       'implementation commercial open', 'engaging web functionality',\n",
       "       'ideas order', 'learn works elevate', 'learn works',\n",
       "       'based animation', 'based animation tools', 'devices thoroughly',\n",
       "       'commercial open source', 'order learn', 'works elevate concepts',\n",
       "       'designs implementation', 'commercial open',\n",
       "       'mobile devices thoroughly', 'turn photoshop files',\n",
       "       'designs implementation commercial', 'commercial',\n",
       "       'turn photoshop', 'websites includes development', 'designs test',\n",
       "       'development dynamic engaging', 'web functionality commerce',\n",
       "       'designs test work', 'web functionality', 'communication fellow',\n",
       "       'websites includes', 'html5 css3 web', 'development dynamic',\n",
       "       'order learn works', 'scripting languages', 'include engage',\n",
       "       'development websites', 'visual designs',\n",
       "       'technologies work development', 'responsibilities include engage',\n",
       "       'work multiple', 'development html', 'development', 'photoshop',\n",
       "       'mobile devices', 'responsive web pages', 'prototype',\n",
       "       'pages using html5', 'turn', 'multiple browsers',\n",
       "       'based wireframes', 'fellow', 'using html5 css3', 'based',\n",
       "       'ensure technical feasibility', 'web pages using',\n",
       "       'web technologies', 'ensure technical', 'engage',\n",
       "       'technologies work', 'using html5', 'animation',\n",
       "       'technical feasibility ui', 'thoroughly', 'files', 'demonstrate',\n",
       "       'pages using', 'communication', 'feasibility ui ux', 'includes',\n",
       "       'html5 css3', 'feasibility ui', 'order', 'css3',\n",
       "       'technical feasibility', 'scripting', 'ux designs',\n",
       "       'ui ux designs', 'works', 'work development', 'feasibility',\n",
       "       'dynamic', 'commerce', 'responsive web', 'browsers',\n",
       "       'using javascript', 'open source', 'html5', 'engaging', 'using',\n",
       "       'level', 'open', 'concepts', 'web based', 'effective', 'devices',\n",
       "       'source', 'team members', 'implementation', 'members', 'work',\n",
       "       'visual', 'languages', 'learn', 'wireframes', 'functionality',\n",
       "       'ideas', 'ui ux', 'multiple', 'tools', 'ensure', 'management',\n",
       "       'responsive', 'html css', 'ux', 'websites', 'html', 'css',\n",
       "       'technologies', 'test', 'ui'], dtype='<U46')"
      ]
     },
     "execution_count": 15,
     "metadata": {},
     "output_type": "execute_result"
    }
   ],
   "source": [
    "feature_array[tfidf_sorting][:200]"
   ]
  },
  {
   "cell_type": "markdown",
   "id": "71a23e2c",
   "metadata": {},
   "source": [
    "### Keyword Extraction using YAKE"
   ]
  },
  {
   "cell_type": "code",
   "execution_count": 26,
   "id": "74ac61d9",
   "metadata": {
    "ExecuteTime": {
     "end_time": "2021-06-15T07:05:48.278150Z",
     "start_time": "2021-06-15T07:04:03.540340Z"
    }
   },
   "outputs": [
    {
     "data": {
      "text/plain": [
       "0       selected intern,responsibilities include,selec...\n",
       "1       selected intern,responsibilities include,selec...\n",
       "2       selected intern,responsibilities include,selec...\n",
       "3                                                        \n",
       "4       selected intern,responsibilities include,selec...\n",
       "                              ...                        \n",
       "2369    selected intern,responsibilities include,selec...\n",
       "2370    selected intern,responsibilities include,artif...\n",
       "2371    working,experience,development,gain,working di...\n",
       "2372                                                     \n",
       "2373    selected intern,responsibilities include,web,i...\n",
       "Name: about_internship, Length: 2374, dtype: object"
      ]
     },
     "execution_count": 26,
     "metadata": {},
     "output_type": "execute_result"
    }
   ],
   "source": [
    "from yake import KeywordExtractor\n",
    "\n",
    "all_keywords = {}\n",
    "kw_extractor = KeywordExtractor(lan=\"en\")\n",
    "\n",
    "def yake_keyword_extractor(input_str):\n",
    "    keywords = kw_extractor.extract_keywords(text=input_str)\n",
    "    keywords = [x for x, y in keywords]\n",
    "    for keyword in keywords:\n",
    "        all_keywords[keyword] = all_keywords.get(keyword, 0) + 1\n",
    "    return ','.join(keywords)\n",
    "\n",
    "text_analysis_df.about_internship.apply(yake_keyword_extractor)"
   ]
  },
  {
   "cell_type": "code",
   "execution_count": 19,
   "id": "ee0b8515",
   "metadata": {
    "ExecuteTime": {
     "end_time": "2021-06-15T06:51:12.306441Z",
     "start_time": "2021-06-15T06:51:12.301823Z"
    }
   },
   "outputs": [
    {
     "data": {
      "text/plain": [
       "['selected intern',\n",
       " 'responsibilities include',\n",
       " 'selected',\n",
       " 'intern',\n",
       " 'responsibilities',\n",
       " 'include',\n",
       " 'css practices',\n",
       " 'interface',\n",
       " 'creating website layout',\n",
       " 'creating website',\n",
       " 'modern html',\n",
       " 'application',\n",
       " 'codes',\n",
       " 'team',\n",
       " 'website layout',\n",
       " 'layout using modern',\n",
       " 'creating',\n",
       " 'html',\n",
       " 'css',\n",
       " 'practices']"
      ]
     },
     "execution_count": 19,
     "metadata": {},
     "output_type": "execute_result"
    }
   ],
   "source": [
    "keywords"
   ]
  },
  {
   "cell_type": "markdown",
   "id": "63a4300e",
   "metadata": {},
   "source": [
    "### Keyword word extraction using Count Vectorizer "
   ]
  },
  {
   "cell_type": "code",
   "execution_count": 40,
   "id": "7090df2f",
   "metadata": {
    "ExecuteTime": {
     "end_time": "2021-06-15T07:16:51.801773Z",
     "start_time": "2021-06-15T07:16:51.734025Z"
    }
   },
   "outputs": [],
   "source": [
    "count_vec = feature_extraction.text.CountVectorizer()\n",
    "response = count_vec.fit_transform(text_analysis_df.about_internship)\n"
   ]
  },
  {
   "cell_type": "code",
   "execution_count": 45,
   "id": "79f018f3",
   "metadata": {
    "ExecuteTime": {
     "end_time": "2021-06-15T07:24:07.273225Z",
     "start_time": "2021-06-15T07:24:06.812937Z"
    }
   },
   "outputs": [
    {
     "data": {
      "text/plain": [
       "array(['web', 'development', 'pages', 'based', 'designs', 'day', 'using',\n",
       "       'work', 'engaging', 'websites', 'animation', 'level', 'commercial',\n",
       "       'effective', 'to', 'intern', 'communication', 'tools',\n",
       "       'responsibilities', 'feasibility', 'ideas', 'elevate', 'scripting',\n",
       "       'mobile', 'fellow', 'commerce', 'animated', 'functionality',\n",
       "       'visual', 'photoshop', 'test', 'prototype', 'multiple', 'dynamic',\n",
       "       'includes', 'include', 'technologies', 'thoroughly', 'technical',\n",
       "       'devices', 'ux', 'team', 'source', 'next', 'css', 'css3',\n",
       "       'management', 'implementation', 'responsive', 'wireframes',\n",
       "       'learn', 'languages', 'html', 'engage', 'order', 'demonstrate',\n",
       "       'concepts', 'selected', 'javascript', 'turn', 'works', 'browsers',\n",
       "       'members', 'open', 'ensure', 'ui', 'files', 'html5', 'es5',\n",
       "       'everything', 'evse', 'evolving', 'enhancement', 'enhancements',\n",
       "       'enhancing', 'error', 'evolve', 'evolution', 'everyday', 'erp',\n",
       "       'enormous', 'every', 'events', 'event', 'envisaged', 'enriching',\n",
       "       'enrichment', 'environments', 'evueme', 'example', 'ex',\n",
       "       'evaluations', 'executing', 'engineering', 'executes', 'executed',\n",
       "       'execute', 'exciting', 'eod', 'equivalent'], dtype='<U19')"
      ]
     },
     "execution_count": 45,
     "metadata": {},
     "output_type": "execute_result"
    }
   ],
   "source": [
    "feature_array = np.array(count_vec.get_feature_names())\n",
    "count_sorting = np.argsort(response.toarray()).flatten()[::-1]\n",
    "\n",
    "feature_array[count_sorting][:100]"
   ]
  },
  {
   "cell_type": "code",
   "execution_count": 56,
   "id": "cedeaeb2",
   "metadata": {
    "ExecuteTime": {
     "end_time": "2021-06-15T07:27:55.101061Z",
     "start_time": "2021-06-15T07:27:55.086418Z"
    }
   },
   "outputs": [],
   "source": [
    "count_vect_df = pd.DataFrame(response.todense(), columns=count_vec.get_feature_names())"
   ]
  },
  {
   "cell_type": "code",
   "execution_count": 39,
   "id": "f619fb6d",
   "metadata": {
    "ExecuteTime": {
     "end_time": "2021-06-15T07:13:04.063823Z",
     "start_time": "2021-06-15T07:13:04.049419Z"
    }
   },
   "outputs": [
    {
     "data": {
      "text/plain": [
       "selected intern             1654\n",
       "responsibilities include    1646\n",
       "selected                    1632\n",
       "intern                      1621\n",
       "responsibilities            1611\n",
       "                            ... \n",
       "design build                  18\n",
       "designing building            18\n",
       "bugs                          18\n",
       "products                      18\n",
       "technical                     18\n",
       "Length: 160, dtype: int64"
      ]
     },
     "execution_count": 39,
     "metadata": {},
     "output_type": "execute_result"
    }
   ],
   "source": [
    "keywords_series = pd.Series(all_keywords)\n",
    "\n",
    "keywords_series.sort_values(ascending=False)[:160]"
   ]
  },
  {
   "cell_type": "code",
   "execution_count": 89,
   "id": "1d863d0a",
   "metadata": {
    "ExecuteTime": {
     "end_time": "2021-06-15T07:39:48.806007Z",
     "start_time": "2021-06-15T07:39:48.784936Z"
    }
   },
   "outputs": [],
   "source": [
    "data = np.squeeze(np.sum(response.todense(), axis=0).reshape(-1,1)).tolist()[0]"
   ]
  },
  {
   "cell_type": "code",
   "execution_count": 60,
   "id": "8f948b0e",
   "metadata": {
    "ExecuteTime": {
     "end_time": "2021-06-15T07:28:17.448065Z",
     "start_time": "2021-06-15T07:28:17.443725Z"
    }
   },
   "outputs": [
    {
     "data": {
      "text/plain": [
       "32"
      ]
     },
     "execution_count": 60,
     "metadata": {},
     "output_type": "execute_result"
    }
   ],
   "source": [
    "count_vect_df['11'].sum()"
   ]
  },
  {
   "cell_type": "code",
   "execution_count": 91,
   "id": "e928ff6a",
   "metadata": {
    "ExecuteTime": {
     "end_time": "2021-06-15T07:40:18.664554Z",
     "start_time": "2021-06-15T07:40:18.656702Z"
    }
   },
   "outputs": [],
   "source": [
    "keyword_series = pd.Series(data=data, index=count_vec.get_feature_names())"
   ]
  },
  {
   "cell_type": "code",
   "execution_count": 93,
   "id": "7e11c426",
   "metadata": {
    "ExecuteTime": {
     "end_time": "2021-06-15T07:40:37.834587Z",
     "start_time": "2021-06-15T07:40:37.830806Z"
    }
   },
   "outputs": [],
   "source": [
    "keyword_series = keyword_series.sort_values(ascending=False)"
   ]
  },
  {
   "cell_type": "code",
   "execution_count": 126,
   "id": "949e518d",
   "metadata": {
    "ExecuteTime": {
     "end_time": "2021-06-15T07:58:28.724020Z",
     "start_time": "2021-06-15T07:58:28.718234Z"
    }
   },
   "outputs": [
    {
     "data": {
      "text/plain": [
       "day                                 87.135030\n",
       "working                             44.943190\n",
       "day day                             43.392380\n",
       "intern                              43.262979\n",
       "include                             43.068278\n",
       "selected                            42.988183\n",
       "selected intern                     42.896717\n",
       "responsibilities                    42.871539\n",
       "intern day                          42.859560\n",
       "intern day day                      42.859560\n",
       "selected intern day                 42.859288\n",
       "day responsibilities                42.840408\n",
       "day day responsibilities            42.840408\n",
       "responsibilities include            42.819319\n",
       "day responsibilities include        42.801609\n",
       "work                                41.842245\n",
       "development                         31.706766\n",
       "website                             28.948596\n",
       "web                                 26.869604\n",
       "end                                 25.845426\n",
       "using                               24.893811\n",
       "design                              24.319796\n",
       "applications                        23.688710\n",
       "developing                          22.060565\n",
       "code                                21.878531\n",
       "include working                     21.613985\n",
       "responsibilities include working    21.613985\n",
       "team                                21.058146\n",
       "application                         20.762955\n",
       "app                                 20.473102\n",
       "new                                 19.093998\n",
       "develop                             17.120192\n",
       "software                            16.124382\n",
       "user                                15.409647\n",
       "react                               15.270170\n",
       "include work                        15.121716\n",
       "mobile                              15.089814\n",
       "responsibilities include work       15.075362\n",
       "features                            14.734603\n",
       "android                             14.611351\n",
       "dtype: float64"
      ]
     },
     "execution_count": 126,
     "metadata": {},
     "output_type": "execute_result"
    }
   ],
   "source": [
    "keyword_series[:40]"
   ]
  },
  {
   "cell_type": "markdown",
   "id": "ba5dd484",
   "metadata": {},
   "source": [
    "#### Word Cloud"
   ]
  },
  {
   "cell_type": "code",
   "execution_count": 149,
   "id": "c39a5e5c",
   "metadata": {
    "ExecuteTime": {
     "end_time": "2021-06-15T08:38:38.043650Z",
     "start_time": "2021-06-15T08:38:38.040338Z"
    }
   },
   "outputs": [],
   "source": [
    "from wordcloud import WordCloud\n",
    "import matplotlib.pyplot as plt\n",
    "\n",
    "def get_word_cloud(input_str):\n",
    "    wordcloud = WordCloud().generate(input_str)\n",
    "    plt.figure(figsize=(10,5))\n",
    "    plt.imshow(wordcloud, interpolation='bilinear')\n",
    "    plt.axis(\"off\")"
   ]
  },
  {
   "cell_type": "code",
   "execution_count": 150,
   "id": "5726643c",
   "metadata": {
    "ExecuteTime": {
     "end_time": "2021-06-15T08:38:46.844269Z",
     "start_time": "2021-06-15T08:38:46.036505Z"
    }
   },
   "outputs": [
    {
     "data": {
      "image/png": "[encoded data removed]",
      "text/plain": [
       "<Figure size 720x360 with 1 Axes>"
      ]
     },
     "metadata": {
      "needs_background": "light"
     },
     "output_type": "display_data"
    }
   ],
   "source": [
    "get_word_cloud(str(keyword_series[10:].index))"
   ]
  }
 ],
 "metadata": {
  "kernelspec": {
   "display_name": "Python 3",
   "language": "python",
   "name": "python3"
  },
  "language_info": {
   "codemirror_mode": {
    "name": "ipython",
    "version": 3
   },
   "file_extension": ".py",
   "mimetype": "text/x-python",
   "name": "python",
   "nbconvert_exporter": "python",
   "pygments_lexer": "ipython3",
   "version": "3.9.5"
  }
 },
 "nbformat": 4,
 "nbformat_minor": 5
}
