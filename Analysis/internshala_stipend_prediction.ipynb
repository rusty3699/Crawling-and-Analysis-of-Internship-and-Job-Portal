{
 "cells": [
  {
   "cell_type": "code",
   "execution_count": 57,
   "id": "e3b7a7d2",
   "metadata": {
    "ExecuteTime": {
     "end_time": "2021-07-06T06:06:20.699203Z",
     "start_time": "2021-07-06T06:06:20.695552Z"
    }
   },
   "outputs": [],
   "source": [
    "import pandas as pd\n",
    "import numpy as np\n",
    "import seaborn as sns\n",
    "import time \n",
    "\n",
    "from sklearn.model_selection import train_test_split\n",
    "from sklearn.ensemble import RandomForestRegressor\n",
    "from sklearn.model_selection import RandomizedSearchCV, GridSearchCV\n",
    "from sklearn.metrics import mean_squared_error\n",
    "\n",
    "from matplotlib import pyplot as plt\n",
    "# https://github.com/MaartenGr/KeyBERT"
   ]
  },
  {
   "cell_type": "code",
   "execution_count": 3,
   "id": "e67d89a3",
   "metadata": {
    "ExecuteTime": {
     "end_time": "2021-07-06T05:16:38.476898Z",
     "start_time": "2021-07-06T05:16:38.377034Z"
    }
   },
   "outputs": [],
   "source": [
    "df = pd.read_csv('internshala_clean.csv')"
   ]
  },
  {
   "cell_type": "markdown",
   "id": "4e2f7645",
   "metadata": {},
   "source": [
    "### One hot encode\n",
    "\n",
    "+ Perks\n",
    "+ Location"
   ]
  },
  {
   "cell_type": "code",
   "execution_count": 4,
   "id": "17e709a3",
   "metadata": {
    "ExecuteTime": {
     "end_time": "2021-07-06T05:16:38.489462Z",
     "start_time": "2021-07-06T05:16:38.480548Z"
    }
   },
   "outputs": [],
   "source": [
    "# pd.get_dummies(df, columns=['perks'], prefix_sep='\\n')\n",
    "df.perks = df.perks.apply(lambda s: \",\".join(x.strip() for x in s.split('\\n')) if type(s) == str else None)"
   ]
  },
  {
   "cell_type": "code",
   "execution_count": 5,
   "id": "979da3bd",
   "metadata": {
    "ExecuteTime": {
     "end_time": "2021-07-06T05:16:38.650925Z",
     "start_time": "2021-07-06T05:16:38.492485Z"
    }
   },
   "outputs": [
    {
     "data": {
      "text/html": [
       "<div>\n",
       "<style scoped>\n",
       "    .dataframe tbody tr th:only-of-type {\n",
       "        vertical-align: middle;\n",
       "    }\n",
       "\n",
       "    .dataframe tbody tr th {\n",
       "        vertical-align: top;\n",
       "    }\n",
       "\n",
       "    .dataframe thead th {\n",
       "        text-align: right;\n",
       "    }\n",
       "</style>\n",
       "<table border=\"1\" class=\"dataframe\">\n",
       "  <thead>\n",
       "    <tr style=\"text-align: right;\">\n",
       "      <th></th>\n",
       "      <th>location</th>\n",
       "      <th>domain_profile</th>\n",
       "      <th>company_name</th>\n",
       "      <th>about_the_work_from_home_job/internship</th>\n",
       "      <th>skills</th>\n",
       "      <th>who_can_apply</th>\n",
       "      <th>other_requirements</th>\n",
       "      <th>perks</th>\n",
       "      <th>number_of_openings</th>\n",
       "      <th>company_details</th>\n",
       "      <th>...</th>\n",
       "      <th>2 Months</th>\n",
       "      <th>2 Weeks</th>\n",
       "      <th>3 Months</th>\n",
       "      <th>3 Weeks</th>\n",
       "      <th>4 Months</th>\n",
       "      <th>4 Weeks</th>\n",
       "      <th>5 Months</th>\n",
       "      <th>5 Weeks</th>\n",
       "      <th>6 Months</th>\n",
       "      <th>6 Weeks</th>\n",
       "    </tr>\n",
       "  </thead>\n",
       "  <tbody>\n",
       "    <tr>\n",
       "      <th>0</th>\n",
       "      <td>Work From Home</td>\n",
       "      <td>Embedded Android Development</td>\n",
       "      <td>Augrade Private Limited</td>\n",
       "      <td>Selected intern's day-to-day responsibilities ...</td>\n",
       "      <td>Java\\nLinux\\nEmbedded Systems\\nC Programming\\n...</td>\n",
       "      <td>Only those candidates can apply who:\\n1. are a...</td>\n",
       "      <td>1. Experience in hands-on development and trou...</td>\n",
       "      <td>Certificate,Flexible work hours,5 days a week</td>\n",
       "      <td>2</td>\n",
       "      <td>At Augrade, we work to rethink tomorrow and im...</td>\n",
       "      <td>...</td>\n",
       "      <td>0</td>\n",
       "      <td>0</td>\n",
       "      <td>0</td>\n",
       "      <td>0</td>\n",
       "      <td>0</td>\n",
       "      <td>0</td>\n",
       "      <td>1</td>\n",
       "      <td>0</td>\n",
       "      <td>0</td>\n",
       "      <td>0</td>\n",
       "    </tr>\n",
       "    <tr>\n",
       "      <th>1</th>\n",
       "      <td>Work From Home</td>\n",
       "      <td>Technical Project Management</td>\n",
       "      <td>Zansys Technologies</td>\n",
       "      <td>Selected intern's day-to-day responsibilities ...</td>\n",
       "      <td>PHP\\nSoftware Testing\\nReactJS</td>\n",
       "      <td>Only those candidates can apply who:\\n1. are a...</td>\n",
       "      <td>NaN</td>\n",
       "      <td>Certificate,5 days a week</td>\n",
       "      <td>1</td>\n",
       "      <td>Website\\nZansys Technologies is a software ser...</td>\n",
       "      <td>...</td>\n",
       "      <td>0</td>\n",
       "      <td>0</td>\n",
       "      <td>0</td>\n",
       "      <td>0</td>\n",
       "      <td>1</td>\n",
       "      <td>0</td>\n",
       "      <td>0</td>\n",
       "      <td>0</td>\n",
       "      <td>0</td>\n",
       "      <td>0</td>\n",
       "    </tr>\n",
       "    <tr>\n",
       "      <th>2</th>\n",
       "      <td>Work From Home</td>\n",
       "      <td>Full Stack Development (Web+Flutter)</td>\n",
       "      <td>Rising Youth Foundation</td>\n",
       "      <td>Selected intern's day-to-day responsibilities ...</td>\n",
       "      <td>MongoDB\\nNode.js\\nFlutter\\nREST API\\nDart\\nAnd...</td>\n",
       "      <td>Only those candidates can apply who:\\n1. are a...</td>\n",
       "      <td>NaN</td>\n",
       "      <td>Certificate,Letter of recommendation</td>\n",
       "      <td>1</td>\n",
       "      <td>Facebook page\\nRising Youth Foundation is an A...</td>\n",
       "      <td>...</td>\n",
       "      <td>0</td>\n",
       "      <td>0</td>\n",
       "      <td>0</td>\n",
       "      <td>0</td>\n",
       "      <td>0</td>\n",
       "      <td>0</td>\n",
       "      <td>0</td>\n",
       "      <td>0</td>\n",
       "      <td>0</td>\n",
       "      <td>0</td>\n",
       "    </tr>\n",
       "    <tr>\n",
       "      <th>3</th>\n",
       "      <td>Aurangabad</td>\n",
       "      <td>Web Development</td>\n",
       "      <td>44property</td>\n",
       "      <td>NaN</td>\n",
       "      <td>HTML\\nCSS\\nJavaScript\\njQuery\\nMS-Office\\nWord...</td>\n",
       "      <td>Only those candidates can apply who:\\n1. are a...</td>\n",
       "      <td>NaN</td>\n",
       "      <td>Certificate,Letter of recommendation,Flexible ...</td>\n",
       "      <td>5</td>\n",
       "      <td>Website\\n44property is a website dedicated to ...</td>\n",
       "      <td>...</td>\n",
       "      <td>0</td>\n",
       "      <td>0</td>\n",
       "      <td>0</td>\n",
       "      <td>0</td>\n",
       "      <td>0</td>\n",
       "      <td>0</td>\n",
       "      <td>0</td>\n",
       "      <td>0</td>\n",
       "      <td>1</td>\n",
       "      <td>0</td>\n",
       "    </tr>\n",
       "    <tr>\n",
       "      <th>4</th>\n",
       "      <td>Work From Home</td>\n",
       "      <td>React Native Development</td>\n",
       "      <td>CogniAble</td>\n",
       "      <td>Selected intern's day-to-day responsibilities ...</td>\n",
       "      <td>HTML\\nCSS\\nReact Native\\nRedux</td>\n",
       "      <td>Only those candidates can apply who:\\n1. are a...</td>\n",
       "      <td>NaN</td>\n",
       "      <td>None</td>\n",
       "      <td>1</td>\n",
       "      <td>Website\\nCogniAble is an organization working ...</td>\n",
       "      <td>...</td>\n",
       "      <td>0</td>\n",
       "      <td>0</td>\n",
       "      <td>0</td>\n",
       "      <td>0</td>\n",
       "      <td>0</td>\n",
       "      <td>0</td>\n",
       "      <td>0</td>\n",
       "      <td>0</td>\n",
       "      <td>1</td>\n",
       "      <td>0</td>\n",
       "    </tr>\n",
       "    <tr>\n",
       "      <th>...</th>\n",
       "      <td>...</td>\n",
       "      <td>...</td>\n",
       "      <td>...</td>\n",
       "      <td>...</td>\n",
       "      <td>...</td>\n",
       "      <td>...</td>\n",
       "      <td>...</td>\n",
       "      <td>...</td>\n",
       "      <td>...</td>\n",
       "      <td>...</td>\n",
       "      <td>...</td>\n",
       "      <td>...</td>\n",
       "      <td>...</td>\n",
       "      <td>...</td>\n",
       "      <td>...</td>\n",
       "      <td>...</td>\n",
       "      <td>...</td>\n",
       "      <td>...</td>\n",
       "      <td>...</td>\n",
       "      <td>...</td>\n",
       "      <td>...</td>\n",
       "    </tr>\n",
       "    <tr>\n",
       "      <th>2369</th>\n",
       "      <td>Work From Home</td>\n",
       "      <td>Web Development</td>\n",
       "      <td>TMS Foundation (IndiaYouth.info)</td>\n",
       "      <td>Selected intern's day-to-day responsibilities ...</td>\n",
       "      <td>JavaScript\\nJoomla\\nLinux\\nCodeIgniter\\nLARAVE...</td>\n",
       "      <td>Only those candidates can apply who:\\n1. are a...</td>\n",
       "      <td>NaN</td>\n",
       "      <td>Certificate,Letter of recommendation,Flexible ...</td>\n",
       "      <td>3</td>\n",
       "      <td>Website\\nWe at TMS are a group of task-driven ...</td>\n",
       "      <td>...</td>\n",
       "      <td>0</td>\n",
       "      <td>0</td>\n",
       "      <td>1</td>\n",
       "      <td>0</td>\n",
       "      <td>0</td>\n",
       "      <td>0</td>\n",
       "      <td>0</td>\n",
       "      <td>0</td>\n",
       "      <td>0</td>\n",
       "      <td>0</td>\n",
       "    </tr>\n",
       "    <tr>\n",
       "      <th>2370</th>\n",
       "      <td>Work From Home</td>\n",
       "      <td>Convolution Neural Network</td>\n",
       "      <td>Xcitedu Software Solutions Private Limited</td>\n",
       "      <td>Selected intern's day-to-day responsibilities ...</td>\n",
       "      <td>JavaScript\\nMongoDB\\nMachine Learning\\nReact N...</td>\n",
       "      <td>Only those candidates can apply who:\\n1. are a...</td>\n",
       "      <td>NaN</td>\n",
       "      <td>None</td>\n",
       "      <td>20</td>\n",
       "      <td>Xcitedu is an online learning platform that pr...</td>\n",
       "      <td>...</td>\n",
       "      <td>0</td>\n",
       "      <td>0</td>\n",
       "      <td>0</td>\n",
       "      <td>0</td>\n",
       "      <td>0</td>\n",
       "      <td>0</td>\n",
       "      <td>0</td>\n",
       "      <td>0</td>\n",
       "      <td>1</td>\n",
       "      <td>0</td>\n",
       "    </tr>\n",
       "    <tr>\n",
       "      <th>2371</th>\n",
       "      <td>Work From Home</td>\n",
       "      <td>Web Development</td>\n",
       "      <td>Creatif Minds</td>\n",
       "      <td>1. Working on direct client projects and handl...</td>\n",
       "      <td>PHP\\nCSS\\nJavaScript\\nBootstrap\\nReactJS\\nSCSS...</td>\n",
       "      <td>Only those candidates can apply who:\\n1. are a...</td>\n",
       "      <td>NaN</td>\n",
       "      <td>Certificate,Letter of recommendation,Flexible ...</td>\n",
       "      <td>4</td>\n",
       "      <td>Creatif Minds offers professional and high-qua...</td>\n",
       "      <td>...</td>\n",
       "      <td>0</td>\n",
       "      <td>0</td>\n",
       "      <td>1</td>\n",
       "      <td>0</td>\n",
       "      <td>0</td>\n",
       "      <td>0</td>\n",
       "      <td>0</td>\n",
       "      <td>0</td>\n",
       "      <td>0</td>\n",
       "      <td>0</td>\n",
       "    </tr>\n",
       "    <tr>\n",
       "      <th>2372</th>\n",
       "      <td>Jaipur</td>\n",
       "      <td>Front End Development</td>\n",
       "      <td>Pingal IT Solutions</td>\n",
       "      <td>NaN</td>\n",
       "      <td>HTML\\nCSS\\nJavaScript\\nAdobe Photoshop\\nCorelD...</td>\n",
       "      <td>Only those candidates can apply who:\\n1. are a...</td>\n",
       "      <td>NaN</td>\n",
       "      <td>Certificate,Letter of recommendation,5 days a ...</td>\n",
       "      <td>2</td>\n",
       "      <td>LinkedIn page\\nPingal IT Solutions is a global...</td>\n",
       "      <td>...</td>\n",
       "      <td>0</td>\n",
       "      <td>0</td>\n",
       "      <td>1</td>\n",
       "      <td>0</td>\n",
       "      <td>0</td>\n",
       "      <td>0</td>\n",
       "      <td>0</td>\n",
       "      <td>0</td>\n",
       "      <td>0</td>\n",
       "      <td>0</td>\n",
       "    </tr>\n",
       "    <tr>\n",
       "      <th>2373</th>\n",
       "      <td>Work From Home</td>\n",
       "      <td>Front End Development</td>\n",
       "      <td>Skynox Tech</td>\n",
       "      <td>Selected intern's day-to-day responsibilities ...</td>\n",
       "      <td>HTML\\nCSS\\nJavaScript\\nMongoDB\\nNode.js\\nReact...</td>\n",
       "      <td>Only those candidates can apply who:\\n1. are a...</td>\n",
       "      <td>NaN</td>\n",
       "      <td>Certificate,Letter of recommendation</td>\n",
       "      <td>2</td>\n",
       "      <td>Website\\nSkynox Tech is a refreshingly new tak...</td>\n",
       "      <td>...</td>\n",
       "      <td>0</td>\n",
       "      <td>0</td>\n",
       "      <td>0</td>\n",
       "      <td>0</td>\n",
       "      <td>0</td>\n",
       "      <td>0</td>\n",
       "      <td>0</td>\n",
       "      <td>0</td>\n",
       "      <td>1</td>\n",
       "      <td>0</td>\n",
       "    </tr>\n",
       "  </tbody>\n",
       "</table>\n",
       "<p>2374 rows × 343 columns</p>\n",
       "</div>"
      ],
      "text/plain": [
       "            location                        domain_profile  \\\n",
       "0     Work From Home          Embedded Android Development   \n",
       "1     Work From Home          Technical Project Management   \n",
       "2     Work From Home  Full Stack Development (Web+Flutter)   \n",
       "3         Aurangabad                       Web Development   \n",
       "4     Work From Home              React Native Development   \n",
       "...              ...                                   ...   \n",
       "2369  Work From Home                       Web Development   \n",
       "2370  Work From Home            Convolution Neural Network   \n",
       "2371  Work From Home                       Web Development   \n",
       "2372          Jaipur                 Front End Development   \n",
       "2373  Work From Home                 Front End Development   \n",
       "\n",
       "                                    company_name  \\\n",
       "0                        Augrade Private Limited   \n",
       "1                            Zansys Technologies   \n",
       "2                        Rising Youth Foundation   \n",
       "3                                     44property   \n",
       "4                                      CogniAble   \n",
       "...                                          ...   \n",
       "2369            TMS Foundation (IndiaYouth.info)   \n",
       "2370  Xcitedu Software Solutions Private Limited   \n",
       "2371                               Creatif Minds   \n",
       "2372                         Pingal IT Solutions   \n",
       "2373                                 Skynox Tech   \n",
       "\n",
       "                about_the_work_from_home_job/internship  \\\n",
       "0     Selected intern's day-to-day responsibilities ...   \n",
       "1     Selected intern's day-to-day responsibilities ...   \n",
       "2     Selected intern's day-to-day responsibilities ...   \n",
       "3                                                   NaN   \n",
       "4     Selected intern's day-to-day responsibilities ...   \n",
       "...                                                 ...   \n",
       "2369  Selected intern's day-to-day responsibilities ...   \n",
       "2370  Selected intern's day-to-day responsibilities ...   \n",
       "2371  1. Working on direct client projects and handl...   \n",
       "2372                                                NaN   \n",
       "2373  Selected intern's day-to-day responsibilities ...   \n",
       "\n",
       "                                                 skills  \\\n",
       "0     Java\\nLinux\\nEmbedded Systems\\nC Programming\\n...   \n",
       "1                        PHP\\nSoftware Testing\\nReactJS   \n",
       "2     MongoDB\\nNode.js\\nFlutter\\nREST API\\nDart\\nAnd...   \n",
       "3     HTML\\nCSS\\nJavaScript\\njQuery\\nMS-Office\\nWord...   \n",
       "4                        HTML\\nCSS\\nReact Native\\nRedux   \n",
       "...                                                 ...   \n",
       "2369  JavaScript\\nJoomla\\nLinux\\nCodeIgniter\\nLARAVE...   \n",
       "2370  JavaScript\\nMongoDB\\nMachine Learning\\nReact N...   \n",
       "2371  PHP\\nCSS\\nJavaScript\\nBootstrap\\nReactJS\\nSCSS...   \n",
       "2372  HTML\\nCSS\\nJavaScript\\nAdobe Photoshop\\nCorelD...   \n",
       "2373  HTML\\nCSS\\nJavaScript\\nMongoDB\\nNode.js\\nReact...   \n",
       "\n",
       "                                          who_can_apply  \\\n",
       "0     Only those candidates can apply who:\\n1. are a...   \n",
       "1     Only those candidates can apply who:\\n1. are a...   \n",
       "2     Only those candidates can apply who:\\n1. are a...   \n",
       "3     Only those candidates can apply who:\\n1. are a...   \n",
       "4     Only those candidates can apply who:\\n1. are a...   \n",
       "...                                                 ...   \n",
       "2369  Only those candidates can apply who:\\n1. are a...   \n",
       "2370  Only those candidates can apply who:\\n1. are a...   \n",
       "2371  Only those candidates can apply who:\\n1. are a...   \n",
       "2372  Only those candidates can apply who:\\n1. are a...   \n",
       "2373  Only those candidates can apply who:\\n1. are a...   \n",
       "\n",
       "                                     other_requirements  \\\n",
       "0     1. Experience in hands-on development and trou...   \n",
       "1                                                   NaN   \n",
       "2                                                   NaN   \n",
       "3                                                   NaN   \n",
       "4                                                   NaN   \n",
       "...                                                 ...   \n",
       "2369                                                NaN   \n",
       "2370                                                NaN   \n",
       "2371                                                NaN   \n",
       "2372                                                NaN   \n",
       "2373                                                NaN   \n",
       "\n",
       "                                                  perks  number_of_openings  \\\n",
       "0         Certificate,Flexible work hours,5 days a week                   2   \n",
       "1                             Certificate,5 days a week                   1   \n",
       "2                  Certificate,Letter of recommendation                   1   \n",
       "3     Certificate,Letter of recommendation,Flexible ...                   5   \n",
       "4                                                  None                   1   \n",
       "...                                                 ...                 ...   \n",
       "2369  Certificate,Letter of recommendation,Flexible ...                   3   \n",
       "2370                                               None                  20   \n",
       "2371  Certificate,Letter of recommendation,Flexible ...                   4   \n",
       "2372  Certificate,Letter of recommendation,5 days a ...                   2   \n",
       "2373               Certificate,Letter of recommendation                   2   \n",
       "\n",
       "                                        company_details  ... 2 Months 2 Weeks  \\\n",
       "0     At Augrade, we work to rethink tomorrow and im...  ...        0       0   \n",
       "1     Website\\nZansys Technologies is a software ser...  ...        0       0   \n",
       "2     Facebook page\\nRising Youth Foundation is an A...  ...        0       0   \n",
       "3     Website\\n44property is a website dedicated to ...  ...        0       0   \n",
       "4     Website\\nCogniAble is an organization working ...  ...        0       0   \n",
       "...                                                 ...  ...      ...     ...   \n",
       "2369  Website\\nWe at TMS are a group of task-driven ...  ...        0       0   \n",
       "2370  Xcitedu is an online learning platform that pr...  ...        0       0   \n",
       "2371  Creatif Minds offers professional and high-qua...  ...        0       0   \n",
       "2372  LinkedIn page\\nPingal IT Solutions is a global...  ...        0       0   \n",
       "2373  Website\\nSkynox Tech is a refreshingly new tak...  ...        0       0   \n",
       "\n",
       "     3 Months 3 Weeks  4 Months  4 Weeks 5 Months 5 Weeks 6 Months  6 Weeks  \n",
       "0           0       0         0        0        1       0        0        0  \n",
       "1           0       0         1        0        0       0        0        0  \n",
       "2           0       0         0        0        0       0        0        0  \n",
       "3           0       0         0        0        0       0        1        0  \n",
       "4           0       0         0        0        0       0        1        0  \n",
       "...       ...     ...       ...      ...      ...     ...      ...      ...  \n",
       "2369        1       0         0        0        0       0        0        0  \n",
       "2370        0       0         0        0        0       0        1        0  \n",
       "2371        1       0         0        0        0       0        0        0  \n",
       "2372        1       0         0        0        0       0        0        0  \n",
       "2373        0       0         0        0        0       0        1        0  \n",
       "\n",
       "[2374 rows x 343 columns]"
      ]
     },
     "execution_count": 5,
     "metadata": {},
     "output_type": "execute_result"
    }
   ],
   "source": [
    "perk_ohe = df.perks.str.get_dummies(',')\n",
    "location_ohe = df.location.str.get_dummies(',')\n",
    "duration_ohe = pd.get_dummies(df.duration)\n",
    "pd.concat([df, perk_ohe, location_ohe, duration_ohe], axis=1)"
   ]
  },
  {
   "cell_type": "code",
   "execution_count": 6,
   "id": "be3c1c37",
   "metadata": {
    "ExecuteTime": {
     "end_time": "2021-07-06T05:16:38.659889Z",
     "start_time": "2021-07-06T05:16:38.653041Z"
    }
   },
   "outputs": [],
   "source": [
    "drop_cols = ['domain_profile', 'company_name', \n",
    "             'about_the_work_from_home_job/internship', \n",
    "             'who_can_apply', 'other_requirements',\n",
    "            'company_details', 'min_stipend', 'max_stipend', 'stipend',\n",
    "            'start_date', 'apply_by', 'about_the_internship', \n",
    "             'additional_information', 'about_part_time_job/internship', \n",
    "             'location', 'perks', 'skills', 'duration']\n",
    "\n",
    "df = df.drop(drop_cols, axis=1)"
   ]
  },
  {
   "cell_type": "code",
   "execution_count": 7,
   "id": "5b275b86",
   "metadata": {
    "ExecuteTime": {
     "end_time": "2021-07-06T05:16:38.668885Z",
     "start_time": "2021-07-06T05:16:38.661990Z"
    }
   },
   "outputs": [
    {
     "data": {
      "text/plain": [
       "['number_of_openings',\n",
       " 'is_part_time',\n",
       " 'applicants',\n",
       " '.NET',\n",
       " '3ds Max',\n",
       " 'AJAX',\n",
       " 'ANSYS',\n",
       " 'ARM Microcontroller',\n",
       " 'ASP.NET',\n",
       " 'Adobe After Effects',\n",
       " 'Adobe Creative Suite',\n",
       " 'Adobe Dreamweaver',\n",
       " 'Adobe Flash',\n",
       " 'Adobe Illustrator',\n",
       " 'Adobe Indesign',\n",
       " 'Adobe Photoshop',\n",
       " 'Adobe Photoshop Lightroom CC',\n",
       " 'Adobe Premiere Pro',\n",
       " 'Adobe XD',\n",
       " 'Algorithms',\n",
       " 'Amazon Web Server (AWS)',\n",
       " 'Amazon Web Services (AWS)',\n",
       " 'American English',\n",
       " 'Android',\n",
       " 'Angular 2.0',\n",
       " 'Angular 7.0',\n",
       " 'AngularJS',\n",
       " 'Animation',\n",
       " 'Ansible',\n",
       " 'Apache',\n",
       " 'Apache Cassandra',\n",
       " 'Arduino',\n",
       " 'Articulate 360',\n",
       " 'Articulate Storyline',\n",
       " 'Artifical Intelligence',\n",
       " 'Audio Editing',\n",
       " 'Autodesk Fusion 360',\n",
       " 'Autodesk Maya',\n",
       " 'BIG DATA ANALYTICS',\n",
       " 'Blender 3D',\n",
       " 'Blockchain',\n",
       " 'Blogging',\n",
       " 'Bootstrap',\n",
       " 'C Programming',\n",
       " 'C#',\n",
       " 'C#.NET',\n",
       " 'C++ Programming',\n",
       " 'CCNA',\n",
       " 'CI/CD',\n",
       " 'CMS',\n",
       " 'CSS',\n",
       " 'Catalyst MVC Web Framework',\n",
       " 'Chemistry',\n",
       " 'Cinema 4D',\n",
       " 'Circuit Design',\n",
       " 'Client Relationship',\n",
       " 'Cloud Computing',\n",
       " 'Cloud Firestore',\n",
       " 'CodeIgniter',\n",
       " 'Computer Networking',\n",
       " 'Computer Networks',\n",
       " 'Computer Vision',\n",
       " 'CorelDRAW',\n",
       " 'Creative Writing',\n",
       " 'Dart',\n",
       " 'Data Analytics',\n",
       " 'Data Science',\n",
       " 'Data Structures',\n",
       " 'Database Management System (DBMS)',\n",
       " 'Database Testing',\n",
       " 'Deep Learning',\n",
       " 'DevOps',\n",
       " 'Digital Marketing',\n",
       " 'Digital Signal Processing',\n",
       " 'DigitalOcean',\n",
       " 'Django',\n",
       " 'Docker',\n",
       " 'Docker Products',\n",
       " 'Drupal',\n",
       " 'Eclipse (IDE)',\n",
       " 'Economics',\n",
       " 'Elasticsearch',\n",
       " 'ElectronJS',\n",
       " 'Email Marketing',\n",
       " 'Embedded Systems',\n",
       " 'English Proficiency (Spoken)',\n",
       " 'English Proficiency (Written)',\n",
       " 'Ethereum',\n",
       " 'Ethical Hacking',\n",
       " 'Event Management',\n",
       " 'Express.js',\n",
       " 'FL Studio (formerly known as FruityLoops)',\n",
       " 'Facebook Marketing',\n",
       " 'Figma',\n",
       " 'Firebase',\n",
       " 'Firebase Cloud Messaging',\n",
       " 'Flask',\n",
       " 'Flutter',\n",
       " 'GUI Testing',\n",
       " 'Git Bash',\n",
       " 'Git SVN',\n",
       " 'GitHub',\n",
       " 'Golang',\n",
       " 'Google AdWords',\n",
       " 'Google Analytics',\n",
       " 'Google Cloud Computing',\n",
       " 'HTML',\n",
       " 'Hadoop',\n",
       " 'Heroku',\n",
       " 'Hibernate (Java)',\n",
       " 'Hindi Proficiency (Spoken)',\n",
       " 'Hindi Proficiency (Written)',\n",
       " 'Hyperledger',\n",
       " 'Image Processing',\n",
       " 'Inkscape',\n",
       " 'Internet of Things (IoT)',\n",
       " 'Ionic',\n",
       " 'J2EE',\n",
       " 'JSON',\n",
       " 'JSP',\n",
       " 'Java',\n",
       " 'JavaFX',\n",
       " 'JavaScript',\n",
       " 'Jenkins',\n",
       " 'Joomla',\n",
       " 'Julia',\n",
       " 'Kotlin',\n",
       " 'Kubernetes',\n",
       " 'LARAVEL',\n",
       " 'LaTeX',\n",
       " 'LabVIEW',\n",
       " 'Linux',\n",
       " 'MATLAB',\n",
       " 'MEAN/MERN Stack',\n",
       " 'MS SQL Server',\n",
       " 'MS-Excel',\n",
       " 'MS-Office',\n",
       " 'MS-PowerPoint',\n",
       " 'MS-Word',\n",
       " 'Machine Learning',\n",
       " 'Magento',\n",
       " 'Manual Testing',\n",
       " 'Materialize',\n",
       " 'Mathematics',\n",
       " 'Meteor JS Framework',\n",
       " 'Microsoft Azure',\n",
       " 'Microsoft PowerApps',\n",
       " 'Microsoft Visual Studio',\n",
       " 'Model View Controller(MVC)',\n",
       " 'Mojolicious MVC Web Framework',\n",
       " 'MongoDB',\n",
       " 'Moodle',\n",
       " 'MySQL',\n",
       " 'Natural Language Processing (NLP)',\n",
       " 'Neural Networks',\n",
       " 'Nginx',\n",
       " 'NoSQL',\n",
       " 'Node.js',\n",
       " 'OAuth',\n",
       " 'Objective C',\n",
       " 'Online Teaching',\n",
       " 'OpenCV',\n",
       " 'OpenCart',\n",
       " 'Oracle',\n",
       " 'PCB Design',\n",
       " 'PCB Soldering',\n",
       " 'PHP',\n",
       " 'PayPal API',\n",
       " 'Perl',\n",
       " 'PhoneGap',\n",
       " 'Photography',\n",
       " 'Physics',\n",
       " 'PostgreSQL',\n",
       " 'Power BI',\n",
       " 'Product Lifecycle Management(PLM)',\n",
       " 'Product Management',\n",
       " 'Project Management',\n",
       " 'Python',\n",
       " 'R Programming',\n",
       " 'REST API',\n",
       " 'Rapid Prototyping',\n",
       " 'Raspberry Pi',\n",
       " 'React Native',\n",
       " 'ReactJS',\n",
       " 'Reaction Commerce',\n",
       " 'Redux',\n",
       " 'Report Writing',\n",
       " 'Research and Analytics',\n",
       " 'Robotic Process Automation (RPA)',\n",
       " 'Robotics',\n",
       " 'Ruby on Rails',\n",
       " 'SAP',\n",
       " 'SAS',\n",
       " 'SCSS',\n",
       " 'SQL',\n",
       " 'SQLite',\n",
       " 'Salesforce',\n",
       " 'Sass',\n",
       " 'Search Engine Marketing (SEM)',\n",
       " 'Search Engine Optimization (SEO)',\n",
       " 'Servlets',\n",
       " 'SharePoint',\n",
       " 'Shell Scripting',\n",
       " 'Sketch',\n",
       " 'Social Media Marketing',\n",
       " 'Software Testing',\n",
       " 'SolidWorks',\n",
       " 'Spring MVC',\n",
       " 'Statistical Modeling',\n",
       " 'Stock Trading',\n",
       " 'Storyboarding',\n",
       " 'Stripe Payment API',\n",
       " 'Swift',\n",
       " 'Swing (Java)',\n",
       " 'Symfony',\n",
       " 'Tableau',\n",
       " 'Teaching',\n",
       " 'TypeScript',\n",
       " 'UI & UX Design',\n",
       " 'Unity 3D',\n",
       " 'Unity Engine',\n",
       " 'Unix',\n",
       " 'Unreal Engine',\n",
       " 'User Interface (UI) Development',\n",
       " 'VAPT',\n",
       " 'Video Editing',\n",
       " 'Video Making',\n",
       " 'Visual Basic (VB)',\n",
       " 'Vue Js',\n",
       " 'Web Application Security',\n",
       " 'Webflow',\n",
       " 'Windows Mobile Application Development',\n",
       " 'Wireframing',\n",
       " 'WordPress',\n",
       " 'XML',\n",
       " 'Xamarin',\n",
       " 'Xcode',\n",
       " 'Yii',\n",
       " 'iOS',\n",
       " 'jQuery',\n",
       " 'mean_stipend']"
      ]
     },
     "execution_count": 7,
     "metadata": {},
     "output_type": "execute_result"
    }
   ],
   "source": [
    "df.columns.tolist()"
   ]
  },
  {
   "cell_type": "markdown",
   "id": "6ea6ba94",
   "metadata": {},
   "source": [
    "## Modelling\n",
    "\n",
    "Stipend Prediction based on Skills, duration, perks, location"
   ]
  },
  {
   "cell_type": "code",
   "execution_count": 8,
   "id": "c899e6bc",
   "metadata": {
    "ExecuteTime": {
     "end_time": "2021-07-06T05:16:38.699785Z",
     "start_time": "2021-07-06T05:16:38.670807Z"
    }
   },
   "outputs": [
    {
     "data": {
      "text/html": [
       "<div>\n",
       "<style scoped>\n",
       "    .dataframe tbody tr th:only-of-type {\n",
       "        vertical-align: middle;\n",
       "    }\n",
       "\n",
       "    .dataframe tbody tr th {\n",
       "        vertical-align: top;\n",
       "    }\n",
       "\n",
       "    .dataframe thead th {\n",
       "        text-align: right;\n",
       "    }\n",
       "</style>\n",
       "<table border=\"1\" class=\"dataframe\">\n",
       "  <thead>\n",
       "    <tr style=\"text-align: right;\">\n",
       "      <th></th>\n",
       "      <th>number_of_openings</th>\n",
       "      <th>is_part_time</th>\n",
       "      <th>applicants</th>\n",
       "      <th>.NET</th>\n",
       "      <th>3ds Max</th>\n",
       "      <th>AJAX</th>\n",
       "      <th>ANSYS</th>\n",
       "      <th>ARM Microcontroller</th>\n",
       "      <th>ASP.NET</th>\n",
       "      <th>Adobe After Effects</th>\n",
       "      <th>...</th>\n",
       "      <th>Windows Mobile Application Development</th>\n",
       "      <th>Wireframing</th>\n",
       "      <th>WordPress</th>\n",
       "      <th>XML</th>\n",
       "      <th>Xamarin</th>\n",
       "      <th>Xcode</th>\n",
       "      <th>Yii</th>\n",
       "      <th>iOS</th>\n",
       "      <th>jQuery</th>\n",
       "      <th>mean_stipend</th>\n",
       "    </tr>\n",
       "  </thead>\n",
       "  <tbody>\n",
       "    <tr>\n",
       "      <th>0</th>\n",
       "      <td>2</td>\n",
       "      <td>1</td>\n",
       "      <td>295</td>\n",
       "      <td>0</td>\n",
       "      <td>0</td>\n",
       "      <td>0</td>\n",
       "      <td>0</td>\n",
       "      <td>0</td>\n",
       "      <td>0</td>\n",
       "      <td>0</td>\n",
       "      <td>...</td>\n",
       "      <td>0</td>\n",
       "      <td>0</td>\n",
       "      <td>0</td>\n",
       "      <td>0</td>\n",
       "      <td>0</td>\n",
       "      <td>0</td>\n",
       "      <td>0</td>\n",
       "      <td>0</td>\n",
       "      <td>0</td>\n",
       "      <td>11500.0</td>\n",
       "    </tr>\n",
       "    <tr>\n",
       "      <th>1</th>\n",
       "      <td>1</td>\n",
       "      <td>0</td>\n",
       "      <td>56</td>\n",
       "      <td>0</td>\n",
       "      <td>0</td>\n",
       "      <td>0</td>\n",
       "      <td>0</td>\n",
       "      <td>0</td>\n",
       "      <td>0</td>\n",
       "      <td>0</td>\n",
       "      <td>...</td>\n",
       "      <td>0</td>\n",
       "      <td>0</td>\n",
       "      <td>0</td>\n",
       "      <td>0</td>\n",
       "      <td>0</td>\n",
       "      <td>0</td>\n",
       "      <td>0</td>\n",
       "      <td>0</td>\n",
       "      <td>0</td>\n",
       "      <td>10000.0</td>\n",
       "    </tr>\n",
       "    <tr>\n",
       "      <th>2</th>\n",
       "      <td>1</td>\n",
       "      <td>0</td>\n",
       "      <td>30</td>\n",
       "      <td>0</td>\n",
       "      <td>0</td>\n",
       "      <td>0</td>\n",
       "      <td>0</td>\n",
       "      <td>0</td>\n",
       "      <td>0</td>\n",
       "      <td>0</td>\n",
       "      <td>...</td>\n",
       "      <td>0</td>\n",
       "      <td>0</td>\n",
       "      <td>0</td>\n",
       "      <td>0</td>\n",
       "      <td>0</td>\n",
       "      <td>0</td>\n",
       "      <td>0</td>\n",
       "      <td>0</td>\n",
       "      <td>0</td>\n",
       "      <td>6250.0</td>\n",
       "    </tr>\n",
       "    <tr>\n",
       "      <th>3</th>\n",
       "      <td>5</td>\n",
       "      <td>0</td>\n",
       "      <td>33</td>\n",
       "      <td>0</td>\n",
       "      <td>0</td>\n",
       "      <td>0</td>\n",
       "      <td>0</td>\n",
       "      <td>0</td>\n",
       "      <td>0</td>\n",
       "      <td>0</td>\n",
       "      <td>...</td>\n",
       "      <td>0</td>\n",
       "      <td>0</td>\n",
       "      <td>1</td>\n",
       "      <td>0</td>\n",
       "      <td>0</td>\n",
       "      <td>0</td>\n",
       "      <td>0</td>\n",
       "      <td>0</td>\n",
       "      <td>1</td>\n",
       "      <td>2000.0</td>\n",
       "    </tr>\n",
       "    <tr>\n",
       "      <th>4</th>\n",
       "      <td>1</td>\n",
       "      <td>0</td>\n",
       "      <td>48</td>\n",
       "      <td>0</td>\n",
       "      <td>0</td>\n",
       "      <td>0</td>\n",
       "      <td>0</td>\n",
       "      <td>0</td>\n",
       "      <td>0</td>\n",
       "      <td>0</td>\n",
       "      <td>...</td>\n",
       "      <td>0</td>\n",
       "      <td>0</td>\n",
       "      <td>0</td>\n",
       "      <td>0</td>\n",
       "      <td>0</td>\n",
       "      <td>0</td>\n",
       "      <td>0</td>\n",
       "      <td>0</td>\n",
       "      <td>0</td>\n",
       "      <td>10000.0</td>\n",
       "    </tr>\n",
       "    <tr>\n",
       "      <th>...</th>\n",
       "      <td>...</td>\n",
       "      <td>...</td>\n",
       "      <td>...</td>\n",
       "      <td>...</td>\n",
       "      <td>...</td>\n",
       "      <td>...</td>\n",
       "      <td>...</td>\n",
       "      <td>...</td>\n",
       "      <td>...</td>\n",
       "      <td>...</td>\n",
       "      <td>...</td>\n",
       "      <td>...</td>\n",
       "      <td>...</td>\n",
       "      <td>...</td>\n",
       "      <td>...</td>\n",
       "      <td>...</td>\n",
       "      <td>...</td>\n",
       "      <td>...</td>\n",
       "      <td>...</td>\n",
       "      <td>...</td>\n",
       "      <td>...</td>\n",
       "    </tr>\n",
       "    <tr>\n",
       "      <th>2369</th>\n",
       "      <td>3</td>\n",
       "      <td>1</td>\n",
       "      <td>37</td>\n",
       "      <td>0</td>\n",
       "      <td>0</td>\n",
       "      <td>0</td>\n",
       "      <td>0</td>\n",
       "      <td>0</td>\n",
       "      <td>0</td>\n",
       "      <td>0</td>\n",
       "      <td>...</td>\n",
       "      <td>0</td>\n",
       "      <td>0</td>\n",
       "      <td>0</td>\n",
       "      <td>0</td>\n",
       "      <td>0</td>\n",
       "      <td>0</td>\n",
       "      <td>0</td>\n",
       "      <td>0</td>\n",
       "      <td>0</td>\n",
       "      <td>0.0</td>\n",
       "    </tr>\n",
       "    <tr>\n",
       "      <th>2370</th>\n",
       "      <td>20</td>\n",
       "      <td>0</td>\n",
       "      <td>194</td>\n",
       "      <td>0</td>\n",
       "      <td>0</td>\n",
       "      <td>0</td>\n",
       "      <td>0</td>\n",
       "      <td>0</td>\n",
       "      <td>0</td>\n",
       "      <td>0</td>\n",
       "      <td>...</td>\n",
       "      <td>0</td>\n",
       "      <td>0</td>\n",
       "      <td>0</td>\n",
       "      <td>0</td>\n",
       "      <td>0</td>\n",
       "      <td>0</td>\n",
       "      <td>0</td>\n",
       "      <td>0</td>\n",
       "      <td>0</td>\n",
       "      <td>0.0</td>\n",
       "    </tr>\n",
       "    <tr>\n",
       "      <th>2371</th>\n",
       "      <td>4</td>\n",
       "      <td>0</td>\n",
       "      <td>109</td>\n",
       "      <td>0</td>\n",
       "      <td>0</td>\n",
       "      <td>0</td>\n",
       "      <td>0</td>\n",
       "      <td>0</td>\n",
       "      <td>0</td>\n",
       "      <td>0</td>\n",
       "      <td>...</td>\n",
       "      <td>0</td>\n",
       "      <td>0</td>\n",
       "      <td>0</td>\n",
       "      <td>0</td>\n",
       "      <td>0</td>\n",
       "      <td>0</td>\n",
       "      <td>0</td>\n",
       "      <td>0</td>\n",
       "      <td>0</td>\n",
       "      <td>1000.0</td>\n",
       "    </tr>\n",
       "    <tr>\n",
       "      <th>2372</th>\n",
       "      <td>2</td>\n",
       "      <td>0</td>\n",
       "      <td>0</td>\n",
       "      <td>0</td>\n",
       "      <td>0</td>\n",
       "      <td>0</td>\n",
       "      <td>0</td>\n",
       "      <td>0</td>\n",
       "      <td>0</td>\n",
       "      <td>0</td>\n",
       "      <td>...</td>\n",
       "      <td>0</td>\n",
       "      <td>0</td>\n",
       "      <td>0</td>\n",
       "      <td>0</td>\n",
       "      <td>0</td>\n",
       "      <td>0</td>\n",
       "      <td>0</td>\n",
       "      <td>0</td>\n",
       "      <td>0</td>\n",
       "      <td>2000.0</td>\n",
       "    </tr>\n",
       "    <tr>\n",
       "      <th>2373</th>\n",
       "      <td>2</td>\n",
       "      <td>0</td>\n",
       "      <td>162</td>\n",
       "      <td>0</td>\n",
       "      <td>0</td>\n",
       "      <td>0</td>\n",
       "      <td>0</td>\n",
       "      <td>0</td>\n",
       "      <td>0</td>\n",
       "      <td>0</td>\n",
       "      <td>...</td>\n",
       "      <td>0</td>\n",
       "      <td>0</td>\n",
       "      <td>0</td>\n",
       "      <td>0</td>\n",
       "      <td>0</td>\n",
       "      <td>0</td>\n",
       "      <td>0</td>\n",
       "      <td>0</td>\n",
       "      <td>0</td>\n",
       "      <td>5000.0</td>\n",
       "    </tr>\n",
       "  </tbody>\n",
       "</table>\n",
       "<p>2374 rows × 241 columns</p>\n",
       "</div>"
      ],
      "text/plain": [
       "      number_of_openings  is_part_time  applicants  .NET  3ds Max  AJAX  \\\n",
       "0                      2             1         295     0        0     0   \n",
       "1                      1             0          56     0        0     0   \n",
       "2                      1             0          30     0        0     0   \n",
       "3                      5             0          33     0        0     0   \n",
       "4                      1             0          48     0        0     0   \n",
       "...                  ...           ...         ...   ...      ...   ...   \n",
       "2369                   3             1          37     0        0     0   \n",
       "2370                  20             0         194     0        0     0   \n",
       "2371                   4             0         109     0        0     0   \n",
       "2372                   2             0           0     0        0     0   \n",
       "2373                   2             0         162     0        0     0   \n",
       "\n",
       "      ANSYS  ARM Microcontroller  ASP.NET  Adobe After Effects  ...  \\\n",
       "0         0                    0        0                    0  ...   \n",
       "1         0                    0        0                    0  ...   \n",
       "2         0                    0        0                    0  ...   \n",
       "3         0                    0        0                    0  ...   \n",
       "4         0                    0        0                    0  ...   \n",
       "...     ...                  ...      ...                  ...  ...   \n",
       "2369      0                    0        0                    0  ...   \n",
       "2370      0                    0        0                    0  ...   \n",
       "2371      0                    0        0                    0  ...   \n",
       "2372      0                    0        0                    0  ...   \n",
       "2373      0                    0        0                    0  ...   \n",
       "\n",
       "      Windows Mobile Application Development  Wireframing  WordPress  XML  \\\n",
       "0                                          0            0          0    0   \n",
       "1                                          0            0          0    0   \n",
       "2                                          0            0          0    0   \n",
       "3                                          0            0          1    0   \n",
       "4                                          0            0          0    0   \n",
       "...                                      ...          ...        ...  ...   \n",
       "2369                                       0            0          0    0   \n",
       "2370                                       0            0          0    0   \n",
       "2371                                       0            0          0    0   \n",
       "2372                                       0            0          0    0   \n",
       "2373                                       0            0          0    0   \n",
       "\n",
       "      Xamarin  Xcode  Yii  iOS  jQuery  mean_stipend  \n",
       "0           0      0    0    0       0       11500.0  \n",
       "1           0      0    0    0       0       10000.0  \n",
       "2           0      0    0    0       0        6250.0  \n",
       "3           0      0    0    0       1        2000.0  \n",
       "4           0      0    0    0       0       10000.0  \n",
       "...       ...    ...  ...  ...     ...           ...  \n",
       "2369        0      0    0    0       0           0.0  \n",
       "2370        0      0    0    0       0           0.0  \n",
       "2371        0      0    0    0       0        1000.0  \n",
       "2372        0      0    0    0       0        2000.0  \n",
       "2373        0      0    0    0       0        5000.0  \n",
       "\n",
       "[2374 rows x 241 columns]"
      ]
     },
     "execution_count": 8,
     "metadata": {},
     "output_type": "execute_result"
    }
   ],
   "source": [
    "df"
   ]
  },
  {
   "cell_type": "code",
   "execution_count": 9,
   "id": "e0df1917",
   "metadata": {
    "ExecuteTime": {
     "end_time": "2021-07-06T05:16:38.712567Z",
     "start_time": "2021-07-06T05:16:38.703913Z"
    }
   },
   "outputs": [],
   "source": [
    "X, y = df.drop('mean_stipend', axis=1), df.mean_stipend\n",
    "\n",
    "x_train,x_test, y_train, y_test = train_test_split(X,y,test_size=0.10)"
   ]
  },
  {
   "cell_type": "markdown",
   "id": "f88e330b",
   "metadata": {},
   "source": [
    "### Building an Ad Hoc Model"
   ]
  },
  {
   "cell_type": "code",
   "execution_count": 69,
   "id": "4d1c1933",
   "metadata": {
    "ExecuteTime": {
     "end_time": "2021-07-06T06:34:35.202497Z",
     "start_time": "2021-07-06T06:34:27.325781Z"
    }
   },
   "outputs": [
    {
     "data": {
      "text/plain": [
       "RandomForestRegressor(n_estimators=400)"
      ]
     },
     "execution_count": 69,
     "metadata": {},
     "output_type": "execute_result"
    }
   ],
   "source": [
    "random_forest_model = RandomForestRegressor(n_estimators=400)\n",
    "\n",
    "random_forest_model.fit(x_train, y_train)"
   ]
  },
  {
   "cell_type": "code",
   "execution_count": 70,
   "id": "44a1f185",
   "metadata": {
    "ExecuteTime": {
     "end_time": "2021-07-06T06:35:31.065623Z",
     "start_time": "2021-07-06T06:35:30.995459Z"
    }
   },
   "outputs": [],
   "source": [
    "prediction  = random_forest_model.predict(x_test)"
   ]
  },
  {
   "cell_type": "code",
   "execution_count": 71,
   "id": "d67e844c",
   "metadata": {
    "ExecuteTime": {
     "end_time": "2021-07-06T06:35:32.086086Z",
     "start_time": "2021-07-06T06:35:32.019007Z"
    }
   },
   "outputs": [
    {
     "data": {
      "text/plain": [
       "0.3335715994365913"
      ]
     },
     "execution_count": 71,
     "metadata": {},
     "output_type": "execute_result"
    }
   ],
   "source": [
    "random_forest_model.score(x_test, y_test)"
   ]
  },
  {
   "cell_type": "code",
   "execution_count": 72,
   "id": "59f372d3",
   "metadata": {
    "ExecuteTime": {
     "end_time": "2021-07-06T06:35:35.824082Z",
     "start_time": "2021-07-06T06:35:35.819559Z"
    }
   },
   "outputs": [
    {
     "data": {
      "text/plain": [
       "5042.588499784311"
      ]
     },
     "execution_count": 72,
     "metadata": {},
     "output_type": "execute_result"
    }
   ],
   "source": [
    "mean_squared_error(y_test, prediction, squared=False)"
   ]
  },
  {
   "cell_type": "code",
   "execution_count": 13,
   "id": "069722cd",
   "metadata": {
    "ExecuteTime": {
     "end_time": "2021-07-06T05:16:40.796600Z",
     "start_time": "2021-07-06T05:16:40.788424Z"
    }
   },
   "outputs": [
    {
     "data": {
      "text/plain": [
       "1391    20000.0\n",
       "1923     2000.0\n",
       "2327     4000.0\n",
       "2325     8500.0\n",
       "1528     1000.0\n",
       "         ...   \n",
       "1679    22500.0\n",
       "1810    12000.0\n",
       "68       1000.0\n",
       "1196     4250.0\n",
       "925      9000.0\n",
       "Name: mean_stipend, Length: 238, dtype: float64"
      ]
     },
     "execution_count": 13,
     "metadata": {},
     "output_type": "execute_result"
    }
   ],
   "source": [
    "y_test"
   ]
  },
  {
   "cell_type": "code",
   "execution_count": 63,
   "id": "d4bfe706",
   "metadata": {
    "ExecuteTime": {
     "end_time": "2021-07-06T06:19:23.012064Z",
     "start_time": "2021-07-06T06:19:23.007321Z"
    }
   },
   "outputs": [
    {
     "data": {
      "text/plain": [
       "3324.4615491831382"
      ]
     },
     "execution_count": 63,
     "metadata": {},
     "output_type": "execute_result"
    }
   ],
   "source": [
    "np.abs(y_test - prediction).mean()"
   ]
  },
  {
   "cell_type": "markdown",
   "id": "86696ce2",
   "metadata": {
    "ExecuteTime": {
     "end_time": "2021-07-06T05:18:22.827736Z",
     "start_time": "2021-07-06T05:18:22.823554Z"
    },
    "heading_collapsed": true
   },
   "source": [
    "### Hyperparameter Tuning"
   ]
  },
  {
   "cell_type": "code",
   "execution_count": 73,
   "id": "c47395f2",
   "metadata": {
    "ExecuteTime": {
     "end_time": "2021-07-06T06:38:30.379132Z",
     "start_time": "2021-07-06T06:35:50.931387Z"
    },
    "hidden": true
   },
   "outputs": [
    {
     "name": "stdout",
     "output_type": "stream",
     "text": [
      "Fitting 5 folds for each of 100 candidates, totalling 500 fits\n",
      "0.1935885780108828\n",
      "-26099236.413385745\n"
     ]
    },
    {
     "data": {
      "text/plain": [
       "7467.697491011775"
      ]
     },
     "execution_count": 73,
     "metadata": {},
     "output_type": "execute_result"
    }
   ],
   "source": [
    "max_depth = np.ceil(np.log2(df.shape[0]))\n",
    "\n",
    "min_depth = np.floor(max_depth/2)\n",
    "\n",
    "param_tune = {\n",
    "             'n_estimators': [100,200,300,400],\n",
    "             'max_features': ['auto','sqrt','log2'],\n",
    "             'max_leaf_nodes':[400,800,1200,],\n",
    "             'max_depth':np.arange(min_depth,max_depth),\n",
    "             'min_samples_leaf':np.arange(1,10)\n",
    "}\n",
    "\n",
    "base_model = RandomForestRegressor()\n",
    "rs = RandomizedSearchCV(base_model , param_tune, n_jobs=-1, cv=5, verbose=10, scoring='neg_mean_squared_error', n_iter=100)\n",
    "\n",
    "rs.fit(x_train,y_train)\n",
    "\n",
    "print(rs.best_estimator_.score(x_test,y_test))\n",
    "print(rs.best_score_)\n",
    "np.abs(rs.best_estimator_.score(x_test,y_test) - prediction).mean()"
   ]
  },
  {
   "cell_type": "code",
   "execution_count": 67,
   "id": "ca452111",
   "metadata": {
    "ExecuteTime": {
     "end_time": "2021-07-06T06:31:49.516202Z",
     "start_time": "2021-07-06T06:31:49.466021Z"
    },
    "hidden": true
   },
   "outputs": [
    {
     "data": {
      "text/plain": [
       "7427.158617970578"
      ]
     },
     "execution_count": 67,
     "metadata": {},
     "output_type": "execute_result"
    }
   ],
   "source": [
    "np.abs(rs.best_estimator_.score(x_test,y_test) - prediction).mean()"
   ]
  },
  {
   "cell_type": "code",
   "execution_count": 68,
   "id": "2c96592a",
   "metadata": {
    "ExecuteTime": {
     "end_time": "2021-07-06T06:32:05.773678Z",
     "start_time": "2021-07-06T06:32:05.722064Z"
    },
    "hidden": true
   },
   "outputs": [
    {
     "data": {
      "text/plain": [
       "5494.871578100364"
      ]
     },
     "execution_count": 68,
     "metadata": {},
     "output_type": "execute_result"
    }
   ],
   "source": [
    "mean_squared_error(rs.best_estimator_.predict(x_test), y_test, squared=False)"
   ]
  },
  {
   "cell_type": "code",
   "execution_count": 52,
   "id": "76ebca47",
   "metadata": {
    "ExecuteTime": {
     "end_time": "2021-07-06T06:01:37.974603Z",
     "start_time": "2021-07-06T06:01:37.264289Z"
    },
    "hidden": true
   },
   "outputs": [
    {
     "data": {
      "text/plain": [
       "6022.713350633436"
      ]
     },
     "execution_count": 52,
     "metadata": {},
     "output_type": "execute_result"
    }
   ],
   "source": [
    "fine_tuned_estimator = RandomForestRegressor(max_depth=6.0, max_features='sqrt', max_leaf_nodes=1200,\n",
    "                      min_samples_leaf=7, n_estimators=400)\n",
    "fine_tuned_estimator.fit(x_train, y_train)\n",
    "fine_tune_preds = fine_tuned_estimator.predict(x_test)\n",
    "mean_squared_error(y_test, fine_tune_preds, squared=False)"
   ]
  },
  {
   "cell_type": "code",
   "execution_count": 33,
   "id": "a4f27388",
   "metadata": {
    "ExecuteTime": {
     "end_time": "2021-07-06T05:36:32.100359Z",
     "start_time": "2021-07-06T05:36:32.095721Z"
    },
    "hidden": true
   },
   "outputs": [
    {
     "data": {
      "text/plain": [
       "dict_keys(['bootstrap', 'ccp_alpha', 'criterion', 'max_depth', 'max_features', 'max_leaf_nodes', 'max_samples', 'min_impurity_decrease', 'min_impurity_split', 'min_samples_leaf', 'min_samples_split', 'min_weight_fraction_leaf', 'n_estimators', 'n_jobs', 'oob_score', 'random_state', 'verbose', 'warm_start'])"
      ]
     },
     "execution_count": 33,
     "metadata": {},
     "output_type": "execute_result"
    }
   ],
   "source": [
    "base_model.get_params().keys()"
   ]
  },
  {
   "cell_type": "markdown",
   "id": "31f59d04",
   "metadata": {},
   "source": [
    "### Feature Importance"
   ]
  },
  {
   "cell_type": "code",
   "execution_count": 93,
   "id": "b9166373",
   "metadata": {
    "ExecuteTime": {
     "end_time": "2021-07-06T06:50:44.371149Z",
     "start_time": "2021-07-06T06:50:44.298895Z"
    }
   },
   "outputs": [
    {
     "name": "stdout",
     "output_type": "stream",
     "text": [
      "Elapsed time to compute the importances: 0.069 seconds\n"
     ]
    }
   ],
   "source": [
    "start_time = time.time()\n",
    "importances = random_forest_model.feature_importances_\n",
    "std = np.std([\n",
    "    tree.feature_importances_ for tree in random_forest_model.estimators_], axis=0)\n",
    "elapsed_time = time.time() - start_time\n",
    "\n",
    "print(f\"Elapsed time to compute the importances: \"\n",
    "      f\"{elapsed_time:.3f} seconds\")"
   ]
  },
  {
   "cell_type": "code",
   "execution_count": 94,
   "id": "e048c332",
   "metadata": {
    "ExecuteTime": {
     "end_time": "2021-07-06T06:50:45.716542Z",
     "start_time": "2021-07-06T06:50:45.712779Z"
    }
   },
   "outputs": [],
   "source": [
    "forest_importances = pd.DataFrame({'importance':importances, 'feature_name':x_train.columns.tolist()})"
   ]
  },
  {
   "cell_type": "code",
   "execution_count": 101,
   "id": "d8b9c8eb",
   "metadata": {
    "ExecuteTime": {
     "end_time": "2021-07-06T06:52:52.792248Z",
     "start_time": "2021-07-06T06:52:52.788636Z"
    }
   },
   "outputs": [],
   "source": [
    "forest_importances.sort_values(by='importance', ascending=False,  inplace=True)"
   ]
  },
  {
   "cell_type": "code",
   "execution_count": 110,
   "id": "73f94586",
   "metadata": {
    "ExecuteTime": {
     "end_time": "2021-07-06T06:54:53.346500Z",
     "start_time": "2021-07-06T06:54:53.089737Z"
    }
   },
   "outputs": [
    {
     "name": "stderr",
     "output_type": "stream",
     "text": [
      "/Users/admin/Projects/Msc/Data Mining/mining-env/lib/python3.9/site-packages/seaborn/_decorators.py:36: FutureWarning: Pass the following variables as keyword args: x, y. From version 0.12, the only valid positional argument will be `data`, and passing other arguments without an explicit keyword will result in an error or misinterpretation.\n",
      "  warnings.warn(\n"
     ]
    },
    {
     "data": {
      "text/plain": [
       "Text(0.5, 1.0, 'Feature Importance of Trained RF for predicting Stipend')"
      ]
     },
     "execution_count": 110,
     "metadata": {},
     "output_type": "execute_result"
    },
    {
     "data": {
      "image/png": "[encoded data removed]",
      "text/plain": [
       "<Figure size 720x720 with 1 Axes>"
      ]
     },
     "metadata": {
      "needs_background": "light"
     },
     "output_type": "display_data"
    }
   ],
   "source": [
    "plt.figure(figsize=(10,10))\n",
    "ax = sns.barplot(forest_importances.importance[:15], forest_importances.feature_name[:15])\n",
    "ax.set_title('Feature Importance of Trained RF for predicting Stipend')"
   ]
  }
 ],
 "metadata": {
  "kernelspec": {
   "display_name": "Python 3",
   "language": "python",
   "name": "python3"
  },
  "language_info": {
   "codemirror_mode": {
    "name": "ipython",
    "version": 3
   },
   "file_extension": ".py",
   "mimetype": "text/x-python",
   "name": "python",
   "nbconvert_exporter": "python",
   "pygments_lexer": "ipython3",
   "version": "3.9.5"
  }
 },
 "nbformat": 4,
 "nbformat_minor": 5
}
